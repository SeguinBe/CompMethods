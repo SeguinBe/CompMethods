{
 "cells": [
  {
   "cell_type": "markdown",
   "metadata": {},
   "source": [
    "## Installation\n",
    "\n",
    "Before starting you need to install spacy. Open a console/terminal/or powershell (from anaconda navigator) and run `conda install -c conda-forge spacy` then download the medium-sized english model `python -m spacy download en_core_web_md`.\n",
    "\n",
    "Also install tqdm `conda install tqdm`, a useful loading bar for long operations.\n",
    "\n",
    "You might need to restart this notebook (`Kernel` -> `restart` above)."
   ]
  },
  {
   "cell_type": "markdown",
   "metadata": {},
   "source": [
    "## Load a model"
   ]
  },
  {
   "cell_type": "code",
   "execution_count": 1,
   "metadata": {},
   "outputs": [],
   "source": [
    "import spacy\n",
    "from spacy import displacy\n",
    "nlp = spacy.load('en_core_web_md')"
   ]
  },
  {
   "cell_type": "code",
   "execution_count": 2,
   "metadata": {},
   "outputs": [],
   "source": [
    "# Processing some text\n",
    "doc = nlp('Andrea Palladio was an Italian architect. This course is supposed to be about natural language processing.')"
   ]
  },
  {
   "cell_type": "markdown",
   "metadata": {},
   "source": [
    "## Tokenization / Lemmatization"
   ]
  },
  {
   "cell_type": "code",
   "execution_count": 3,
   "metadata": {},
   "outputs": [
    {
     "name": "stdout",
     "output_type": "stream",
     "text": [
      "Andrea -> Andrea\n",
      "Palladio -> Palladio\n",
      "was -> be\n",
      "an -> an\n",
      "Italian -> italian\n",
      "architect -> architect\n",
      ". -> .\n",
      "This -> this\n",
      "course -> course\n",
      "is -> be\n",
      "supposed -> suppose\n",
      "to -> to\n",
      "be -> be\n",
      "about -> about\n",
      "natural -> natural\n",
      "language -> language\n",
      "processing -> processing\n",
      ". -> .\n"
     ]
    }
   ],
   "source": [
    "for token in doc:\n",
    "    print(token.text, token.lemma_, sep=' -> ')"
   ]
  },
  {
   "cell_type": "code",
   "execution_count": 4,
   "metadata": {},
   "outputs": [
    {
     "name": "stdout",
     "output_type": "stream",
     "text": [
      "Italian\n",
      "<class 'spacy.tokens.token.Token'>\n",
      "<spacy.vocab.Vocab object at 0x7f75981f1cc8>\n"
     ]
    }
   ],
   "source": [
    "# Warning that a token will always display its text by default, but it is a much more complex object with many attributes\n",
    "token = doc[4]\n",
    "print(token)\n",
    "print(type(token))\n",
    "print(token.vocab)"
   ]
  },
  {
   "cell_type": "markdown",
   "metadata": {},
   "source": [
    "### Parenthesis : Bag-of-Words"
   ]
  },
  {
   "cell_type": "code",
   "execution_count": 5,
   "metadata": {},
   "outputs": [
    {
     "data": {
      "text/plain": [
       "{'computing',\n",
       " 'datum',\n",
       " 'filter',\n",
       " 'language',\n",
       " 'natural',\n",
       " 'processing',\n",
       " 'stop',\n",
       " 'text',\n",
       " 'word'}"
      ]
     },
     "execution_count": 5,
     "metadata": {},
     "output_type": "execute_result"
    }
   ],
   "source": [
    "doc = nlp('''\n",
    "In computing, stop words are words which are filtered out before\n",
    "or after processing of natural language data (text).\n",
    "''')\n",
    "\n",
    "set(token.lemma_ for token in doc\n",
    "    if not token.is_stop and not token.is_punct and not token.is_space)"
   ]
  },
  {
   "cell_type": "markdown",
   "metadata": {},
   "source": [
    "## Parsing the text"
   ]
  },
  {
   "cell_type": "code",
   "execution_count": 6,
   "metadata": {},
   "outputs": [],
   "source": [
    "doc_large = nlp('Andrea Palladio was an Italian architect. This course is supposed to be about natural language processing.')"
   ]
  },
  {
   "cell_type": "markdown",
   "metadata": {},
   "source": [
    "### Sentences"
   ]
  },
  {
   "cell_type": "code",
   "execution_count": 7,
   "metadata": {},
   "outputs": [
    {
     "name": "stdout",
     "output_type": "stream",
     "text": [
      "Andrea Palladio was an Italian architect.\n",
      "This course is supposed to be about natural language processing.\n"
     ]
    }
   ],
   "source": [
    "for sent in doc_large.sents:\n",
    "    print(sent)"
   ]
  },
  {
   "cell_type": "code",
   "execution_count": 8,
   "metadata": {},
   "outputs": [
    {
     "data": {
      "text/plain": [
       "spacy.tokens.span.Span"
      ]
     },
     "execution_count": 8,
     "metadata": {},
     "output_type": "execute_result"
    }
   ],
   "source": [
    "# A sentence is a DocSpan which is just a subpart of a Doc\n",
    "type(sent)"
   ]
  },
  {
   "cell_type": "code",
   "execution_count": 9,
   "metadata": {},
   "outputs": [
    {
     "data": {
      "text/plain": [
       "<generator at 0x7f7571e20558>"
      ]
     },
     "execution_count": 9,
     "metadata": {},
     "output_type": "execute_result"
    }
   ],
   "source": [
    "# Like with many structures in Spacy, they are generators and lists.\n",
    "# So they are iterable but you can not access a random element by default.\n",
    "doc_large.sents"
   ]
  },
  {
   "cell_type": "code",
   "execution_count": 10,
   "metadata": {},
   "outputs": [
    {
     "data": {
      "text/plain": [
       "[Andrea Palladio was an Italian architect.,\n",
       " This course is supposed to be about natural language processing.]"
      ]
     },
     "execution_count": 10,
     "metadata": {},
     "output_type": "execute_result"
    }
   ],
   "source": [
    "# ... but you can always convert them easily\n",
    "list(doc_large.sents)"
   ]
  },
  {
   "cell_type": "code",
   "execution_count": 11,
   "metadata": {},
   "outputs": [
    {
     "data": {
      "text/plain": [
       "Andrea Palladio was an Italian architect."
      ]
     },
     "execution_count": 11,
     "metadata": {},
     "output_type": "execute_result"
    }
   ],
   "source": [
    "# From a token you can always access the corresponding doc, sent, ...\n",
    "token = doc_large[1]\n",
    "token.sent"
   ]
  },
  {
   "cell_type": "markdown",
   "metadata": {},
   "source": [
    "### POS"
   ]
  },
  {
   "cell_type": "code",
   "execution_count": 12,
   "metadata": {},
   "outputs": [
    {
     "data": {
      "text/html": [
       "<svg xmlns=\"http://www.w3.org/2000/svg\" xmlns:xlink=\"http://www.w3.org/1999/xlink\" xml:lang=\"en\" id=\"b5bf495096104ddcaece9f2e6d6a3edf-0\" class=\"displacy\" width=\"1100\" height=\"399.5\" direction=\"ltr\" style=\"max-width: none; height: 399.5px; color: #000000; background: #ffffff; font-family: Arial; direction: ltr\">\n",
       "<text class=\"displacy-token\" fill=\"currentColor\" text-anchor=\"middle\" y=\"309.5\">\n",
       "    <tspan class=\"displacy-word\" fill=\"currentColor\" x=\"50\">Andrea</tspan>\n",
       "    <tspan class=\"displacy-tag\" dy=\"2em\" fill=\"currentColor\" x=\"50\">PROPN</tspan>\n",
       "</text>\n",
       "\n",
       "<text class=\"displacy-token\" fill=\"currentColor\" text-anchor=\"middle\" y=\"309.5\">\n",
       "    <tspan class=\"displacy-word\" fill=\"currentColor\" x=\"225\">Palladio</tspan>\n",
       "    <tspan class=\"displacy-tag\" dy=\"2em\" fill=\"currentColor\" x=\"225\">PROPN</tspan>\n",
       "</text>\n",
       "\n",
       "<text class=\"displacy-token\" fill=\"currentColor\" text-anchor=\"middle\" y=\"309.5\">\n",
       "    <tspan class=\"displacy-word\" fill=\"currentColor\" x=\"400\">was</tspan>\n",
       "    <tspan class=\"displacy-tag\" dy=\"2em\" fill=\"currentColor\" x=\"400\">AUX</tspan>\n",
       "</text>\n",
       "\n",
       "<text class=\"displacy-token\" fill=\"currentColor\" text-anchor=\"middle\" y=\"309.5\">\n",
       "    <tspan class=\"displacy-word\" fill=\"currentColor\" x=\"575\">an</tspan>\n",
       "    <tspan class=\"displacy-tag\" dy=\"2em\" fill=\"currentColor\" x=\"575\">DET</tspan>\n",
       "</text>\n",
       "\n",
       "<text class=\"displacy-token\" fill=\"currentColor\" text-anchor=\"middle\" y=\"309.5\">\n",
       "    <tspan class=\"displacy-word\" fill=\"currentColor\" x=\"750\">Italian</tspan>\n",
       "    <tspan class=\"displacy-tag\" dy=\"2em\" fill=\"currentColor\" x=\"750\">ADJ</tspan>\n",
       "</text>\n",
       "\n",
       "<text class=\"displacy-token\" fill=\"currentColor\" text-anchor=\"middle\" y=\"309.5\">\n",
       "    <tspan class=\"displacy-word\" fill=\"currentColor\" x=\"925\">architect</tspan>\n",
       "    <tspan class=\"displacy-tag\" dy=\"2em\" fill=\"currentColor\" x=\"925\">NOUN</tspan>\n",
       "</text>\n",
       "\n",
       "<g class=\"displacy-arrow\">\n",
       "    <path class=\"displacy-arc\" id=\"arrow-b5bf495096104ddcaece9f2e6d6a3edf-0-0\" stroke-width=\"2px\" d=\"M70,264.5 C70,177.0 215.0,177.0 215.0,264.5\" fill=\"none\" stroke=\"currentColor\"/>\n",
       "    <text dy=\"1.25em\" style=\"font-size: 0.8em; letter-spacing: 1px\">\n",
       "        <textPath xlink:href=\"#arrow-b5bf495096104ddcaece9f2e6d6a3edf-0-0\" class=\"displacy-label\" startOffset=\"50%\" side=\"left\" fill=\"currentColor\" text-anchor=\"middle\">compound</textPath>\n",
       "    </text>\n",
       "    <path class=\"displacy-arrowhead\" d=\"M70,266.5 L62,254.5 78,254.5\" fill=\"currentColor\"/>\n",
       "</g>\n",
       "\n",
       "<g class=\"displacy-arrow\">\n",
       "    <path class=\"displacy-arc\" id=\"arrow-b5bf495096104ddcaece9f2e6d6a3edf-0-1\" stroke-width=\"2px\" d=\"M245,264.5 C245,177.0 390.0,177.0 390.0,264.5\" fill=\"none\" stroke=\"currentColor\"/>\n",
       "    <text dy=\"1.25em\" style=\"font-size: 0.8em; letter-spacing: 1px\">\n",
       "        <textPath xlink:href=\"#arrow-b5bf495096104ddcaece9f2e6d6a3edf-0-1\" class=\"displacy-label\" startOffset=\"50%\" side=\"left\" fill=\"currentColor\" text-anchor=\"middle\">nsubj</textPath>\n",
       "    </text>\n",
       "    <path class=\"displacy-arrowhead\" d=\"M245,266.5 L237,254.5 253,254.5\" fill=\"currentColor\"/>\n",
       "</g>\n",
       "\n",
       "<g class=\"displacy-arrow\">\n",
       "    <path class=\"displacy-arc\" id=\"arrow-b5bf495096104ddcaece9f2e6d6a3edf-0-2\" stroke-width=\"2px\" d=\"M595,264.5 C595,89.5 920.0,89.5 920.0,264.5\" fill=\"none\" stroke=\"currentColor\"/>\n",
       "    <text dy=\"1.25em\" style=\"font-size: 0.8em; letter-spacing: 1px\">\n",
       "        <textPath xlink:href=\"#arrow-b5bf495096104ddcaece9f2e6d6a3edf-0-2\" class=\"displacy-label\" startOffset=\"50%\" side=\"left\" fill=\"currentColor\" text-anchor=\"middle\">det</textPath>\n",
       "    </text>\n",
       "    <path class=\"displacy-arrowhead\" d=\"M595,266.5 L587,254.5 603,254.5\" fill=\"currentColor\"/>\n",
       "</g>\n",
       "\n",
       "<g class=\"displacy-arrow\">\n",
       "    <path class=\"displacy-arc\" id=\"arrow-b5bf495096104ddcaece9f2e6d6a3edf-0-3\" stroke-width=\"2px\" d=\"M770,264.5 C770,177.0 915.0,177.0 915.0,264.5\" fill=\"none\" stroke=\"currentColor\"/>\n",
       "    <text dy=\"1.25em\" style=\"font-size: 0.8em; letter-spacing: 1px\">\n",
       "        <textPath xlink:href=\"#arrow-b5bf495096104ddcaece9f2e6d6a3edf-0-3\" class=\"displacy-label\" startOffset=\"50%\" side=\"left\" fill=\"currentColor\" text-anchor=\"middle\">amod</textPath>\n",
       "    </text>\n",
       "    <path class=\"displacy-arrowhead\" d=\"M770,266.5 L762,254.5 778,254.5\" fill=\"currentColor\"/>\n",
       "</g>\n",
       "\n",
       "<g class=\"displacy-arrow\">\n",
       "    <path class=\"displacy-arc\" id=\"arrow-b5bf495096104ddcaece9f2e6d6a3edf-0-4\" stroke-width=\"2px\" d=\"M420,264.5 C420,2.0 925.0,2.0 925.0,264.5\" fill=\"none\" stroke=\"currentColor\"/>\n",
       "    <text dy=\"1.25em\" style=\"font-size: 0.8em; letter-spacing: 1px\">\n",
       "        <textPath xlink:href=\"#arrow-b5bf495096104ddcaece9f2e6d6a3edf-0-4\" class=\"displacy-label\" startOffset=\"50%\" side=\"left\" fill=\"currentColor\" text-anchor=\"middle\">attr</textPath>\n",
       "    </text>\n",
       "    <path class=\"displacy-arrowhead\" d=\"M925.0,266.5 L933.0,254.5 917.0,254.5\" fill=\"currentColor\"/>\n",
       "</g>\n",
       "</svg>"
      ],
      "text/plain": [
       "<IPython.core.display.HTML object>"
      ]
     },
     "metadata": {},
     "output_type": "display_data"
    }
   ],
   "source": [
    "doc = nlp('Andrea Palladio was an Italian architect')\n",
    "displacy.render(doc)"
   ]
  },
  {
   "cell_type": "code",
   "execution_count": 13,
   "metadata": {
    "scrolled": true
   },
   "outputs": [
    {
     "name": "stdout",
     "output_type": "stream",
     "text": [
      "Andrea      \tPROPN      \tNNP      \tcompound\n",
      "Palladio      \tPROPN      \tNNP      \tnsubj\n",
      "was      \tAUX      \tVBD      \tROOT\n",
      "an      \tDET      \tDT      \tdet\n",
      "Italian      \tADJ      \tJJ      \tamod\n",
      "architect      \tNOUN      \tNN      \tattr\n"
     ]
    }
   ],
   "source": [
    "# Each token has its own tag\n",
    "for token in doc:\n",
    "    print(token.text, token.pos_, token.tag_, token.dep_, sep='      \\t')"
   ]
  },
  {
   "cell_type": "code",
   "execution_count": 14,
   "metadata": {},
   "outputs": [
    {
     "name": "stdout",
     "output_type": "stream",
     "text": [
      "Andrea      \tcompound      \tPalladio      \t[]      \t[Palladio, was]\n",
      "Palladio      \tnsubj      \twas      \t[Andrea]      \t[was]\n",
      "was      \tROOT      \twas      \t[Palladio, architect]      \t[]\n",
      "an      \tdet      \tarchitect      \t[]      \t[architect, was]\n",
      "Italian      \tamod      \tarchitect      \t[]      \t[architect, was]\n",
      "architect      \tattr      \twas      \t[an, Italian]      \t[was]\n"
     ]
    }
   ],
   "source": [
    "# Each token has its own dependency\n",
    "for token in doc:\n",
    "    print(token.text, token.dep_, token.head, list(token.children), list(token.ancestors), sep='      \\t')"
   ]
  },
  {
   "cell_type": "markdown",
   "metadata": {},
   "source": [
    "**The explanation of these terms can be consulted [here](https://spacy.io/api/annotation#pos-tagging) or one can use `spacy.explain`.**"
   ]
  },
  {
   "cell_type": "code",
   "execution_count": 15,
   "metadata": {},
   "outputs": [
    {
     "name": "stdout",
     "output_type": "stream",
     "text": [
      "noun, proper singular\n",
      "adjectival modifier\n",
      "adjective\n"
     ]
    }
   ],
   "source": [
    "# Definition of terms can always be obtained\n",
    "print(spacy.explain('NNP'))\n",
    "print(spacy.explain('amod'))\n",
    "print(spacy.explain('JJ'))"
   ]
  },
  {
   "cell_type": "markdown",
   "metadata": {},
   "source": [
    "## Load Xenotheka data\n",
    "\n",
    "The file `texts_english.bin` contains the pre-parsed content of 558 books in English from xenotheka. It is a large file as it contains all the POS tagging, and took a few hours to compute."
   ]
  },
  {
   "cell_type": "code",
   "execution_count": 16,
   "metadata": {},
   "outputs": [],
   "source": [
    "from spacy.tokens import DocBin\n",
    "from tqdm.auto import tqdm\n",
    "\n",
    "# Efficient structure for saving lots of parsed documents\n",
    "doc_bin = DocBin(attrs=[\"HEAD\", \"TAG\", \"LEMMA\", \"DEP\", \"POS\"], store_user_data=True)\n",
    "\n",
    "# Reading the binary file, 558 pre-parsed texts (376MB)\n",
    "with open('texts_english.bin', 'rb') as f:\n",
    "    loaded_data = doc_bin.from_bytes(f.read())"
   ]
  },
  {
   "cell_type": "code",
   "execution_count": 17,
   "metadata": {},
   "outputs": [
    {
     "data": {
      "application/vnd.jupyter.widget-view+json": {
       "model_id": "c4c4455af67f4997a38161e5021f3ffe",
       "version_major": 2,
       "version_minor": 0
      },
      "text/plain": [
       "HBox(children=(IntProgress(value=0, max=5), HTML(value='')))"
      ]
     },
     "metadata": {},
     "output_type": "display_data"
    },
    {
     "name": "stdout",
     "output_type": "stream",
     "text": [
      "\n"
     ]
    }
   ],
   "source": [
    "# WARNING: loading all the 558 books takes roughly 6GB of RAM\n",
    "# You might want to try on a small subset first\n",
    "N_BOOKS = 5\n",
    "\n",
    "docs = []\n",
    "N_BOOKS = min(N_BOOKS, len(loaded_data))\n",
    "for i, doc in zip(tqdm(range(N_BOOKS)), loaded_data.get_docs(nlp.vocab)):\n",
    "    docs.append(doc)"
   ]
  },
  {
   "cell_type": "code",
   "execution_count": 18,
   "metadata": {},
   "outputs": [
    {
     "data": {
      "text/plain": [
       "'Abbott__Flatland.txt'"
      ]
     },
     "execution_count": 18,
     "metadata": {},
     "output_type": "execute_result"
    }
   ],
   "source": [
    "# Each book is just a large Spacy Doc, with the information of the corresponding original text file\n",
    "docs[0].user_data['file']"
   ]
  },
  {
   "cell_type": "markdown",
   "metadata": {},
   "source": [
    "## Rule based matching\n",
    "\n",
    "For more examples and explanations, head over to https://spacy.io/usage/rule-based-matching"
   ]
  },
  {
   "cell_type": "code",
   "execution_count": 19,
   "metadata": {},
   "outputs": [],
   "source": [
    "from spacy.matcher import Matcher\n",
    "# Create a matcher object\n",
    "matcher = Matcher(nlp.vocab)\n",
    "\n",
    "matcher.add(\"myVeryOwnMacthingRule\", None, [{\"LEMMA\": \"describe\"}])"
   ]
  },
  {
   "cell_type": "code",
   "execution_count": 20,
   "metadata": {},
   "outputs": [
    {
     "name": "stdout",
     "output_type": "stream",
     "text": [
      "234 described\n",
      "In such a country, you will perceive at once that it is impossible that\n",
      "there should be anything of what you call a \"solid\" kind; but I dare\n",
      "say you will suppose that we could at least distinguish by sight the\n",
      "Triangles, Squares, and other figures, moving about as I have described\n",
      "them.  \n",
      "---\n",
      "893 describe\n",
      "You may perhaps ask how under these disadvantagous circumstances we are\n",
      "able to distinguish our friends from one another: but the answer to\n",
      "this very natural question will be more fitly and easily given when I\n",
      "come to describe the inhabitants of Flatland.  \n",
      "---\n",
      "9992 described\n",
      "The children of the\n",
      "poor are therefore allowed to \"feel\" from their earliest years, and\n",
      "they gain thereby a precocity and an early vivacity which contrast at\n",
      "first most favourably with the inert, undeveloped, and listless\n",
      "behaviour of the half-instructed youths of the Polygonal class; but\n",
      "when the latter have at last completed their University course, and are\n",
      "prepared to put their theory into practice, the change that comes over\n",
      "them may almost be described as a new birth, and in every art, science,\n",
      "and social pursuit they rapidly overtake and distance their Triangular\n",
      "competitors.\n",
      "\n",
      "\n",
      "---\n",
      "14454 described\n",
      "Now therefore the artful Irregular whom I described above as the real\n",
      "author of this diabolical Bill, determined at one blow to lower the\n",
      "status of the Hierarchy by forcing them to submit to the pollution of\n",
      "Colour, and at the same time to destroy their domestic opportunities of\n",
      "training in the Art of Sight Recognition, so as to enfeeble their\n",
      "intellects by depriving them of their pure and colourless homes.  \n",
      "---\n",
      "19183 described\n",
      "The loss\n",
      "of a few sides in a highly-developed Polygon is not easily noticed, and\n",
      "is sometimes compensated by a successful operation in the\n",
      "Neo-Therapeutic Gymnasium, as I have described above; and the Circles\n",
      "are too much disposed to acquiesce in infecundity as a law of the\n",
      "superior development.  \n",
      "---\n",
      "20263 describing\n",
      "Receiving this abrupt reply, I begged pardon if I had in any way\n",
      "startled or molested his Royal Highness; and describing myself as a\n",
      "stranger I besought the King to give me some account of his dominions.\n",
      "\n",
      "---\n",
      "23543 describe\n",
      "yourself moving in it, then I beg you to describe it to me in words.\n",
      "\n",
      "\n",
      "---\n",
      "23975 describing\n",
      "And at this moment I can see your Line, or side--or inside\n",
      "as you are pleased to call it; and I can see also the Men and Women on\n",
      "the North and South of you, whom I will now enumerate, describing their\n",
      "order, their size, and the interval between each.\"\n",
      "\n",
      "\n",
      "---\n",
      "24133 describe\n",
      "I, in return, ask you to describe in words or\n",
      "indicate by motion that other Line of which you speak.  \n",
      "---\n",
      "29259 describe\n",
      "every Point in you, that is to say in what\n",
      "you call your inside, is to pass upwards through Space in such a way\n",
      "that no Point shall pass through the position previously occupied by\n",
      "any other Point; but each Point shall describe a straight Line of its\n",
      "own.  \n",
      "---\n",
      "29432 describe\n",
      "But I will describe it to\n",
      "you.  \n",
      "---\n",
      "40288 describing\n",
      "At first, indeed, I pretended that I was describing the\n",
      "imaginary experiences of a fictitious person; but my enthusiasm soon\n",
      "forced me to throw off all disguise, and finally, in a fervent\n",
      "peroration, I exhorted all my hearers to divest themselves of prejudice\n",
      "and to become believers in the Third Dimension.\n",
      "\n",
      "\n",
      "---\n"
     ]
    }
   ],
   "source": [
    "# Try to find matches in the first book\n",
    "doc = docs[0]\n",
    "matches = matcher(docs[0])\n",
    "for match_id, start, end in matches:\n",
    "    # match_id is the id of the matching rule, this line is to get back the name 'myVeryOwnMacthingRule'\n",
    "    string_id = nlp.vocab.strings[match_id]\n",
    "    # Get the token from the starting position in the document\n",
    "    t = doc[start]\n",
    "    print(start, t)\n",
    "    print(t.sent)\n",
    "    print('---')"
   ]
  },
  {
   "cell_type": "code",
   "execution_count": 21,
   "metadata": {},
   "outputs": [
    {
     "data": {
      "text/html": [
       "<svg xmlns=\"http://www.w3.org/2000/svg\" xmlns:xlink=\"http://www.w3.org/1999/xlink\" xml:lang=\"en\" id=\"3210a60574cd417ea901e719859108f7-0\" class=\"displacy\" width=\"575\" height=\"224.5\" direction=\"ltr\" style=\"max-width: none; height: 224.5px; color: #000000; background: #ffffff; font-family: Arial; direction: ltr\">\n",
       "<text class=\"displacy-token\" fill=\"currentColor\" text-anchor=\"middle\" y=\"134.5\">\n",
       "    <tspan class=\"displacy-word\" fill=\"currentColor\" x=\"50\">I</tspan>\n",
       "    <tspan class=\"displacy-tag\" dy=\"2em\" fill=\"currentColor\" x=\"50\">PRON</tspan>\n",
       "</text>\n",
       "\n",
       "<text class=\"displacy-token\" fill=\"currentColor\" text-anchor=\"middle\" y=\"134.5\">\n",
       "    <tspan class=\"displacy-word\" fill=\"currentColor\" x=\"225\">describe</tspan>\n",
       "    <tspan class=\"displacy-tag\" dy=\"2em\" fill=\"currentColor\" x=\"225\">VERB</tspan>\n",
       "</text>\n",
       "\n",
       "<text class=\"displacy-token\" fill=\"currentColor\" text-anchor=\"middle\" y=\"134.5\">\n",
       "    <tspan class=\"displacy-word\" fill=\"currentColor\" x=\"400\">it.</tspan>\n",
       "    <tspan class=\"displacy-tag\" dy=\"2em\" fill=\"currentColor\" x=\"400\">PRON</tspan>\n",
       "</text>\n",
       "\n",
       "<g class=\"displacy-arrow\">\n",
       "    <path class=\"displacy-arc\" id=\"arrow-3210a60574cd417ea901e719859108f7-0-0\" stroke-width=\"2px\" d=\"M70,89.5 C70,2.0 225.0,2.0 225.0,89.5\" fill=\"none\" stroke=\"currentColor\"/>\n",
       "    <text dy=\"1.25em\" style=\"font-size: 0.8em; letter-spacing: 1px\">\n",
       "        <textPath xlink:href=\"#arrow-3210a60574cd417ea901e719859108f7-0-0\" class=\"displacy-label\" startOffset=\"50%\" side=\"left\" fill=\"currentColor\" text-anchor=\"middle\">nsubj</textPath>\n",
       "    </text>\n",
       "    <path class=\"displacy-arrowhead\" d=\"M70,91.5 L62,79.5 78,79.5\" fill=\"currentColor\"/>\n",
       "</g>\n",
       "\n",
       "<g class=\"displacy-arrow\">\n",
       "    <path class=\"displacy-arc\" id=\"arrow-3210a60574cd417ea901e719859108f7-0-1\" stroke-width=\"2px\" d=\"M245,89.5 C245,2.0 400.0,2.0 400.0,89.5\" fill=\"none\" stroke=\"currentColor\"/>\n",
       "    <text dy=\"1.25em\" style=\"font-size: 0.8em; letter-spacing: 1px\">\n",
       "        <textPath xlink:href=\"#arrow-3210a60574cd417ea901e719859108f7-0-1\" class=\"displacy-label\" startOffset=\"50%\" side=\"left\" fill=\"currentColor\" text-anchor=\"middle\">dobj</textPath>\n",
       "    </text>\n",
       "    <path class=\"displacy-arrowhead\" d=\"M400.0,91.5 L408.0,79.5 392.0,79.5\" fill=\"currentColor\"/>\n",
       "</g>\n",
       "</svg>"
      ],
      "text/plain": [
       "<IPython.core.display.HTML object>"
      ]
     },
     "metadata": {},
     "output_type": "display_data"
    },
    {
     "name": "stdout",
     "output_type": "stream",
     "text": [
      "I -PRON- PRON PRP\n",
      "describe describe VERB VBP\n",
      "it -PRON- PRON PRP\n",
      ". . PUNCT .\n"
     ]
    }
   ],
   "source": [
    "d = nlp('I describe it.')\n",
    "displacy.render(d)\n",
    "for t in d:\n",
    "    print(t, t.lemma_, t.pos_, t.tag_)"
   ]
  },
  {
   "cell_type": "code",
   "execution_count": 22,
   "metadata": {},
   "outputs": [
    {
     "data": {
      "text/html": [
       "<svg xmlns=\"http://www.w3.org/2000/svg\" xmlns:xlink=\"http://www.w3.org/1999/xlink\" xml:lang=\"en\" id=\"37c97553ed2e40b296e8600abf7fc80d-0\" class=\"displacy\" width=\"750\" height=\"312.0\" direction=\"ltr\" style=\"max-width: none; height: 312.0px; color: #000000; background: #ffffff; font-family: Arial; direction: ltr\">\n",
       "<text class=\"displacy-token\" fill=\"currentColor\" text-anchor=\"middle\" y=\"222.0\">\n",
       "    <tspan class=\"displacy-word\" fill=\"currentColor\" x=\"50\">I</tspan>\n",
       "    <tspan class=\"displacy-tag\" dy=\"2em\" fill=\"currentColor\" x=\"50\">PRON</tspan>\n",
       "</text>\n",
       "\n",
       "<text class=\"displacy-token\" fill=\"currentColor\" text-anchor=\"middle\" y=\"222.0\">\n",
       "    <tspan class=\"displacy-word\" fill=\"currentColor\" x=\"225\">was</tspan>\n",
       "    <tspan class=\"displacy-tag\" dy=\"2em\" fill=\"currentColor\" x=\"225\">AUX</tspan>\n",
       "</text>\n",
       "\n",
       "<text class=\"displacy-token\" fill=\"currentColor\" text-anchor=\"middle\" y=\"222.0\">\n",
       "    <tspan class=\"displacy-word\" fill=\"currentColor\" x=\"400\">describing</tspan>\n",
       "    <tspan class=\"displacy-tag\" dy=\"2em\" fill=\"currentColor\" x=\"400\">VERB</tspan>\n",
       "</text>\n",
       "\n",
       "<text class=\"displacy-token\" fill=\"currentColor\" text-anchor=\"middle\" y=\"222.0\">\n",
       "    <tspan class=\"displacy-word\" fill=\"currentColor\" x=\"575\">it.</tspan>\n",
       "    <tspan class=\"displacy-tag\" dy=\"2em\" fill=\"currentColor\" x=\"575\">PRON</tspan>\n",
       "</text>\n",
       "\n",
       "<g class=\"displacy-arrow\">\n",
       "    <path class=\"displacy-arc\" id=\"arrow-37c97553ed2e40b296e8600abf7fc80d-0-0\" stroke-width=\"2px\" d=\"M70,177.0 C70,2.0 400.0,2.0 400.0,177.0\" fill=\"none\" stroke=\"currentColor\"/>\n",
       "    <text dy=\"1.25em\" style=\"font-size: 0.8em; letter-spacing: 1px\">\n",
       "        <textPath xlink:href=\"#arrow-37c97553ed2e40b296e8600abf7fc80d-0-0\" class=\"displacy-label\" startOffset=\"50%\" side=\"left\" fill=\"currentColor\" text-anchor=\"middle\">nsubj</textPath>\n",
       "    </text>\n",
       "    <path class=\"displacy-arrowhead\" d=\"M70,179.0 L62,167.0 78,167.0\" fill=\"currentColor\"/>\n",
       "</g>\n",
       "\n",
       "<g class=\"displacy-arrow\">\n",
       "    <path class=\"displacy-arc\" id=\"arrow-37c97553ed2e40b296e8600abf7fc80d-0-1\" stroke-width=\"2px\" d=\"M245,177.0 C245,89.5 395.0,89.5 395.0,177.0\" fill=\"none\" stroke=\"currentColor\"/>\n",
       "    <text dy=\"1.25em\" style=\"font-size: 0.8em; letter-spacing: 1px\">\n",
       "        <textPath xlink:href=\"#arrow-37c97553ed2e40b296e8600abf7fc80d-0-1\" class=\"displacy-label\" startOffset=\"50%\" side=\"left\" fill=\"currentColor\" text-anchor=\"middle\">aux</textPath>\n",
       "    </text>\n",
       "    <path class=\"displacy-arrowhead\" d=\"M245,179.0 L237,167.0 253,167.0\" fill=\"currentColor\"/>\n",
       "</g>\n",
       "\n",
       "<g class=\"displacy-arrow\">\n",
       "    <path class=\"displacy-arc\" id=\"arrow-37c97553ed2e40b296e8600abf7fc80d-0-2\" stroke-width=\"2px\" d=\"M420,177.0 C420,89.5 570.0,89.5 570.0,177.0\" fill=\"none\" stroke=\"currentColor\"/>\n",
       "    <text dy=\"1.25em\" style=\"font-size: 0.8em; letter-spacing: 1px\">\n",
       "        <textPath xlink:href=\"#arrow-37c97553ed2e40b296e8600abf7fc80d-0-2\" class=\"displacy-label\" startOffset=\"50%\" side=\"left\" fill=\"currentColor\" text-anchor=\"middle\">dobj</textPath>\n",
       "    </text>\n",
       "    <path class=\"displacy-arrowhead\" d=\"M570.0,179.0 L578.0,167.0 562.0,167.0\" fill=\"currentColor\"/>\n",
       "</g>\n",
       "</svg>"
      ],
      "text/plain": [
       "<IPython.core.display.HTML object>"
      ]
     },
     "metadata": {},
     "output_type": "display_data"
    }
   ],
   "source": [
    "displacy.render(nlp('I was describing it.'))"
   ]
  },
  {
   "cell_type": "code",
   "execution_count": 23,
   "metadata": {},
   "outputs": [
    {
     "data": {
      "text/html": [
       "<svg xmlns=\"http://www.w3.org/2000/svg\" xmlns:xlink=\"http://www.w3.org/1999/xlink\" xml:lang=\"en\" id=\"70039762fae74010935a611ba20a10eb-0\" class=\"displacy\" width=\"1100\" height=\"312.0\" direction=\"ltr\" style=\"max-width: none; height: 312.0px; color: #000000; background: #ffffff; font-family: Arial; direction: ltr\">\n",
       "<text class=\"displacy-token\" fill=\"currentColor\" text-anchor=\"middle\" y=\"222.0\">\n",
       "    <tspan class=\"displacy-word\" fill=\"currentColor\" x=\"50\">I</tspan>\n",
       "    <tspan class=\"displacy-tag\" dy=\"2em\" fill=\"currentColor\" x=\"50\">PRON</tspan>\n",
       "</text>\n",
       "\n",
       "<text class=\"displacy-token\" fill=\"currentColor\" text-anchor=\"middle\" y=\"222.0\">\n",
       "    <tspan class=\"displacy-word\" fill=\"currentColor\" x=\"225\">ask</tspan>\n",
       "    <tspan class=\"displacy-tag\" dy=\"2em\" fill=\"currentColor\" x=\"225\">VERB</tspan>\n",
       "</text>\n",
       "\n",
       "<text class=\"displacy-token\" fill=\"currentColor\" text-anchor=\"middle\" y=\"222.0\">\n",
       "    <tspan class=\"displacy-word\" fill=\"currentColor\" x=\"400\">you</tspan>\n",
       "    <tspan class=\"displacy-tag\" dy=\"2em\" fill=\"currentColor\" x=\"400\">PRON</tspan>\n",
       "</text>\n",
       "\n",
       "<text class=\"displacy-token\" fill=\"currentColor\" text-anchor=\"middle\" y=\"222.0\">\n",
       "    <tspan class=\"displacy-word\" fill=\"currentColor\" x=\"575\">to</tspan>\n",
       "    <tspan class=\"displacy-tag\" dy=\"2em\" fill=\"currentColor\" x=\"575\">PART</tspan>\n",
       "</text>\n",
       "\n",
       "<text class=\"displacy-token\" fill=\"currentColor\" text-anchor=\"middle\" y=\"222.0\">\n",
       "    <tspan class=\"displacy-word\" fill=\"currentColor\" x=\"750\">describe</tspan>\n",
       "    <tspan class=\"displacy-tag\" dy=\"2em\" fill=\"currentColor\" x=\"750\">VERB</tspan>\n",
       "</text>\n",
       "\n",
       "<text class=\"displacy-token\" fill=\"currentColor\" text-anchor=\"middle\" y=\"222.0\">\n",
       "    <tspan class=\"displacy-word\" fill=\"currentColor\" x=\"925\">it.</tspan>\n",
       "    <tspan class=\"displacy-tag\" dy=\"2em\" fill=\"currentColor\" x=\"925\">PRON</tspan>\n",
       "</text>\n",
       "\n",
       "<g class=\"displacy-arrow\">\n",
       "    <path class=\"displacy-arc\" id=\"arrow-70039762fae74010935a611ba20a10eb-0-0\" stroke-width=\"2px\" d=\"M70,177.0 C70,89.5 220.0,89.5 220.0,177.0\" fill=\"none\" stroke=\"currentColor\"/>\n",
       "    <text dy=\"1.25em\" style=\"font-size: 0.8em; letter-spacing: 1px\">\n",
       "        <textPath xlink:href=\"#arrow-70039762fae74010935a611ba20a10eb-0-0\" class=\"displacy-label\" startOffset=\"50%\" side=\"left\" fill=\"currentColor\" text-anchor=\"middle\">nsubj</textPath>\n",
       "    </text>\n",
       "    <path class=\"displacy-arrowhead\" d=\"M70,179.0 L62,167.0 78,167.0\" fill=\"currentColor\"/>\n",
       "</g>\n",
       "\n",
       "<g class=\"displacy-arrow\">\n",
       "    <path class=\"displacy-arc\" id=\"arrow-70039762fae74010935a611ba20a10eb-0-1\" stroke-width=\"2px\" d=\"M245,177.0 C245,89.5 395.0,89.5 395.0,177.0\" fill=\"none\" stroke=\"currentColor\"/>\n",
       "    <text dy=\"1.25em\" style=\"font-size: 0.8em; letter-spacing: 1px\">\n",
       "        <textPath xlink:href=\"#arrow-70039762fae74010935a611ba20a10eb-0-1\" class=\"displacy-label\" startOffset=\"50%\" side=\"left\" fill=\"currentColor\" text-anchor=\"middle\">dobj</textPath>\n",
       "    </text>\n",
       "    <path class=\"displacy-arrowhead\" d=\"M395.0,179.0 L403.0,167.0 387.0,167.0\" fill=\"currentColor\"/>\n",
       "</g>\n",
       "\n",
       "<g class=\"displacy-arrow\">\n",
       "    <path class=\"displacy-arc\" id=\"arrow-70039762fae74010935a611ba20a10eb-0-2\" stroke-width=\"2px\" d=\"M595,177.0 C595,89.5 745.0,89.5 745.0,177.0\" fill=\"none\" stroke=\"currentColor\"/>\n",
       "    <text dy=\"1.25em\" style=\"font-size: 0.8em; letter-spacing: 1px\">\n",
       "        <textPath xlink:href=\"#arrow-70039762fae74010935a611ba20a10eb-0-2\" class=\"displacy-label\" startOffset=\"50%\" side=\"left\" fill=\"currentColor\" text-anchor=\"middle\">aux</textPath>\n",
       "    </text>\n",
       "    <path class=\"displacy-arrowhead\" d=\"M595,179.0 L587,167.0 603,167.0\" fill=\"currentColor\"/>\n",
       "</g>\n",
       "\n",
       "<g class=\"displacy-arrow\">\n",
       "    <path class=\"displacy-arc\" id=\"arrow-70039762fae74010935a611ba20a10eb-0-3\" stroke-width=\"2px\" d=\"M245,177.0 C245,2.0 750.0,2.0 750.0,177.0\" fill=\"none\" stroke=\"currentColor\"/>\n",
       "    <text dy=\"1.25em\" style=\"font-size: 0.8em; letter-spacing: 1px\">\n",
       "        <textPath xlink:href=\"#arrow-70039762fae74010935a611ba20a10eb-0-3\" class=\"displacy-label\" startOffset=\"50%\" side=\"left\" fill=\"currentColor\" text-anchor=\"middle\">xcomp</textPath>\n",
       "    </text>\n",
       "    <path class=\"displacy-arrowhead\" d=\"M750.0,179.0 L758.0,167.0 742.0,167.0\" fill=\"currentColor\"/>\n",
       "</g>\n",
       "\n",
       "<g class=\"displacy-arrow\">\n",
       "    <path class=\"displacy-arc\" id=\"arrow-70039762fae74010935a611ba20a10eb-0-4\" stroke-width=\"2px\" d=\"M770,177.0 C770,89.5 920.0,89.5 920.0,177.0\" fill=\"none\" stroke=\"currentColor\"/>\n",
       "    <text dy=\"1.25em\" style=\"font-size: 0.8em; letter-spacing: 1px\">\n",
       "        <textPath xlink:href=\"#arrow-70039762fae74010935a611ba20a10eb-0-4\" class=\"displacy-label\" startOffset=\"50%\" side=\"left\" fill=\"currentColor\" text-anchor=\"middle\">dobj</textPath>\n",
       "    </text>\n",
       "    <path class=\"displacy-arrowhead\" d=\"M920.0,179.0 L928.0,167.0 912.0,167.0\" fill=\"currentColor\"/>\n",
       "</g>\n",
       "</svg>"
      ],
      "text/plain": [
       "<IPython.core.display.HTML object>"
      ]
     },
     "metadata": {},
     "output_type": "display_data"
    }
   ],
   "source": [
    "displacy.render(nlp('I ask you to describe it.'))"
   ]
  },
  {
   "cell_type": "code",
   "execution_count": 24,
   "metadata": {},
   "outputs": [
    {
     "data": {
      "text/html": [
       "<svg xmlns=\"http://www.w3.org/2000/svg\" xmlns:xlink=\"http://www.w3.org/1999/xlink\" xml:lang=\"en\" id=\"47b3e2f683244842a0b083a5516bbaca-0\" class=\"displacy\" width=\"575\" height=\"312.0\" direction=\"ltr\" style=\"max-width: none; height: 312.0px; color: #000000; background: #ffffff; font-family: Arial; direction: ltr\">\n",
       "<text class=\"displacy-token\" fill=\"currentColor\" text-anchor=\"middle\" y=\"222.0\">\n",
       "    <tspan class=\"displacy-word\" fill=\"currentColor\" x=\"50\">Let</tspan>\n",
       "    <tspan class=\"displacy-tag\" dy=\"2em\" fill=\"currentColor\" x=\"50\">VERB</tspan>\n",
       "</text>\n",
       "\n",
       "<text class=\"displacy-token\" fill=\"currentColor\" text-anchor=\"middle\" y=\"222.0\">\n",
       "    <tspan class=\"displacy-word\" fill=\"currentColor\" x=\"225\">me</tspan>\n",
       "    <tspan class=\"displacy-tag\" dy=\"2em\" fill=\"currentColor\" x=\"225\">PRON</tspan>\n",
       "</text>\n",
       "\n",
       "<text class=\"displacy-token\" fill=\"currentColor\" text-anchor=\"middle\" y=\"222.0\">\n",
       "    <tspan class=\"displacy-word\" fill=\"currentColor\" x=\"400\">explain.</tspan>\n",
       "    <tspan class=\"displacy-tag\" dy=\"2em\" fill=\"currentColor\" x=\"400\">VERB</tspan>\n",
       "</text>\n",
       "\n",
       "<g class=\"displacy-arrow\">\n",
       "    <path class=\"displacy-arc\" id=\"arrow-47b3e2f683244842a0b083a5516bbaca-0-0\" stroke-width=\"2px\" d=\"M245,177.0 C245,89.5 395.0,89.5 395.0,177.0\" fill=\"none\" stroke=\"currentColor\"/>\n",
       "    <text dy=\"1.25em\" style=\"font-size: 0.8em; letter-spacing: 1px\">\n",
       "        <textPath xlink:href=\"#arrow-47b3e2f683244842a0b083a5516bbaca-0-0\" class=\"displacy-label\" startOffset=\"50%\" side=\"left\" fill=\"currentColor\" text-anchor=\"middle\">nsubj</textPath>\n",
       "    </text>\n",
       "    <path class=\"displacy-arrowhead\" d=\"M245,179.0 L237,167.0 253,167.0\" fill=\"currentColor\"/>\n",
       "</g>\n",
       "\n",
       "<g class=\"displacy-arrow\">\n",
       "    <path class=\"displacy-arc\" id=\"arrow-47b3e2f683244842a0b083a5516bbaca-0-1\" stroke-width=\"2px\" d=\"M70,177.0 C70,2.0 400.0,2.0 400.0,177.0\" fill=\"none\" stroke=\"currentColor\"/>\n",
       "    <text dy=\"1.25em\" style=\"font-size: 0.8em; letter-spacing: 1px\">\n",
       "        <textPath xlink:href=\"#arrow-47b3e2f683244842a0b083a5516bbaca-0-1\" class=\"displacy-label\" startOffset=\"50%\" side=\"left\" fill=\"currentColor\" text-anchor=\"middle\">ccomp</textPath>\n",
       "    </text>\n",
       "    <path class=\"displacy-arrowhead\" d=\"M400.0,179.0 L408.0,167.0 392.0,167.0\" fill=\"currentColor\"/>\n",
       "</g>\n",
       "</svg>"
      ],
      "text/plain": [
       "<IPython.core.display.HTML object>"
      ]
     },
     "metadata": {},
     "output_type": "display_data"
    },
    {
     "name": "stdout",
     "output_type": "stream",
     "text": [
      "Let let VERB VB\n",
      "me -PRON- PRON PRP\n",
      "explain explain VERB VB\n",
      ". . PUNCT .\n"
     ]
    }
   ],
   "source": [
    "d = nlp('Let me explain.')\n",
    "displacy.render(d)\n",
    "for t in d:\n",
    "    print(t, t.lemma_, t.pos_, t.tag_)"
   ]
  },
  {
   "cell_type": "code",
   "execution_count": 25,
   "metadata": {
    "scrolled": false
   },
   "outputs": [
    {
     "name": "stdout",
     "output_type": "stream",
     "text": [
      "Author explaining\n",
      "In such a country, you will perceive at once that it is impossible that\n",
      "there should be anything of what you call a \"solid\" kind; but I dare\n",
      "say you will suppose that we could at least distinguish by sight the\n",
      "Triangles, Squares, and other figures, moving about as I have described\n",
      "them.  \n",
      "---\n",
      "Author explaining\n",
      "But let me explain my meaning, without further eulogies on\n",
      "this beneficent Element.\n",
      "\n",
      "\n",
      "---\n",
      "Author explaining\n",
      "Now therefore the artful Irregular whom I described above as the real\n",
      "author of this diabolical Bill, determined at one blow to lower the\n",
      "status of the Hierarchy by forcing them to submit to the pollution of\n",
      "Colour, and at the same time to destroy their domestic opportunities of\n",
      "training in the Art of Sight Recognition, so as to enfeeble their\n",
      "intellects by depriving them of their pure and colourless homes.  \n",
      "---\n",
      "Author explaining\n",
      "The loss\n",
      "of a few sides in a highly-developed Polygon is not easily noticed, and\n",
      "is sometimes compensated by a successful operation in the\n",
      "Neo-Therapeutic Gymnasium, as I have described above; and the Circles\n",
      "are too much disposed to acquiesce in infecundity as a law of the\n",
      "superior development.  \n",
      "---\n",
      "Not author explaining\n",
      "Well then, since words cannot explain the matter, I will try deeds,\n",
      "and will move gradually out of Lineland in the direction which I desire\n",
      "to indicate to you.\n",
      "\n",
      "\n",
      "---\n",
      "Not author explaining\n",
      "every Point in you, that is to say in what\n",
      "you call your inside, is to pass upwards through Space in such a way\n",
      "that no Point shall pass through the position previously occupied by\n",
      "any other Point; but each Point shall describe a straight Line of its\n",
      "own.  \n",
      "---\n",
      "Author explaining\n",
      "But I will describe it to\n",
      "you.  \n",
      "---\n",
      "Not author explaining\n",
      "And even granting the facts, they explain\n",
      "them in different ways.  \n",
      "---\n",
      "Author explaining\n",
      "At first, indeed, I pretended that I was describing the\n",
      "imaginary experiences of a fictitious person; but my enthusiasm soon\n",
      "forced me to throw off all disguise, and finally, in a fervent\n",
      "peroration, I exhorted all my hearers to divest themselves of prejudice\n",
      "and to become believers in the Third Dimension.\n",
      "\n",
      "\n",
      "---\n"
     ]
    }
   ],
   "source": [
    "# Try to find matches in the first book\n",
    "matcher = Matcher(nlp.vocab)\n",
    "matcher.add(\"myVeryOwnMacthingRule\", None, [\n",
    "    {\"LEMMA\": {'IN':[\"describe\", 'explain', 'define']}, 'POS': 'VERB'}\n",
    "])\n",
    "doc = docs[0]\n",
    "matches = matcher(docs[0])\n",
    "for match_id, start, end in matches:\n",
    "    # match_id is the id of the matching rule, this line is to get back the name 'myVeryOwnMacthingRule'\n",
    "    string_id = nlp.vocab.strings[match_id]\n",
    "    # Get the token from the starting position in the document\n",
    "    t = doc[start]\n",
    "    # Print only if \n",
    "    if any(c.dep_ == 'nsubj' and c.text in ('me', 'I') for c in t.children):  # Direct subject, 1st of singular\n",
    "        print('Author explaining')\n",
    "        print(t.sent)\n",
    "        print('---')\n",
    "    elif any(c.dep_ == 'nsubj' for c in t.children):  # Direct subject, other\n",
    "        print('Not author explaining')\n",
    "        print(t.sent)\n",
    "        print('---') "
   ]
  },
  {
   "cell_type": "markdown",
   "metadata": {},
   "source": [
    "### Named Entity Recognition"
   ]
  },
  {
   "cell_type": "code",
   "execution_count": 26,
   "metadata": {
    "scrolled": false
   },
   "outputs": [
    {
     "data": {
      "text/html": [
       "<div class=\"entities\" style=\"line-height: 2.5; direction: ltr\">\n",
       "<mark class=\"entity\" style=\"background: #aa9cfc; padding: 0.45em 0.6em; margin: 0 0.25em; line-height: 1; border-radius: 0.35em;\">\n",
       "    Le Corbusier\n",
       "    <span style=\"font-size: 0.8em; font-weight: bold; line-height: 1; border-radius: 0.35em; text-transform: uppercase; vertical-align: middle; margin-left: 0.5rem\">PERSON</span>\n",
       "</mark>\n",
       " was a \n",
       "<mark class=\"entity\" style=\"background: #c887fb; padding: 0.45em 0.6em; margin: 0 0.25em; line-height: 1; border-radius: 0.35em;\">\n",
       "    French\n",
       "    <span style=\"font-size: 0.8em; font-weight: bold; line-height: 1; border-radius: 0.35em; text-transform: uppercase; vertical-align: middle; margin-left: 0.5rem\">NORP</span>\n",
       "</mark>\n",
       " architect. He built \n",
       "<mark class=\"entity\" style=\"background: #7aecec; padding: 0.45em 0.6em; margin: 0 0.25em; line-height: 1; border-radius: 0.35em;\">\n",
       "    Notre-Dame de Ronchamp\n",
       "    <span style=\"font-size: 0.8em; font-weight: bold; line-height: 1; border-radius: 0.35em; text-transform: uppercase; vertical-align: middle; margin-left: 0.5rem\">ORG</span>\n",
       "</mark>\n",
       ".</div>"
      ],
      "text/plain": [
       "<IPython.core.display.HTML object>"
      ]
     },
     "metadata": {},
     "output_type": "display_data"
    }
   ],
   "source": [
    "doc = nlp('Le Corbusier was a French architect. He built Notre-Dame de Ronchamp.')\n",
    "displacy.render(doc, style='ent')"
   ]
  },
  {
   "cell_type": "code",
   "execution_count": 27,
   "metadata": {},
   "outputs": [
    {
     "name": "stdout",
     "output_type": "stream",
     "text": [
      "Le Corbusier PERSON\n",
      "French NORP\n",
      "Notre-Dame de Ronchamp ORG\n"
     ]
    }
   ],
   "source": [
    "for ent in doc.ents:\n",
    "    print(ent, ent.label_)"
   ]
  },
  {
   "cell_type": "markdown",
   "metadata": {},
   "source": [
    "## Word Vectors "
   ]
  },
  {
   "cell_type": "code",
   "execution_count": 28,
   "metadata": {},
   "outputs": [],
   "source": [
    "doc = nlp('Architect is a beautiful job')\n",
    "token = doc[0]"
   ]
  },
  {
   "cell_type": "code",
   "execution_count": 29,
   "metadata": {},
   "outputs": [
    {
     "data": {
      "text/plain": [
       "array([ 4.3056e-01, -2.5697e-01,  7.2521e-02, -3.4186e-01, -6.9907e-02,\n",
       "        2.1462e-01,  1.6019e-01,  4.6952e-02, -3.0886e-01,  2.4907e+00,\n",
       "        2.5334e-03, -3.3628e-01, -6.5238e-01,  3.7404e-01,  4.7670e-01,\n",
       "        1.3775e-01,  1.0689e-01,  6.7676e-01,  6.3706e-01, -7.1364e-02,\n",
       "        1.1170e+00, -3.7098e-01, -2.5129e-01, -5.2586e-01, -3.8282e-01,\n",
       "       -5.2030e-01, -3.2476e-01,  6.1889e-01,  1.3549e-01,  7.1957e-01,\n",
       "        1.7008e-01,  4.0052e-02,  3.8600e-01,  2.0393e-01,  5.9692e-02,\n",
       "       -5.2871e-01, -4.9954e-03, -3.2586e-01, -5.7786e-02, -5.3843e-01,\n",
       "        2.0995e-01, -2.3496e-02,  5.8118e-02, -2.5206e-01, -6.4122e-01,\n",
       "       -4.9476e-01, -1.9597e-01, -7.9340e-01,  6.2612e-01,  6.1045e-01,\n",
       "        4.8935e-01, -1.6363e-01, -1.7103e-01,  1.6363e-01,  7.6102e-02,\n",
       "       -1.7962e-01, -1.8494e-01,  4.9449e-01,  7.9426e-01, -4.3375e-01,\n",
       "       -3.7887e-01, -2.5459e-01,  2.8804e-01,  6.0464e-01,  1.9814e-01,\n",
       "        3.4301e-01,  1.0328e-01, -3.0353e-01, -8.9278e-01, -8.3407e-02,\n",
       "       -3.3000e-01, -1.9134e-01, -7.1253e-01,  7.8356e-02, -1.2508e-01,\n",
       "       -1.0034e-03, -2.8119e-01, -5.4994e-01, -4.7237e-01, -5.6963e-02,\n",
       "        4.1720e-01,  2.5556e-01,  7.8350e-01, -2.6494e-01, -3.8417e-01,\n",
       "       -4.4148e-01, -2.5031e-01,  2.3859e-01,  1.2398e-01, -2.8623e-01,\n",
       "       -2.3652e-01, -2.9724e-01, -4.2657e-01,  4.2216e-01,  3.9527e-01,\n",
       "       -6.9182e-01, -2.5892e-01,  2.4168e-01, -1.8094e-01,  1.0506e-01,\n",
       "       -3.6825e-01, -1.3726e-01,  2.0437e-01,  3.2729e-01,  1.2408e-01,\n",
       "       -5.4626e-01, -1.2888e-02,  5.0938e-01,  3.8844e-01, -5.3152e-01,\n",
       "       -1.8659e-01,  1.9220e-01,  3.8418e-01,  1.9714e-01,  2.0678e-01,\n",
       "       -3.9799e-02, -3.9765e-01,  1.1919e-01, -1.2505e-01, -2.2041e-01,\n",
       "        4.8704e-01,  3.0823e-01, -6.9143e-01, -4.4511e-01,  4.8750e-01,\n",
       "        6.2568e-01,  2.8397e-01,  2.2501e-01, -3.4024e-01, -3.5819e-01,\n",
       "       -6.1212e-01,  5.1089e-01,  3.1550e-01,  9.1899e-02, -3.2991e-01,\n",
       "       -2.0602e-01,  5.6803e-01, -1.2140e-01,  3.7195e-01, -1.2539e-01,\n",
       "        1.1074e-02, -2.9553e-01, -3.9576e-01, -2.2330e-01, -7.7089e-02,\n",
       "        1.8047e-01,  2.8773e-02,  1.3045e-02, -5.5074e-01, -3.3234e-01,\n",
       "        9.4108e-01,  1.4031e-01, -7.5170e-01,  3.6214e-01,  7.4289e-01,\n",
       "        3.9399e-02, -2.1025e-01, -4.9708e-01,  3.3135e-01, -1.3591e-01,\n",
       "        1.3015e-01,  1.8880e-01, -4.5098e-01, -2.4775e-01,  5.6936e-01,\n",
       "       -5.4521e-01,  1.9071e-02,  6.7232e-02,  3.5174e-01,  7.6444e-02,\n",
       "       -5.0118e-01, -1.2690e-03, -2.2316e-01,  3.1896e-02, -8.4435e-02,\n",
       "       -4.5432e-01,  1.8014e-02,  5.2601e-01, -3.8341e-01, -1.4155e-02,\n",
       "        4.0800e-01, -5.2788e-02, -2.5053e-01,  8.8756e-02, -2.7958e-01,\n",
       "        2.0914e-01,  2.9733e-01,  2.0831e-01,  3.1898e-01,  8.0652e-02,\n",
       "       -1.0064e+00,  1.5407e-01, -4.1429e-01, -3.3092e-02,  2.4867e-01,\n",
       "        1.1742e-01, -9.0794e-02,  1.4904e-01,  2.5401e-01,  2.9040e-01,\n",
       "       -8.8643e-02, -1.5526e-01,  1.5451e-01, -5.8575e-01, -1.9135e-01,\n",
       "        2.1093e-01,  8.6017e-02, -1.6925e-01, -6.8088e-02, -4.7601e-02,\n",
       "        1.2739e-01, -2.5035e-01,  1.3640e-01,  2.9808e-01,  6.6499e-01,\n",
       "        6.3979e-01,  1.1143e-01, -9.0118e-02,  6.4741e-03, -1.3123e-01,\n",
       "        2.7040e-01,  3.3099e-01,  7.1138e-01,  8.7750e-01,  8.2857e-01,\n",
       "       -9.3499e-03,  1.1568e-02,  3.9587e-02, -2.5805e-01,  2.7305e-01,\n",
       "       -3.6848e-01,  3.3600e-02, -2.3762e-01, -4.6144e-01, -3.2266e-01,\n",
       "       -2.0897e-01,  1.2166e-01,  3.2284e-01,  1.9475e-01,  4.0700e-02,\n",
       "        4.4721e-01,  2.4173e-01, -3.3009e-01,  3.2892e-01,  4.9408e-02,\n",
       "        8.1474e-02,  7.8501e-01,  2.3020e-01, -5.1002e-02, -9.0155e-01,\n",
       "       -8.5444e-02,  6.4507e-01, -2.9294e-02,  7.7163e-02,  5.5028e-01,\n",
       "       -1.3492e+00,  4.3475e-01, -2.9782e-01,  4.7705e-01, -1.2676e-01,\n",
       "        7.6000e-01,  1.7753e-01,  5.5694e-01,  3.8452e-01, -5.9642e-01,\n",
       "       -8.1761e-01, -2.4436e-01, -7.0525e-01, -6.1706e-01,  4.4390e-01,\n",
       "       -2.6011e-01, -2.6908e-01, -7.6976e-02,  4.0343e-01, -2.9585e-01,\n",
       "       -6.0012e-01,  4.3363e-01, -3.2920e-02, -9.1380e-02, -3.4817e-01,\n",
       "        4.2704e-01, -6.4048e-02, -9.5058e-02,  3.7370e-01, -5.3019e-01,\n",
       "       -4.1383e-01,  3.4721e-01,  1.0132e-01, -3.8259e-02, -3.2586e-01,\n",
       "        7.2503e-01, -8.0873e-02,  9.2674e-02,  7.4663e-01,  1.1889e-01,\n",
       "        1.5088e-01,  3.4320e-01,  2.6494e-01,  2.7803e-01,  1.2273e-01],\n",
       "      dtype=float32)"
      ]
     },
     "execution_count": 29,
     "metadata": {},
     "output_type": "execute_result"
    }
   ],
   "source": [
    "# Accessing the word vector for a token\n",
    "token.vector"
   ]
  },
  {
   "cell_type": "code",
   "execution_count": 30,
   "metadata": {},
   "outputs": [],
   "source": [
    "# Function that will print the most similar words according to their word vectors\n",
    "def print_most_similar(word, n=10):\n",
    "    v = nlp.vocab[word].vector\n",
    "    keys, _, scores = nlp.vocab.vectors.most_similar(v[None], n=n)\n",
    "    for k, s in zip(keys[0], scores[0]):\n",
    "        print(nlp.vocab[k].text, s)"
   ]
  },
  {
   "cell_type": "code",
   "execution_count": 31,
   "metadata": {},
   "outputs": [
    {
     "name": "stdout",
     "output_type": "stream",
     "text": [
      "DESCRIBE 1.0\n",
      "DESCRIBING 0.805\n",
      "explain 0.7498\n",
      "EXPLAIN 0.7498\n",
      "DESCRIBES 0.7362\n",
      "RELATE 0.7206\n",
      "define 0.6901\n",
      "DEFINE 0.6901\n",
      "UNDERSTAND 0.6882\n",
      "understand 0.6882\n"
     ]
    }
   ],
   "source": [
    "print_most_similar('describe')"
   ]
  },
  {
   "cell_type": "code",
   "execution_count": 32,
   "metadata": {},
   "outputs": [
    {
     "name": "stdout",
     "output_type": "stream",
     "text": [
      "co-designer 1.0\n",
      "SURVEYOR 0.637\n",
      "engineer 0.637\n",
      "ARCHITECTURAL 0.6084\n",
      "HOMEBUILDER 0.6013\n",
      "COUTURIER 0.5686\n",
      "CONSULTANT 0.5339\n",
      "REMODELER 0.4933\n",
      "DEVELOPER 0.4884\n",
      "BUIDING 0.488\n",
      "building 0.488\n",
      "deisgn 0.4816\n",
      "design 0.4816\n",
      "Watchmakers 0.4762\n",
      "artist 0.4741\n",
      "CERAMICIST 0.4741\n",
      "PLASTERERS 0.4734\n",
      "Outplacement 0.4701\n",
      "GENEALOGIST 0.4621\n",
      "engineering 0.4598\n"
     ]
    }
   ],
   "source": [
    "print_most_similar('architect', n=20)"
   ]
  },
  {
   "cell_type": "code",
   "execution_count": 33,
   "metadata": {},
   "outputs": [
    {
     "data": {
      "text/plain": [
       "True"
      ]
     },
     "execution_count": 33,
     "metadata": {},
     "output_type": "execute_result"
    }
   ],
   "source": [
    "my_words = nlp('beautiful building')\n",
    "# A Doc has also a vector, which is the mean of the vectors of the individual tokens\n",
    "my_words.has_vector"
   ]
  },
  {
   "cell_type": "code",
   "execution_count": 34,
   "metadata": {},
   "outputs": [],
   "source": [
    "# Order the sentences based on their similarity with the original words\n",
    "# Search in the first 10 books\n",
    "sents = sorted((sent for doc in docs[:10] for sent in doc.sents),\n",
    "                key=lambda sent: my_words.similarity(sent) if sent.has_vector else 0.0,\n",
    "                reverse=True)"
   ]
  },
  {
   "cell_type": "code",
   "execution_count": 35,
   "metadata": {},
   "outputs": [
    {
     "name": "stdout",
     "output_type": "stream",
     "text": [
      "Together with villas and garden architecture, gates were classified in the genre called Rustic, partly for the reason that the grandest of all ancient Roman city gates was the rusticated Porta Maggiore.\n",
      "--\n",
      "The spirit of the Early Christian church survived with its splendidly decorated inner walls and simple geometric exteriors.\n",
      "--\n",
      "The choir is charming,âfar more charming than the nave, as the beautiful woman is more charming than the elderly man.\n",
      "--\n",
      "No such building was constructed in the Renaissance.\n",
      "--\n",
      "Like the Cortile del Belvedere, which was built to rival the great villas of antiquity, the Campidoglio was a monumental symbol in which the haunting dream of ancient grandeur became concrete.\n",
      "--\n",
      "Decorative landscapes painted by Paolo Veronese within this villa (fig. 8.19) invite the owner and visitors to look through the architecture onto ideal landscapes that would be Plinian were it not for the appearance of Roman ruins.\n",
      "--\n",
      "The windows are set into walls built to close the fifteenth-century arches of a loggia at the corner of the palace; the interior was stuccoed at the same time by Giovanni da Udine.\n",
      "\n",
      "--\n",
      "Obviously the project was not envisaged as a complex of individual building blocks, but as an outdoor room with three walls.\n",
      "--\n",
      "In Bramanteâs and Raphaelâs palace faÃ§ades the wall plane disappeared behind a dense armature of sculptural elements - columns, balconies, roughly rusticated blocks - which invited a rich interplay of lights and shadows.\n",
      "--\n",
      "The exact moment was stamped on the facade of his exquisite creation, the Abbey Church of Saint-Denis, finished in 1140 and still in part erect.\n"
     ]
    }
   ],
   "source": [
    "# Display the top 10 sentences\n",
    "print(*sents[:10], sep='\\n--\\n')"
   ]
  },
  {
   "cell_type": "code",
   "execution_count": null,
   "metadata": {},
   "outputs": [],
   "source": []
  }
 ],
 "metadata": {
  "kernelspec": {
   "display_name": "Python 3",
   "language": "python",
   "name": "python3"
  },
  "language_info": {
   "codemirror_mode": {
    "name": "ipython",
    "version": 3
   },
   "file_extension": ".py",
   "mimetype": "text/x-python",
   "name": "python",
   "nbconvert_exporter": "python",
   "pygments_lexer": "ipython3",
   "version": "3.6.8"
  }
 },
 "nbformat": 4,
 "nbformat_minor": 2
}
