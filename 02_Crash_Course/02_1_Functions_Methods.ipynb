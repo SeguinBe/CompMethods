{
 "cells": [
  {
   "cell_type": "markdown",
   "metadata": {},
   "source": [
    "# Methods and Functions"
   ]
  },
  {
   "cell_type": "markdown",
   "metadata": {},
   "source": [
    "-------------------------------"
   ]
  },
  {
   "cell_type": "markdown",
   "metadata": {},
   "source": [
    "In the first chapter we have seen how to store values in variables and how to apply some basic operations to these variables, such as adding, subtracting or multiplying. In this section we will see a further selection of pre-defined \"operations\". These are called 'functions' or 'methods'."
   ]
  },
  {
   "cell_type": "markdown",
   "metadata": {},
   "source": [
    "### split() and join()"
   ]
  },
  {
   "cell_type": "markdown",
   "metadata": {},
   "source": [
    "Consider the sentence below:"
   ]
  },
  {
   "cell_type": "code",
   "execution_count": null,
   "metadata": {},
   "outputs": [],
   "source": [
    "sentence = \"Python's name is derived from the television series Monty Python's Flying Circus.\""
   ]
  },
  {
   "cell_type": "markdown",
   "metadata": {},
   "source": [
    "Words are made up of characters, and so are strings in Python, like the string stored in the variable `sentence` in the block above. For the sentence above, it might seem more natural for humans to describe it as a series of words, rather than as a series of characters. Say we want to access the first word in our sentence. If we type in:"
   ]
  },
  {
   "cell_type": "code",
   "execution_count": null,
   "metadata": {},
   "outputs": [],
   "source": [
    "first_word = sentence[0]\n",
    "print(first_word)"
   ]
  },
  {
   "cell_type": "markdown",
   "metadata": {},
   "source": [
    "Python only prints the first *character* of our sentence. \n",
    "If we want to access the separate words, we have to transform the `string` of characters into a `list` of words by using the `split()` function as follows: "
   ]
  },
  {
   "cell_type": "code",
   "execution_count": null,
   "metadata": {},
   "outputs": [],
   "source": [
    "words = sentence.split()\n",
    "print(words)"
   ]
  },
  {
   "cell_type": "markdown",
   "metadata": {},
   "source": [
    "Make sure that you understand the syntax of this code! We call things like `split()` 'functions': functions provide small pieces of helpful, ready-made functionality that we can use in our own code. Here, we apply the `split()` function to the variable `sentence` and we assign the result of the function (we call this the 'return value' of the function) to the new variable `words`.\n",
    "\n",
    "By default, the `split()` function in Python will split strings on whitespace between consecutive words and it will return a list of words. However, we can pass an argument to `split()` that explicitly specifies the string we would like to split on. In the code block below, we will split a string on commas, instead of spaces. Do you get the syntax?"
   ]
  },
  {
   "cell_type": "code",
   "execution_count": null,
   "metadata": {},
   "outputs": [],
   "source": [
    "fruitstring = \"banana,pear,apple\"\n",
    "fruitlist = fruitstring.split(\",\")\n",
    "print(fruitlist)"
   ]
  },
  {
   "cell_type": "markdown",
   "metadata": {},
   "source": [
    "The reverse of the `split()` function can be accomplished with `join()`, it turns a list into a string, with a specific 'delimiter' or the string you want to use to join the items."
   ]
  },
  {
   "cell_type": "code",
   "execution_count": null,
   "metadata": {},
   "outputs": [],
   "source": [
    "fruitlist = ['banana', 'pear', 'apple']\n",
    "delimiter = \", \"\n",
    "fruitstring = delimiter.join(fruitlist)\n",
    "print(fruitstring)"
   ]
  },
  {
   "cell_type": "markdown",
   "metadata": {},
   "source": [
    "The above four lines can be accomplished in a single line if code, can you figure out how? (Tip: replace all variables by their values)"
   ]
  },
  {
   "cell_type": "code",
   "execution_count": null,
   "metadata": {},
   "outputs": [],
   "source": [
    "# insert your oneliner here!"
   ]
  },
  {
   "cell_type": "markdown",
   "metadata": {},
   "source": [
    "### replace()"
   ]
  },
  {
   "cell_type": "markdown",
   "metadata": {},
   "source": [
    "The `replace()` function is a function which can be called on a string. It will replace all occurrences of a specified substring with another string. Consider the lines in the code block below - and mind the order in which you pass the arguments to the function!"
   ]
  },
  {
   "cell_type": "code",
   "execution_count": null,
   "metadata": {},
   "outputs": [],
   "source": [
    "text = \"You can not compare apples and pears\"\n",
    "text = text.replace(\"pears\", \"apples\")\n",
    "text = text.replace(\"not \", \"\")\n",
    "print(text)"
   ]
  },
  {
   "cell_type": "markdown",
   "metadata": {},
   "source": [
    "Suppose that we want to write a function to rename our files so that they end with '_draft.txt'. How can we do this?"
   ]
  },
  {
   "cell_type": "code",
   "execution_count": null,
   "metadata": {},
   "outputs": [],
   "source": [
    "file = \"text1.txt\"\n",
    "file_new =\n",
    "print(file_new)"
   ]
  },
  {
   "cell_type": "code",
   "execution_count": null,
   "metadata": {},
   "outputs": [],
   "source": [
    "text = \"Research has shown that it is often still possible to understand text even if all vowels are removed\"\n",
    "# insert your code here.. I suppose it's obvious what we want you to do ;-)"
   ]
  },
  {
   "cell_type": "markdown",
   "metadata": {},
   "source": [
    "### upper(), lower(), capitalize()"
   ]
  },
  {
   "cell_type": "markdown",
   "metadata": {},
   "source": [
    "Python also has functions for changing the case of a string. `lower()` converts a string to lowercase characters and `upper()` returns an uppercased version:"
   ]
  },
  {
   "cell_type": "code",
   "execution_count": null,
   "metadata": {},
   "outputs": [],
   "source": [
    "my_string = \"AllCaps\"\n",
    "print(my_string)\n",
    "my_string_upper = my_string.upper()\n",
    "print(my_string_upper)\n",
    "my_string_lower = my_string.lower()\n",
    "print(my_string_lower)\n",
    "my_string_capped = my_string.capitalize()\n",
    "print(my_string_capped)"
   ]
  },
  {
   "cell_type": "markdown",
   "metadata": {},
   "source": [
    "### len()\n",
    "The function 'len' calculates the length of a data unit. Below you find an example of the 'len' function applied to a string and to a list. Think about the correct answer before running the code."
   ]
  },
  {
   "cell_type": "code",
   "execution_count": null,
   "metadata": {},
   "outputs": [],
   "source": [
    "unit1 = \"word\"\n",
    "unit2 = [\"word\"]\n",
    "print(len(unit1))\n",
    "print(len(unit2))"
   ]
  },
  {
   "cell_type": "markdown",
   "metadata": {},
   "source": [
    "### Explore by yourself -> autocompletion (very important)\n",
    "When you have assigned a value to a variable, you can use the notebook auto-completion to see what methods are available. They are often a lot of options!\n",
    "\n",
    "To do this, use the `Tab` key when your cursor is after a variable name and `.` as seen in the image below\n",
    "<img src=\"../images/autocomplete.png\" style=\"height:200px\">\n",
    "\n",
    "Additionally, if you press `Shift+Tab` it will bring the documentation about where the cursor is, which can help knowing what the method does. (press `Shift+Tab` multiple times to make the info bigger)\n",
    "\n",
    "<img src=\"../images/autocomplete_2.png\" style=\"height:200px\">"
   ]
  },
  {
   "cell_type": "code",
   "execution_count": null,
   "metadata": {},
   "outputs": [],
   "source": [
    "# Try to look around at some methods of unit1 (which is a string) and unit2 (which is a list)\n"
   ]
  },
  {
   "cell_type": "markdown",
   "metadata": {},
   "source": [
    "### Methods or functions?\n",
    "\n",
    "You can recognize functions and methods because they are always followed by (round brackets). Apart from the `split()` method, we already encountered other functions, also in the previous chapter. Can you think of some and describe their  functionality? Do you notice any differences in terms of syntax when you compare these to how `split()` is used?\n",
    "\n",
    "Answer: examples of other functions include `len()` and `print()`. Like `split()`, they can take arguments between the round brackets. In the case of `len()`, the argument is the object of which you want to know the length, for `print()` it can be any number of objects you want to print. The syntax of `split()` is different because it cannot be used as a standalone function. Instead it must always be called on a string object. It is attached to this object using dot notation: `string.split()`, so e.g.:\n",
    "* `\"a,b,c\".split(\",\")`\n",
    "* `variable_containing_a_string.split(\",\")`\n",
    "\n",
    "We call these object-specific functions *methods*. You cannot use `split()` on other types of objects, such as ints or lists. Other examples of string methods are `.lower()` and `.replace()`. Similarly, list methods are methods that can only be called on lists. One example is `.join()`.\n",
    "\n",
    "Technically speaking, *functions* can be executed (we often use the term *called*) directly, while *methods* are always dependent on a variable. However, the term function is often used to talk about both functions and methods."
   ]
  },
  {
   "cell_type": "markdown",
   "metadata": {},
   "source": [
    "## Create your first function\n",
    "\n",
    "A function can quickly be created with its definition: name, inputs and possibly output"
   ]
  },
  {
   "cell_type": "code",
   "execution_count": null,
   "metadata": {},
   "outputs": [],
   "source": [
    "def sum_of_lengths(a, b):\n",
    "    length_1 = len(a)\n",
    "    length_2 = len(b)\n",
    "    return length_1 + length_2"
   ]
  },
  {
   "cell_type": "code",
   "execution_count": null,
   "metadata": {},
   "outputs": [],
   "source": [
    "sum_of_lengths(\"word\", \"other words\")"
   ]
  },
  {
   "cell_type": "markdown",
   "metadata": {},
   "source": [
    "## DIY"
   ]
  },
  {
   "cell_type": "markdown",
   "metadata": {},
   "source": [
    "-  Can you come up with your own sentence `my_sentence` and split it into words along spaces? Print the new list of words."
   ]
  },
  {
   "cell_type": "code",
   "execution_count": null,
   "metadata": {},
   "outputs": [],
   "source": [
    "# your DIY code goes here..."
   ]
  },
  {
   "cell_type": "markdown",
   "metadata": {},
   "source": [
    "-  Is there a difference in length between the variables `sentence` and `words`? (Use functions to find this out!)"
   ]
  },
  {
   "cell_type": "code",
   "execution_count": null,
   "metadata": {},
   "outputs": [],
   "source": [
    "# your DIY code goes here..."
   ]
  },
  {
   "cell_type": "markdown",
   "metadata": {},
   "source": [
    "- Can you discover a method on strings which can help checking if a prefix is used?"
   ]
  },
  {
   "cell_type": "code",
   "execution_count": null,
   "metadata": {},
   "outputs": [],
   "source": [
    "sentence = 'Architecture History'\n",
    "prefix = 'Arch'\n",
    "# Use the proper method to check if the prefix is the correct one\n"
   ]
  },
  {
   "cell_type": "markdown",
   "metadata": {},
   "source": [
    "- Can you create a small function called nb_of_words that takes a single string as input and returns the number of words in it (Hint: you might have to split the sentence in words first)"
   ]
  },
  {
   "cell_type": "code",
   "execution_count": null,
   "metadata": {},
   "outputs": [],
   "source": [
    "# your DIY code goes here..."
   ]
  },
  {
   "cell_type": "markdown",
   "metadata": {},
   "source": [
    "#### *What we have learned*\n",
    "\n",
    "To finish this section, here is an overview of the new concepts you have learnt. Go through them and make sure you understand them all.\n",
    "\n",
    "- function syntax \n",
    "- methods vs functions\n",
    "- `.split()` vs. `.join()`\n",
    "- `.upper()` vs. `.lower()`"
   ]
  }
 ],
 "metadata": {
  "kernelspec": {
   "display_name": "Python 3",
   "language": "python",
   "name": "python3"
  },
  "language_info": {
   "codemirror_mode": {
    "name": "ipython",
    "version": 3
   },
   "file_extension": ".py",
   "mimetype": "text/x-python",
   "name": "python",
   "nbconvert_exporter": "python",
   "pygments_lexer": "ipython3",
   "version": "3.6.8"
  }
 },
 "nbformat": 4,
 "nbformat_minor": 1
}
