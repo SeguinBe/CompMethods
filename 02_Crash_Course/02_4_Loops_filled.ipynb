{
 "cells": [
  {
   "cell_type": "markdown",
   "metadata": {},
   "source": [
    "# Loops"
   ]
  },
  {
   "cell_type": "markdown",
   "metadata": {},
   "source": [
    "In programming, it is often very useful to carry out the same action for a series of different items. You might, for instance, want to go through a list of words and count and print the number of characters in each word. Now, you *could* do this for each word individually and access every word, one item at a time."
   ]
  },
  {
   "cell_type": "markdown",
   "metadata": {},
   "source": [
    "Needless to say, this is rather cumbersome. Luckily, Python provides the so-called `for` statement for this. The `for` loop allows us to iterate through any iterable object, such as a string or a list, and do the same thing with each of its elements. The basic syntax of a `for`-statement is:\n",
    "\n",
    "    for a_single_item in an_iterable_something:\n",
    "        do_something_with(a_single_item)\n",
    "\n",
    "That almost reads like English. We can print all letters of the word *banana* as follows:"
   ]
  },
  {
   "cell_type": "code",
   "execution_count": 9,
   "metadata": {},
   "outputs": [
    {
     "name": "stdout",
     "output_type": "stream",
     "text": [
      "b\n",
      "a\n",
      "n\n",
      "a\n",
      "n\n",
      "a\n"
     ]
    }
   ],
   "source": [
    "for letter in \"banana\":\n",
    "    print(letter)"
   ]
  },
  {
   "cell_type": "markdown",
   "metadata": {},
   "source": [
    "The code in the loop is executed as many times as there are letters in `banana`, with a different value for the variable `letter` at each iteration. (Read the previous sentence again, until you fully understand it.)\n",
    "\n",
    "It is important to understand that every time the code goes through the for loop, the variable `letter` will be assigned a new value. In other words, variable assignment is repeatedly taking place in the first line. As always, you can choose whichever variable name you want, but it makes sense to give it a name that corresponds to what a single item of your iterable represents. The code below, for example, will work exactly the same, but it is more confusing to a human reader:"
   ]
  },
  {
   "cell_type": "code",
   "execution_count": 10,
   "metadata": {},
   "outputs": [
    {
     "name": "stdout",
     "output_type": "stream",
     "text": [
      "b\n",
      "a\n",
      "n\n",
      "a\n",
      "n\n",
      "a\n"
     ]
    }
   ],
   "source": [
    "for word in \"banana\":\n",
    "    print(word)"
   ]
  },
  {
   "cell_type": "markdown",
   "metadata": {},
   "source": [
    "We have now iterated over the items in a string. Likewise, we can iterate over all the items that are contained in a list:"
   ]
  },
  {
   "cell_type": "code",
   "execution_count": 11,
   "metadata": {},
   "outputs": [
    {
     "name": "stdout",
     "output_type": "stream",
     "text": [
      "yellow\n",
      "red\n",
      "green\n",
      "blue\n",
      "purple\n"
     ]
    }
   ],
   "source": [
    "colors = [\"yellow\", \"red\", \"green\", \"blue\", \"purple\"]\n",
    "for color in colors:\n",
    "    print(color)"
   ]
  },
  {
   "cell_type": "markdown",
   "metadata": {},
   "source": [
    "Since dictionaries are iterable objects as well, we can iterate through our good reads collection as well. This will iterate over the *keys* of a dictionary:"
   ]
  },
  {
   "cell_type": "code",
   "execution_count": 12,
   "metadata": {},
   "outputs": [
    {
     "name": "stdout",
     "output_type": "stream",
     "text": [
      "Emma\n",
      "Pride and Prejudice\n",
      "Sense and Sensibility\n",
      "Northanger Abbey\n"
     ]
    }
   ],
   "source": [
    "good_reads = {\"Emma\": 8, \"Pride and Prejudice\": 10, \"Sense and Sensibility\": 7, \"Northanger Abbey\": 3}\n",
    "for key in good_reads:\n",
    "    print(key)"
   ]
  },
  {
   "cell_type": "markdown",
   "metadata": {},
   "source": [
    "Often one wants to access the values of the dictionnary as well, here are two different ways of doing it. Can you understand the difference between them?"
   ]
  },
  {
   "cell_type": "code",
   "execution_count": 15,
   "metadata": {},
   "outputs": [
    {
     "name": "stdout",
     "output_type": "stream",
     "text": [
      "Emma: 8\n",
      "Pride and Prejudice: 10\n",
      "Sense and Sensibility: 7\n",
      "Northanger Abbey: 3\n",
      "Emma: 8\n",
      "Pride and Prejudice: 10\n",
      "Sense and Sensibility: 7\n",
      "Northanger Abbey: 3\n"
     ]
    }
   ],
   "source": [
    "for key in good_reads:\n",
    "    print(key + \": \" + str(good_reads[key]))\n",
    "\n",
    "for key, value in good_reads.items():\n",
    "    print(key + \": \" + str(value))"
   ]
  },
  {
   "cell_type": "markdown",
   "metadata": {},
   "source": [
    "Notice, again, that a dictionary is unordered! All the keys will be iterated over, but as opposed to iterating over lists or strings, they keys will be in random order.\n",
    "\n",
    "-------"
   ]
  },
  {
   "cell_type": "markdown",
   "metadata": {},
   "source": [
    "## DIY 1"
   ]
  },
  {
   "cell_type": "markdown",
   "metadata": {},
   "source": [
    "The function `len()` returns the length of an iterable item:"
   ]
  },
  {
   "cell_type": "code",
   "execution_count": 16,
   "metadata": {},
   "outputs": [
    {
     "data": {
      "text/plain": [
       "6"
      ]
     },
     "execution_count": 16,
     "metadata": {},
     "output_type": "execute_result"
    }
   ],
   "source": [
    "len(\"banana\")"
   ]
  },
  {
   "cell_type": "markdown",
   "metadata": {},
   "source": [
    "- We can use this function to print the length of each word in the color list. Write your code in the box below:"
   ]
  },
  {
   "cell_type": "code",
   "execution_count": 18,
   "metadata": {},
   "outputs": [
    {
     "name": "stdout",
     "output_type": "stream",
     "text": [
      "yellow has 6 letters\n",
      "yellow has 6 letters\n",
      "red has 3 letters\n",
      "red has 3 letters\n",
      "green has 5 letters\n",
      "green has 5 letters\n",
      "blue has 4 letters\n",
      "blue has 4 letters\n",
      "purple has 6 letters\n",
      "purple has 6 letters\n"
     ]
    }
   ],
   "source": [
    "colors = [\"yellow\", \"red\", \"green\", \"blue\", \"purple\"]\n",
    "# insert your code here\n",
    "for color in colors:\n",
    "    print(f\"{color} has {len(color)} letters\")\n",
    "    print(color + \" has \" + str(len(color)) + \" letters\")"
   ]
  },
  {
   "cell_type": "markdown",
   "metadata": {},
   "source": [
    "- Now write a small program that iterates through the list `colors` and `appends` all colors that contain the letter *r* to the list `colors_with_r`. (Tip: use the `append()` method!)"
   ]
  },
  {
   "cell_type": "code",
   "execution_count": 19,
   "metadata": {},
   "outputs": [
    {
     "data": {
      "text/plain": [
       "['red', 'green', 'purple']"
      ]
     },
     "execution_count": 19,
     "metadata": {},
     "output_type": "execute_result"
    }
   ],
   "source": [
    "colors = [\"yellow\", \"red\", \"green\", \"blue\", \"purple\"]\n",
    "colors_with_r = []\n",
    "\n",
    "# insert your code here\n",
    "for color in colors:\n",
    "    if 'r' in color:\n",
    "        colors_with_r.append(color)\n",
    "\n",
    "colors_with_r"
   ]
  },
  {
   "cell_type": "markdown",
   "metadata": {},
   "source": [
    "--------"
   ]
  },
  {
   "cell_type": "markdown",
   "metadata": {},
   "source": [
    "##### What we have learned"
   ]
  },
  {
   "attachments": {
    "loops.jpg": {
     "image/jpeg": "[encoded data removed]"
    }
   },
   "cell_type": "markdown",
   "metadata": {},
   "source": [
    "Here is an overview of the new concepts, statements and functions we have learned in this section. Again, go through the list and make sure you understand them all.\n",
    "\n",
    "-  loop\n",
    "-  `for` statement\n",
    "-  iterable objects\n",
    "-  variable assignment in a `for` loop\n",
    "\n",
    "![loops.jpg](attachment:loops.jpg)"
   ]
  },
  {
   "cell_type": "markdown",
   "metadata": {},
   "source": [
    "-------"
   ]
  },
  {
   "cell_type": "markdown",
   "metadata": {},
   "source": [
    "## Bonus: loop comprehension"
   ]
  },
  {
   "cell_type": "code",
   "execution_count": null,
   "metadata": {},
   "outputs": [],
   "source": [
    "[i for i in range(10)]"
   ]
  },
  {
   "cell_type": "code",
   "execution_count": null,
   "metadata": {},
   "outputs": [],
   "source": [
    "[2*i for i in range(10)]"
   ]
  },
  {
   "cell_type": "code",
   "execution_count": null,
   "metadata": {},
   "outputs": [],
   "source": [
    "[2*i for i in range(10) if i % 2 == 0]"
   ]
  },
  {
   "cell_type": "code",
   "execution_count": null,
   "metadata": {},
   "outputs": [],
   "source": [
    "# Even with dictionaries\n",
    "{i: f\"This string is the associated value with {i}\" for i in range(10)}"
   ]
  },
  {
   "cell_type": "code",
   "execution_count": null,
   "metadata": {},
   "outputs": [],
   "source": []
  }
 ],
 "metadata": {
  "kernelspec": {
   "display_name": "Python 3",
   "language": "python",
   "name": "python3"
  },
  "language_info": {
   "codemirror_mode": {
    "name": "ipython",
    "version": 3
   },
   "file_extension": ".py",
   "mimetype": "text/x-python",
   "name": "python",
   "nbconvert_exporter": "python",
   "pygments_lexer": "ipython3",
   "version": "3.6.8"
  }
 },
 "nbformat": 4,
 "nbformat_minor": 1
}
