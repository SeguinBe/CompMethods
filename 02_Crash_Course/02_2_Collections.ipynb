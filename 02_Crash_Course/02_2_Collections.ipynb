{
 "cells": [
  {
   "cell_type": "markdown",
   "metadata": {},
   "source": [
    "# Collections\n",
    "\n",
    "\n",
    "Previously, we mainly worked on single variables. But in practice we want to be able to handle groups of elements, i.e *collections*.\n",
    "\n",
    "Here we cover two of them:\n",
    "\n",
    "- Lists: ordered collection of objects\n",
    "- Dictionnaries: mappings from keys to objects"
   ]
  },
  {
   "cell_type": "markdown",
   "metadata": {},
   "source": [
    "---\n",
    "\n",
    "## Lists\n",
    "\n",
    "By introducing `split()` and `join()` previously, we have started using a new type of object: the *list*. A `list` acts like some kind of container in which we can store all kinds of information. \n",
    "\n",
    "### accessing lists: indexes and slices\n",
    "\n",
    "In many ways, lists are very similar to strings. We can for example access its components using indexes and we can use slice indexes to access parts of the list. Let's try this out. Think about the output before running the code:"
   ]
  },
  {
   "cell_type": "code",
   "execution_count": null,
   "metadata": {},
   "outputs": [],
   "source": [
    "numbers = ['one', 'two', 'three', 'four', 'five']\n",
    "print(numbers[1])\n",
    "print(numbers[-2])\n",
    "print(numbers[0:3])"
   ]
  },
  {
   "cell_type": "markdown",
   "metadata": {},
   "source": [
    "### append()\n",
    "We can also add new items to a list. For that you use the `append()` method. Let's see how that works. Say we want to keep a list of all our good reads. We first declare an empty list using square brackets. Next, we add some books to the list:"
   ]
  },
  {
   "cell_type": "code",
   "execution_count": null,
   "metadata": {
    "collapsed": true
   },
   "outputs": [],
   "source": [
    "# start with an empty list\n",
    "good_reads = []\n",
    "good_reads.append(\"The Hunger Games\")\n",
    "print(good_reads)\n",
    "good_reads.append(\"A Clockwork Orange\")\n",
    "print(good_reads)"
   ]
  },
  {
   "cell_type": "markdown",
   "metadata": {},
   "source": [
    "As a reminder: do you get the syntax that goes with the `append()` method? The list we wish to append the item to goes first and we join `append()` to this list using a dot (`.`). In between the round brackets that go with the method name, we place the actual string that we wish to add to the list. We call such an input value an *argument* or a *parameter* that we *pass* to a function. Next, the function may return a *return value*, i.e. an object that we can print or assign to a variable (like in `books = \", \".join(good_reads)`, where the return value is a string).\n",
    "Make sure that you are familiar with this terminology because you will often come across such terms when you look for help online!\n",
    "\n",
    "### replacing elements in a list\n",
    "\n",
    "Now, if for some reason we don't like a particular book anymore, we can replace it with a new book as follows, using the old book's index:"
   ]
  },
  {
   "cell_type": "code",
   "execution_count": null,
   "metadata": {
    "collapsed": true
   },
   "outputs": [],
   "source": [
    "good_reads[1] = \"Pride and Prejudice\"\n",
    "print(good_reads)"
   ]
  },
  {
   "cell_type": "markdown",
   "metadata": {},
   "source": [
    "As you see, it is no problem to reset or update an individual item in a list. This is different, however, for strings. Suppose that we have a list of files that end with some letter ('a', 'b', 'c', ...') and that we want to replace that letter by \"x\". If we try to change a single character in a string, this will raise an error because `strings` (and some other types) are *immutable*. That means that they cannot be changed using the index, as opposed to `lists` which *are* mutable. Observe how we will first split the string in a list of characters, replace one character and then join again the modified list of characters."
   ]
  },
  {
   "cell_type": "code",
   "execution_count": null,
   "metadata": {},
   "outputs": [],
   "source": [
    "file = \"task_a.txt\"\n",
    "# file[2] = \"x\" # This would raise a TypeError\n",
    "list_chars = list(file)\n",
    "print(list_chars)\n",
    "list_chars[-5] = \"x\"\n",
    "print(list_chars)\n",
    "delimiter = \"\"\n",
    "print(delimiter.join(list_chars))"
   ]
  },
  {
   "cell_type": "markdown",
   "metadata": {},
   "source": [
    "## DIY"
   ]
  },
  {
   "cell_type": "markdown",
   "metadata": {},
   "source": [
    "Here's another small DIY! Add two new titles to the list of `good_reads`. Then, try to change the title of the second book in our good reads collection:"
   ]
  },
  {
   "cell_type": "code",
   "execution_count": null,
   "metadata": {
    "collapsed": true
   },
   "outputs": [],
   "source": [
    "# insert your code here"
   ]
  },
  {
   "cell_type": "markdown",
   "metadata": {},
   "source": [
    "Lists are a really powerful way of dealing with your data in Python. Let's explore some other ways in which we can manipulate lists."
   ]
  },
  {
   "cell_type": "markdown",
   "metadata": {},
   "source": [
    "#### remove()"
   ]
  },
  {
   "cell_type": "markdown",
   "metadata": {},
   "source": [
    "Let's assume our good reads collection has grown a lot and we would like to remove some of the books from the list. Python provides the function `remove()` that you can call on a list and which takes as argument the item we would like to remove."
   ]
  },
  {
   "cell_type": "code",
   "execution_count": null,
   "metadata": {
    "collapsed": true
   },
   "outputs": [],
   "source": [
    "good_reads = [\"The Hunger Games\", \"A Clockwork Orange\", \n",
    "             \"Pride and Prejudice\", \"Water for Elephants\", \"Illias\", \"Water for Elephants\", \"Water for Elephants\"]\n",
    "print(good_reads)\n",
    "good_reads.remove(\"Water for Elephants\")\n",
    "print(good_reads)\n",
    "good_reads.remove(\"Water for Elephants\")\n",
    "print(good_reads)"
   ]
  },
  {
   "cell_type": "markdown",
   "metadata": {},
   "source": [
    "If we try to remove a book that is not in our collection, Python raises an error to signal that something is wrong."
   ]
  },
  {
   "cell_type": "code",
   "execution_count": null,
   "metadata": {
    "collapsed": true
   },
   "outputs": [],
   "source": [
    "good_reads.remove(\"White Oleander\")"
   ]
  },
  {
   "cell_type": "markdown",
   "metadata": {},
   "source": [
    "Note, however, that `remove()` will only delete the *first* item in the list that is identical to the argument which you passed to the function. Execute the code in the block below and you will see that only the first instance of \"Pride and Prejudice\" gets deleted."
   ]
  },
  {
   "cell_type": "code",
   "execution_count": null,
   "metadata": {
    "collapsed": true
   },
   "outputs": [],
   "source": [
    "good_reads = [\"The Hunger Games\", \"A Clockwork Orange\", \n",
    "             \"Pride and Prejudice\", \"Water for Elephants\", \"Pride and Prejudice\"]\n",
    "good_reads.remove(\"Pride and Prejudice\")\n",
    "print(good_reads)"
   ]
  },
  {
   "cell_type": "markdown",
   "metadata": {},
   "source": [
    "Just as with strings, we can concatenate two lists using the `+` operator. Here is an example:"
   ]
  },
  {
   "cell_type": "code",
   "execution_count": null,
   "metadata": {
    "collapsed": true
   },
   "outputs": [],
   "source": [
    "# first we specify two lists of strings:\n",
    "good_reads = [\"A Clockwork Orange\", \n",
    "              \"Pride and Prejudice\", \"Water for Elephants\",\n",
    "              \"The Shadow of the Wind\", \"Bel Canto\"]\n",
    "bad_reads = [\"Fifty Shades of Grey\", \"Twilight\", \"The Hunger Games\"]\n",
    "\n",
    "# then we combine them\n",
    "all_reads = good_reads + bad_reads\n",
    "print(all_reads)\n",
    "\n",
    "good_reads += bad_reads\n",
    "print(good_reads)"
   ]
  },
  {
   "cell_type": "markdown",
   "metadata": {},
   "source": [
    "#### .sort() and sorted()"
   ]
  },
  {
   "cell_type": "markdown",
   "metadata": {},
   "source": [
    "It is always nice to organise your bookshelf. We can sort our collection alphabetically with the following expressions:"
   ]
  },
  {
   "cell_type": "code",
   "execution_count": null,
   "metadata": {
    "collapsed": true
   },
   "outputs": [],
   "source": [
    "sorted_reads = sorted(good_reads)\n",
    "print(good_reads)\n",
    "print(sorted_reads)\n",
    "\n",
    "good_reads.sort()\n",
    "print(good_reads)"
   ]
  },
  {
   "cell_type": "markdown",
   "metadata": {},
   "source": [
    "Can you spot the difference between `sort()` and `sorted()`?\n",
    "* `sorted()` is a function that can take an object (typically a list, but it works on strings too) and returns the sorted version, which you can assign to a variable. This does not change the original list!\n",
    "* `.sort()` is a list method. It does not return anything; instead, it sorts the list in-place (altering it). There is no need for assigning to a new variable. In fact, if you do, this new variable will contain `None` (since `.sort()` does not return anything). Don't worry if this confuses you - it is confusing at first. If you run into bugs in the future, just remember that it may be caused by this difference in behaviour."
   ]
  },
  {
   "cell_type": "markdown",
   "metadata": {},
   "source": [
    "The functions can be further specified. For example, we might be interested in a reversed sorted list. This is done by adding specifications in the parentheses of the function. See the following code:"
   ]
  },
  {
   "cell_type": "code",
   "execution_count": null,
   "metadata": {},
   "outputs": [],
   "source": [
    "my_list = ['a', 'c', 'b']\n",
    "print(sorted(my_list))\n",
    "print(sorted(my_list, reverse = True))"
   ]
  },
  {
   "cell_type": "markdown",
   "metadata": {},
   "source": [
    "#### nested lists"
   ]
  },
  {
   "cell_type": "markdown",
   "metadata": {},
   "source": [
    "Until now, our lists only consisted of strings. However, a list can contain all kinds of data types, such as integers and even lists! Do you understand what is happening in the following example? Have a close look at the square brackets used."
   ]
  },
  {
   "cell_type": "code",
   "execution_count": null,
   "metadata": {
    "collapsed": true
   },
   "outputs": [],
   "source": [
    "nested_list = [[1, 2, 3, 4], [5, 6, 7, 8]]\n",
    "print(nested_list[0])\n",
    "print(nested_list[0][0])\n",
    "print(nested_list[1][2])\n",
    "print(nested_list[0][:-2])"
   ]
  },
  {
   "cell_type": "markdown",
   "metadata": {},
   "source": [
    "We can put this to use to enhance our good reads collection with a score for every book we have. An entry in our collection will consist of a score within the range of `1` to `10` and the title of our book. The first element is the title, the second the score: `[title, score]`. We initialize an empty list, and add two books to it:"
   ]
  },
  {
   "cell_type": "code",
   "execution_count": null,
   "metadata": {
    "collapsed": true
   },
   "outputs": [],
   "source": [
    "good_reads = []\n",
    "good_reads.append([\"Pride and Prejudice\", 8])\n",
    "good_reads.append([\"A Clockwork Orange\", 9])\n",
    "print(good_reads)"
   ]
  },
  {
   "cell_type": "markdown",
   "metadata": {},
   "source": [
    "## DIY"
   ]
  },
  {
   "cell_type": "markdown",
   "metadata": {},
   "source": [
    "Update the `good_reads` collection with some of your own books and give them all a score and a publication year by nesting lists. Can you print out the score you gave to the first book in the list? And the publication year of the third item in your list? (Hint: you can pile up indexes using square brackets!)"
   ]
  },
  {
   "cell_type": "code",
   "execution_count": null,
   "metadata": {
    "collapsed": true
   },
   "outputs": [],
   "source": [
    "# insert your code here"
   ]
  },
  {
   "cell_type": "markdown",
   "metadata": {},
   "source": [
    "##### What we have learnt"
   ]
  },
  {
   "cell_type": "markdown",
   "metadata": {},
   "source": [
    "To finish this section, here is an overview of the new concepts you have learnt. Go through them and make sure you understand them all.\n",
    "\n",
    "- lists\n",
    "- nested lists\n",
    "- *mutable* versus *immutable*\n",
    "- `.append()`\n",
    "- `.remove()`\n",
    "- `.sort()`"
   ]
  },
  {
   "cell_type": "markdown",
   "metadata": {},
   "source": [
    "-------------"
   ]
  },
  {
   "cell_type": "markdown",
   "metadata": {},
   "source": [
    "## Dictionaries"
   ]
  },
  {
   "cell_type": "markdown",
   "metadata": {},
   "source": [
    "Our little good reads collection is starting to look quite impressive and we can perform all kinds of manipulations on it. Now, imagine that our list is large and we would like to look up the score we gave to a particular book. How are we going to find that book? For this purpose Python provides another more appropriate data structure, named `dictionary`, or `dict` for short. A `dictionary` is similar to the dictionaries you have at home. It consists of entries, or *keys*, that hold a value. Let's define one:"
   ]
  },
  {
   "cell_type": "code",
   "execution_count": null,
   "metadata": {
    "collapsed": true
   },
   "outputs": [],
   "source": [
    "my_dict = {\"book\": \"physical objects consisting of a number of pages bound together\",\n",
    "           \"sword\": \"a cutting or thrusting weapon that has a long metal blade\"}\n",
    "print(my_dict)"
   ]
  },
  {
   "cell_type": "markdown",
   "metadata": {},
   "source": [
    "Take a close look at the new syntax. Notice the curly brackets and the colons.\n",
    "\n",
    "You can define an empty dictionary with `my_dict = {}` or `my_dict = dict()`.\n",
    "\n",
    "To look up the value of a given key, we *index* the dictionary using that key (again, between square brackets):"
   ]
  },
  {
   "cell_type": "code",
   "execution_count": null,
   "metadata": {
    "collapsed": true
   },
   "outputs": [],
   "source": [
    "description = my_dict[\"sword\"]\n",
    "print(description)"
   ]
  },
  {
   "cell_type": "markdown",
   "metadata": {},
   "source": [
    "We can also add new entries, or update existing ones:"
   ]
  },
  {
   "cell_type": "code",
   "execution_count": null,
   "metadata": {
    "collapsed": true
   },
   "outputs": [],
   "source": [
    "my_dict[\"pie\"] = \"dish baked in pastry-lined pan often with a pastry top\"\n",
    "print(my_dict)\n",
    "my_dict[\"sword\"] = \"a pointy metal stick\"\n",
    "print(my_dict)"
   ]
  },
  {
   "cell_type": "markdown",
   "metadata": {},
   "source": [
    "Like lists, dictionaries are mutable which means we can add and remove entries from it. Let's define an empty dictionary and add some books to it. The titles will be our keys and the scores their values. After this, we will remove a title. You do this with the 'del' command followed by the dictionary key."
   ]
  },
  {
   "cell_type": "code",
   "execution_count": null,
   "metadata": {},
   "outputs": [],
   "source": [
    "good_reads = {}\n",
    "good_reads[\"Pride and Prejudice\"] = 8\n",
    "good_reads[\"A Clockwork Orange\"] = 9\n",
    "print(good_reads[\"Pride and Prejudice\"])\n",
    "print(good_reads)\n",
    "del good_reads[\"A Clockwork Orange\"]\n",
    "print(good_reads)"
   ]
  },
  {
   "cell_type": "markdown",
   "metadata": {},
   "source": [
    "In a way, this is similar to what we have seen before when we altered our book `list`. There we indexed the list using a integer to access a particular book. Here we directly use the title of the book. Note that the keys in a dictionary must be unique: why would that be?"
   ]
  },
  {
   "cell_type": "markdown",
   "metadata": {},
   "source": [
    "## DIY"
   ]
  },
  {
   "cell_type": "markdown",
   "metadata": {},
   "source": [
    "Update the new good reads data structure with your own books. Try to print out the score you gave for one of the books which you added."
   ]
  },
  {
   "cell_type": "code",
   "execution_count": null,
   "metadata": {
    "collapsed": true
   },
   "outputs": [],
   "source": [
    "# put your code here"
   ]
  },
  {
   "cell_type": "markdown",
   "metadata": {},
   "source": [
    "#### keys(), values(), items()"
   ]
  },
  {
   "cell_type": "markdown",
   "metadata": {},
   "source": [
    "To retrieve a list of all the books we have in our collection, we can ask the dictionary to return its keys as a list:"
   ]
  },
  {
   "cell_type": "code",
   "execution_count": null,
   "metadata": {
    "collapsed": true
   },
   "outputs": [],
   "source": [
    "keys = good_reads.keys()\n",
    "print(keys) # You can see that the dictionary method .keys() does not really return a list\n",
    "keys = list(keys) # But we can cast the dict_keys object as a list\n",
    "print(keys)"
   ]
  },
  {
   "cell_type": "markdown",
   "metadata": {},
   "source": [
    "Similarly we can ask for the values:"
   ]
  },
  {
   "cell_type": "code",
   "execution_count": null,
   "metadata": {
    "collapsed": true
   },
   "outputs": [],
   "source": [
    "print(list(good_reads.values()))"
   ]
  },
  {
   "cell_type": "markdown",
   "metadata": {},
   "source": [
    "Finally, if we want to work with both keys and values, we may need to say this explicitly (instead of using the unmarked option) with the specification `.items()`:"
   ]
  },
  {
   "cell_type": "code",
   "execution_count": null,
   "metadata": {},
   "outputs": [],
   "source": [
    "print(good_reads.items())"
   ]
  },
  {
   "cell_type": "markdown",
   "metadata": {},
   "source": [
    "An important property of dictionaries that you should keep in mind, is that they have no concept of order. Unlike lists, which remember the order of the elements it contains, **dictionaries are unordered**. The reason for this is mainly technical (it makes dictionary lookup much much faster), and in practice it does not usually matter (because you will typically look up things in the dictionary instead of reading it from beginning to end). Just keep it in mind when you use the `.keys()` and `.values()` methods: the order in which they present the results is semi-random."
   ]
  },
  {
   "cell_type": "markdown",
   "metadata": {},
   "source": [
    "##### What we have learnt"
   ]
  },
  {
   "cell_type": "markdown",
   "metadata": {},
   "source": [
    "To finish this section, here is an overview of the new concepts and functions you have learnt. Make sure you understand them all.\n",
    "\n",
    "-  dictionary\n",
    "-  indexing dictionaries and accessing values through their keys\n",
    "-  adding items to a dictionary\n",
    "-  `.keys()`\n",
    "-  `.values()`"
   ]
  }
 ],
 "metadata": {
  "kernelspec": {
   "display_name": "Python 3",
   "language": "python",
   "name": "python3"
  },
  "language_info": {
   "codemirror_mode": {
    "name": "ipython",
    "version": 3
   },
   "file_extension": ".py",
   "mimetype": "text/x-python",
   "name": "python",
   "nbconvert_exporter": "python",
   "pygments_lexer": "ipython3",
   "version": "3.6.8"
  }
 },
 "nbformat": 4,
 "nbformat_minor": 1
}
