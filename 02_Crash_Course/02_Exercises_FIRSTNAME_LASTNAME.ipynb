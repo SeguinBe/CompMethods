{
 "cells": [
  {
   "cell_type": "markdown",
   "metadata": {},
   "source": [
    "# Exercises"
   ]
  },
  {
   "cell_type": "markdown",
   "metadata": {},
   "source": [
    "-  Ex. 1: Consider the `lookup` dictionary below. The following letters are still missing from it: `'k':'kilo', 'l':'lima', 'm':'mike'`. Add them to `lookup` one by one! Could you spell the word \"marvellous\" in code language now? Collect these codes into a list object called `msg`. Next, join the items in this list together with a comma and print the spelled out version!"
   ]
  },
  {
   "cell_type": "code",
   "execution_count": null,
   "metadata": {},
   "outputs": [],
   "source": [
    "# lookup code\n",
    "lookup = {'a':'alpha', 'b':'bravo', 'c':'charlie', 'd':'delta', 'e':'echo',\n",
    "          'f':'foxtrot', 'g':'golf', 'h':'hotel', 'i':'india', 'j':'juliett',\n",
    "          'n':'november', 'o':'oscar', 'p':'papa', 'q':'quebec', 'r':'romeo',\n",
    "          's':'sierra', 't':'tango', 'u':'uniform', 'v':'victor', 'w':'whiskey',\n",
    "          'x':'x-ray', 'y':'yankee', 'z':'zulu'} # Don't change this line\n",
    "\n",
    "# Insert code here\n",
    "\n"
   ]
  },
  {
   "cell_type": "markdown",
   "metadata": {},
   "source": [
    "- Ex. 2: Here are list of books, can you separate them based on their language?"
   ]
  },
  {
   "cell_type": "code",
   "execution_count": null,
   "metadata": {},
   "outputs": [],
   "source": [
    "books = [\n",
    "    {'language': 'italian', 'title': 'Titulo I', 'author': 'Author A'},\n",
    "    {'language': 'french', 'title': 'Titre II', 'author': 'Author B'},\n",
    "    {'language': 'italian', 'title': 'Titulo III', 'author': 'Author B'},\n",
    "    {'language': 'french', 'title': 'Titre IV', 'author': 'Author B'},\n",
    "    {'language': 'italian', 'title': 'Titulo V', 'author': 'Author C'},\n",
    "]\n",
    "\n",
    "italian_books = []\n",
    "french_books = []\n",
    "\n",
    "# Your code here\n",
    "\n"
   ]
  },
  {
   "cell_type": "markdown",
   "metadata": {},
   "source": [
    "Can you also separate them based on their author, without hard-coding the author names (i.e. consider we don't know in advance which authors are present). The results should be a dictionary with keys as author names and values being lists of associated bookd to the author.\n",
    "\n",
    "`{'Author A': [{'language': 'italian', ...}, ...], 'Author B': [...], ...}`"
   ]
  },
  {
   "cell_type": "code",
   "execution_count": null,
   "metadata": {},
   "outputs": [],
   "source": [
    "books_per_author = dict()\n",
    "# Your code here\n"
   ]
  },
  {
   "cell_type": "markdown",
   "metadata": {},
   "source": [
    "- Ex. 3: Write a function `is_palindrome` that takes as input a single string and returns the boolean wether or not.\n",
    "\n",
    "Hint: reversing a word can be done with `\"\".join(reversed(word))` or `word[::-1]`"
   ]
  },
  {
   "cell_type": "code",
   "execution_count": null,
   "metadata": {},
   "outputs": [],
   "source": [
    "# Insert your code here\n",
    "\n",
    "\n",
    "\n",
    "# Output should be \"True True False\"\n",
    "print(is_palindrome(\"level\"), is_palindrome(\"radar\"), is_palindrome(\"palindrome\"))\n",
    "\n",
    "for word in['bicycle', 'radar', 'origin', 'tie', 'level', 'poop', 'solar', 'nun']:\n",
    "    if is_palindrome(word):\n",
    "        print(f\"{word} is a palindrome\")\n",
    "    else:\n",
    "        print(f\"{word} is not a palindrome\")"
   ]
  },
  {
   "cell_type": "markdown",
   "metadata": {},
   "source": [
    "- Ex. 4: There are words which are not palindromes, but when reversed another existing word emerges. Consider the words *stressed* and *desserts*. We give you a text that contains a few of them, output all pairs that occur in the text (regardless of case), but exclude words with a length of one. A lot of things come together in this exercise, so it's normal if you cannot solve it easily."
   ]
  },
  {
   "cell_type": "code",
   "execution_count": null,
   "metadata": {},
   "outputs": [],
   "source": [
    "text = \"I just live for desserts , I really love them . My dog does too . I saw he ate mine . I was very stressed because of that . If dogs steal desserts God can't be real , for it is pure evil .\" \n",
    "all_rev_words = []\n",
    "\n",
    "# insert your code here\n",
    "\n",
    "\n",
    "\n",
    "# The output should be ['evil', 'stressed', 'was', 'saw', 'desserts', 'stressed', 'live']\n",
    "print(all_rev_words)"
   ]
  },
  {
   "cell_type": "markdown",
   "metadata": {},
   "source": [
    "- Optional Hard Ex. 5: What we want you to do is write code that counts how often the letter *a* occurs in a text. You cannot do this, however, on the basis of the text itself. Instead, you need to do this on the basis of a frequency dictionary of the text. In this dictionary `frequency_dictionary`, keys are words and values are the frequencies of each word in the text. Assign your value to the variable `number_of_as`.\n",
    "\n",
    "Tip: you can use the string method `.count()` to count the number of occurrences of a substring in a string."
   ]
  },
  {
   "cell_type": "code",
   "execution_count": null,
   "metadata": {},
   "outputs": [],
   "source": [
    "frequency_dictionary = {\"Beg\": 1, \"Goddard's\": 1, \"I\": 3, \"them\": 2, \"absent\": 1, \"already\": 1,\n",
    "                          \"alteration\": 1, \"amazement\": 2, \"appeared\": 1, \"apprehensively\": 1, \n",
    "                          \"associations\": 1, 'clever': 1, 'clock': 1, 'composedly': 1, \n",
    "                          'deeply': 7, 'do': 7, 'encouragement': 1, 'entrapped': 1,\n",
    "                          'expressed': 1, 'flatterers': 1, 'following': 12, 'gone': 9, \n",
    "                          'happening': 4, 'hero': 2, 'housekeeper': 1, 'ingratitude': 1, \n",
    "                          'like': 1, 'marriage': 15, 'not': 25, 'opportunities': 1,\n",
    "                          'outgrown': 1, 'playfully': 2, 'remain': 1, 'required': 2, \n",
    "                          'ripening': 1, 'slippery': 1, 'touch': 1, 'twenty-five': 1,\n",
    "                          'ungracious': 2, 'unwell': 1, 'verses': 1, 'yards': 5}\n",
    "number_of_as = 0\n",
    "\n",
    "# insert your code here\n",
    "\n",
    "\n",
    "# if your code is correct, the following line should print True!\n",
    "print(number_of_as == 63)"
   ]
  }
 ],
 "metadata": {
  "kernelspec": {
   "display_name": "Python 3",
   "language": "python",
   "name": "python3"
  },
  "language_info": {
   "codemirror_mode": {
    "name": "ipython",
    "version": 3
   },
   "file_extension": ".py",
   "mimetype": "text/x-python",
   "name": "python",
   "nbconvert_exporter": "python",
   "pygments_lexer": "ipython3",
   "version": "3.6.8"
  }
 },
 "nbformat": 4,
 "nbformat_minor": 1
}
