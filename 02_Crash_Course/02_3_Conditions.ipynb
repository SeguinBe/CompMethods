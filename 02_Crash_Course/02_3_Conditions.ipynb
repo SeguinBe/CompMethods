{
 "cells": [
  {
   "cell_type": "markdown",
   "metadata": {},
   "source": [
    "# Conditions"
   ]
  },
  {
   "cell_type": "markdown",
   "metadata": {},
   "source": [
    "### Simple conditions"
   ]
  },
  {
   "cell_type": "markdown",
   "metadata": {},
   "source": [
    "A lot of programming has to do with executing code *if* a particular condition holds.  Here we give a brief overview of how you can express certain conditions in Python. Can you figure our what all of the conditions do?"
   ]
  },
  {
   "cell_type": "code",
   "execution_count": null,
   "metadata": {},
   "outputs": [],
   "source": [
    "print(2 < 5)\n",
    "print(2 <= 5)\n",
    "print(3 > 7)\n",
    "print(3 >= 7)\n",
    "print(3 == 3)\n",
    "print(\"school\" == \"school\")\n",
    "print(\"Python\" != \"Perl\")"
   ]
  },
  {
   "cell_type": "markdown",
   "metadata": {},
   "source": [
    "The relevant _logical operators_ that we used here are: `<`, `<=`, `>`,`>=`,`==`,`!=`. In Pythonspeak, we say that such a logical expression gets _evaluated_ when you run the code. The outcome of such an evaluation is a _binary value_ or a so-called _boolean_ that can take only two possible values: `True` or `False`. You can assign such a boolean to a variable:"
   ]
  },
  {
   "cell_type": "code",
   "execution_count": null,
   "metadata": {},
   "outputs": [],
   "source": [
    "greater = (5 > 2)\n",
    "print(greater)\n",
    "greater = 5 < 2\n",
    "print(greater)\n",
    "print(type(greater))"
   ]
  },
  {
   "cell_type": "markdown",
   "metadata": {},
   "source": [
    "### if, elif and else"
   ]
  },
  {
   "attachments": {
    "pythonconditions.png": {
     "image/png": "[encoded data removed]"
    }
   },
   "cell_type": "markdown",
   "metadata": {},
   "source": [
    "![pythonconditions.png](attachment:pythonconditions.png)\n",
    "\n",
    "At the end of the previous chapter, we have talked about dictionaries, which are a kind of data structure which you will need a lot when writing Python. Recall our collection of good_reads from the previous chapter. Recall that we could use the key of an entry to retrieve the score of a book in our collection:"
   ]
  },
  {
   "cell_type": "code",
   "execution_count": null,
   "metadata": {},
   "outputs": [],
   "source": [
    "good_reads = {\"Emma\": 8, \"Pride and Prejudice\": 10, \"Sense and Sensibility\": 7, \"Northanger Abbey\": 3}\n",
    "score = good_reads[\"Sense and Sensibility\"]\n",
    "print(score)"
   ]
  },
  {
   "cell_type": "markdown",
   "metadata": {},
   "source": [
    "At some point, however, we might forget which books we have already added to our collection. What happens if we try to get the score of a book that is not in our collection?"
   ]
  },
  {
   "cell_type": "code",
   "execution_count": null,
   "metadata": {},
   "outputs": [],
   "source": [
    "score = good_reads[\"Moby Dick\"]\n",
    "print(score)"
   ]
  },
  {
   "cell_type": "markdown",
   "metadata": {},
   "source": [
    "We get an error, and more specifically a `KeyError`, which basically means: \"the key you asked me to look up is not in the dictionary...\". We will learn a lot more about error handling later, but for now we would like to prevent our program from giving it in the first place. Let's write a little program that prints \"X is in the collection\" if a particular book is in the collection and \"X is NOT in the collection\" if it is not."
   ]
  },
  {
   "cell_type": "code",
   "execution_count": null,
   "metadata": {},
   "outputs": [],
   "source": [
    "book = \"Moby Dick\"\n",
    "if book in good_reads:\n",
    "    print(book + \" is in the collection\")\n",
    "else:\n",
    "    print(book + \" is NOT in the collection\")"
   ]
  },
  {
   "cell_type": "markdown",
   "metadata": {},
   "source": [
    "A lot of new syntax here. Let's go through it step by step. First we check whether the value we assigned to `book` is in our collection. The part after `if` is a logical expression which will be `True` or `False`:"
   ]
  },
  {
   "cell_type": "code",
   "execution_count": null,
   "metadata": {},
   "outputs": [],
   "source": [
    "print(book in good_reads)\n",
    "l = [1,2,3,4]\n",
    "print(1 in l)"
   ]
  },
  {
   "cell_type": "markdown",
   "metadata": {},
   "source": [
    "Because our book is not in the collection, Python returns `False`. Let's do the same thing for a book that we know is in the collection:"
   ]
  },
  {
   "cell_type": "code",
   "execution_count": null,
   "metadata": {
    "scrolled": true
   },
   "outputs": [],
   "source": [
    "print(\"Emma\" in good_reads)"
   ]
  },
  {
   "cell_type": "markdown",
   "metadata": {},
   "source": [
    "Indeed, it is in the collection! Back to our `if` statement. If the expression after `if` evaluates to `True`, our program will go on to the next line and print `Found it!`. Let's try that as well:"
   ]
  },
  {
   "cell_type": "code",
   "execution_count": null,
   "metadata": {},
   "outputs": [],
   "source": [
    "if \"Emma\" in good_reads:\n",
    "    print(\"Found it!\")"
   ]
  },
  {
   "cell_type": "code",
   "execution_count": null,
   "metadata": {},
   "outputs": [],
   "source": [
    "if book in good_reads:\n",
    "    print(\"Found it!\")\n",
    "else:\n",
    "    print(\"Not found!\")"
   ]
  },
  {
   "cell_type": "markdown",
   "metadata": {},
   "source": [
    "Notice that the last print statement is not executed. That is because the value we assigned to `book` is not in our collection and thus the part after `if` did not evaluate to `True`, so the code on the second line is not executed.\n",
    "\n",
    "In our little program above we used another statement besides `if`, namely `else`. It shouldn't be too hard to figure out what's going on here. The part after `else` will be evaluated if the `if` statement evaluated to `False`. In English: if the book is not in the collection, print that it is not."
   ]
  },
  {
   "cell_type": "markdown",
   "metadata": {},
   "source": [
    "### Indentation!"
   ]
  },
  {
   "cell_type": "markdown",
   "metadata": {},
   "source": [
    "Unlike other languages, Python does not make use of curly braces to mark the start and end of pieces of code, like `if`-statements. The only delimiter is a colon (`:`) and the indentation of the code (i.e. the use of whitespace). This indentation must be used consistently throughout your code. The convention is to use 4 spaces as indentation. This means that after you have used a colon (such as in our `if` statement) the next line should be indented by four spaces. (The shortcut for typing these 4 spaces in many editors is inserting a *TAB*.)"
   ]
  },
  {
   "cell_type": "markdown",
   "metadata": {},
   "source": [
    "Sometimes we have various conditions that should all evaluate to something different. For that, Python provides the `elif` statement. We use it similar to `if` and `else`. Note however that you can only use `elif` after an `if` statement! Above we asked whether a book was in the dictionary. We can do the same thing for parts of strings or for items in a list. For example we could test whether the letter *a* is in the word *banana*:"
   ]
  },
  {
   "cell_type": "code",
   "execution_count": null,
   "metadata": {},
   "outputs": [],
   "source": [
    "print(\"a\" in \"banana\")"
   ]
  },
  {
   "cell_type": "markdown",
   "metadata": {},
   "source": [
    "Likewise the following evaluates to `False`:"
   ]
  },
  {
   "cell_type": "code",
   "execution_count": null,
   "metadata": {},
   "outputs": [],
   "source": [
    "print(\"z\" in \"banana\")"
   ]
  },
  {
   "cell_type": "markdown",
   "metadata": {},
   "source": [
    "Let's use this in an `if-elif-else` combination, a very common way to implement 'decision trees' in Python:"
   ]
  },
  {
   "cell_type": "code",
   "execution_count": null,
   "metadata": {},
   "outputs": [],
   "source": [
    "word = \"rocket science\"\n",
    "if \"a\" in word:\n",
    "    print(word + \" contains the letter a\")\n",
    "elif \"s\" in word:\n",
    "    print(word + \" contains the letter s\")\n",
    "elif \"d\" in word:\n",
    "    print(word + \" contains the letter d\")\n",
    "elif \"c\" in word:\n",
    "    print(word + \" contains the letter c\")\n",
    "else:\n",
    "    print(word + \"does not contain the letters a, s, d or c\")\n",
    "    print(\"What a weird word!\")"
   ]
  },
  {
   "cell_type": "markdown",
   "metadata": {},
   "source": [
    "First the `if` statement will be evaluated. *Only if* that statement turns out to be `False` the computer will proceed to evaluate the `elif` statement. If the elif statement in turn would prove to be `False`, the machine will proceed and execute the next `elif`s and finally the `else` statement, if none of the `if` or `elif` conditions is `True`. You can think of this coding structure as a decision tree! Remember: if somewhere along the tree, your machine comes across a logical expression which is `True`, it won't bother anymore to evaluate the remaining options! This is why nothing is printed for the letter `c`."
   ]
  },
  {
   "cell_type": "markdown",
   "metadata": {},
   "source": [
    "--------"
   ]
  },
  {
   "cell_type": "markdown",
   "metadata": {},
   "source": [
    "## DIY"
   ]
  },
  {
   "cell_type": "markdown",
   "metadata": {},
   "source": [
    "Let's practice our new condition skills a little. Write a small program that defines a variable `weight` with some integer of your choosing. If the weight is more than 50 pounds, print \"There is a $25 charge for luggage that heavy.\" If it is not, print: \"Thank you for your business.\" If the weight is exactly 50, print: \"Pfiew! The weight is just right!\". Change the value of weight a couple of times to check whether your code works. (Tip: make use of the logical operators and `if-elif-else` tree! Make sure you use the correct indentation.)"
   ]
  },
  {
   "cell_type": "code",
   "execution_count": null,
   "metadata": {},
   "outputs": [],
   "source": [
    "# insert your code here\n",
    "weight = int(input())\n"
   ]
  },
  {
   "cell_type": "markdown",
   "metadata": {},
   "source": [
    "-------"
   ]
  },
  {
   "cell_type": "markdown",
   "metadata": {},
   "source": [
    "### and, or, not"
   ]
  },
  {
   "attachments": {
    "andornot.png": {
     "image/png": "[encoded data removed]"
    }
   },
   "cell_type": "markdown",
   "metadata": {},
   "source": [
    "![andornot.png](attachment:andornot.png)\n",
    "\n",
    "Until now, our conditions consisted of *single* logical expresssions. However, quite often we would like to test for multiple conditions: for instance, you would like to tell your computer to do something if this and this were true but this and that were not true. Python provides a number of ways to do that. The first is with the `and` statement which allows us to combine two expressions that both need to be true in order for the combination to be true. Let's see how that works:"
   ]
  },
  {
   "cell_type": "code",
   "execution_count": null,
   "metadata": {},
   "outputs": [],
   "source": [
    "word = \"banana\"\n",
    "if \"a\" in word and \"b\" in word:\n",
    "    print(\"Both a and b are in \" + word)"
   ]
  },
  {
   "cell_type": "markdown",
   "metadata": {},
   "source": [
    "Note how we can use round brackets to make the code more readable (but you can just as easily leave them out):"
   ]
  },
  {
   "cell_type": "code",
   "execution_count": null,
   "metadata": {},
   "outputs": [],
   "source": [
    "word = \"banana\"\n",
    "if (\"a\" in word) and (\"b\" in word):\n",
    "    print(\"Both a and b are in \" + word)"
   ]
  },
  {
   "cell_type": "markdown",
   "metadata": {},
   "source": [
    "If one of the expressions evaluates to False, nothing will be printed:"
   ]
  },
  {
   "cell_type": "code",
   "execution_count": null,
   "metadata": {},
   "outputs": [],
   "source": [
    "if (\"a\" in word) and (\"z\" in word):\n",
    "    print(\"Both a and z are in \" + word)"
   ]
  },
  {
   "cell_type": "markdown",
   "metadata": {},
   "source": [
    "Now you know that the `and` operator exists in Python, you won't be too surprised to learn that there is also an `or` operator in Python that you can use. Replace `and` with `or` in the `if` statement below. Can you deduce what happens? "
   ]
  },
  {
   "cell_type": "code",
   "execution_count": null,
   "metadata": {},
   "outputs": [],
   "source": [
    "word = \"banana\"\n",
    "if \"a\" in word and \"z\" in word:\n",
    "    print(\"Both a and z are in \" + word)"
   ]
  },
  {
   "cell_type": "markdown",
   "metadata": {},
   "source": [
    "In the code block below, can you add an `else` statement that prints that none of the letters were found?"
   ]
  },
  {
   "cell_type": "code",
   "execution_count": null,
   "metadata": {},
   "outputs": [],
   "source": [
    "# word = \"the\"\n",
    "if (\"a\" in word) or (\"z\" in word):\n",
    "    print(\"a or z are in \" + word)\n",
    "else:\n",
    "    print(\"Neither letters were found.\")\n",
    "# insert your code here"
   ]
  },
  {
   "cell_type": "markdown",
   "metadata": {},
   "source": [
    "Finally we can use `not` to test for conditions that are not true. "
   ]
  },
  {
   "cell_type": "code",
   "execution_count": null,
   "metadata": {},
   "outputs": [],
   "source": [
    "if (\"z\" not in word):\n",
    "    print(\"z is not in \" + word)"
   ]
  },
  {
   "cell_type": "markdown",
   "metadata": {},
   "source": [
    "Objects, such as strings or integers or lists, can also be evaluated as `True` or `False`. Whenever they contain something, they evaluate to `True`. The integer `0`, the float `0.0`, empty strings, lists, dictionaries etc on the other hand are `False`. This principle is often used by programmers to, for example, only execute a piece of code if a certain list contains anything at all:"
   ]
  },
  {
   "cell_type": "code",
   "execution_count": null,
   "metadata": {},
   "outputs": [],
   "source": [
    "empty_str = \"\" # str()\n",
    "empty_list = [] #list()\n",
    "if empty_list:\n",
    "    print(\"there is something in the list\")\n",
    "else:\n",
    "    print(\"Nothing in list.\")\n",
    "\n",
    "numbers = [1, 2, 3, 4]\n",
    "if numbers:\n",
    "    print(\"I found some numbers!\")"
   ]
  },
  {
   "cell_type": "markdown",
   "metadata": {},
   "source": [
    "Now if our list were empty, Python wouldn't print anything:"
   ]
  },
  {
   "cell_type": "code",
   "execution_count": null,
   "metadata": {},
   "outputs": [],
   "source": [
    "numbers = []\n",
    "if numbers:\n",
    "    print(\"I found some numbers!\")"
   ]
  },
  {
   "cell_type": "markdown",
   "metadata": {},
   "source": [
    "--------"
   ]
  },
  {
   "cell_type": "markdown",
   "metadata": {},
   "source": [
    "##  DIY"
   ]
  },
  {
   "cell_type": "markdown",
   "metadata": {},
   "source": [
    "- Can you write code that prints \"This is an empty list\" if the provided list does not contain any values?"
   ]
  },
  {
   "cell_type": "code",
   "execution_count": null,
   "metadata": {},
   "outputs": [],
   "source": [
    "# insert your code here\n",
    "my_list = []\n",
    "\n"
   ]
  },
  {
   "cell_type": "markdown",
   "metadata": {},
   "source": [
    "- Can you do the same thing, but this time using the function `len()`?"
   ]
  },
  {
   "cell_type": "code",
   "execution_count": null,
   "metadata": {},
   "outputs": [],
   "source": [
    "# insert your code here\n"
   ]
  },
  {
   "cell_type": "markdown",
   "metadata": {},
   "source": [
    "### Nested if-statements\n",
    "Sometimes you want to introduce hierarchized if-statements in your script instead of adding if-statements with 'and'. "
   ]
  },
  {
   "cell_type": "code",
   "execution_count": null,
   "metadata": {},
   "outputs": [],
   "source": [
    "word = \"view\"\n",
    "if \" \" not in word:\n",
    "    if len(word) > 6:\n",
    "        print(\"long :\", w ord)\n",
    "    else:\n",
    "        print(\"short : \", word)\n",
    "else:\n",
    "    print(\"expression : \", word)"
   ]
  },
  {
   "cell_type": "markdown",
   "metadata": {},
   "source": [
    "-----------"
   ]
  },
  {
   "cell_type": "markdown",
   "metadata": {},
   "source": [
    "##### What we have learnt"
   ]
  },
  {
   "cell_type": "markdown",
   "metadata": {},
   "source": [
    "To finish this section, here is an overview of the new functions, statements and concepts we have learnt. Go through them and make sure you understand what their purpose is and how they are used.\n",
    "\n",
    "-  conditions\n",
    "-  indentation\n",
    "-  `if`\n",
    "-  `elif`\n",
    "-  `else`\n",
    "-  `True`\n",
    "-  `False`\n",
    "-  empty objects are `False`\n",
    "-  `in`\n",
    "-  `and`\n",
    "-  `or`\n",
    "-  `not`\n",
    "-  multiple conditions\n",
    "-  `==`\n",
    "-  `<`\n",
    "-  `>`\n",
    "-  `!=`\n",
    "-  `KeyError`"
   ]
  },
  {
   "cell_type": "markdown",
   "metadata": {},
   "source": [
    "---------"
   ]
  }
 ],
 "metadata": {
  "kernelspec": {
   "display_name": "Python 3",
   "language": "python",
   "name": "python3"
  },
  "language_info": {
   "codemirror_mode": {
    "name": "ipython",
    "version": 3
   },
   "file_extension": ".py",
   "mimetype": "text/x-python",
   "name": "python",
   "nbconvert_exporter": "python",
   "pygments_lexer": "ipython3",
   "version": "3.6.8"
  }
 },
 "nbformat": 4,
 "nbformat_minor": 1
}
