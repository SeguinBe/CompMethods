{
 "cells": [
  {
   "cell_type": "markdown",
   "metadata": {},
   "source": [
    "# External modules"
   ]
  },
  {
   "cell_type": "markdown",
   "metadata": {},
   "source": [
    "## Importing external modules"
   ]
  },
  {
   "cell_type": "markdown",
   "metadata": {},
   "source": [
    "Most of the functionality we have used so far, is simply built into the Python language itself. Often, however, you need to use external modules in your code, to have access to more specific functionality that you do not want to code yourself. A lot of external modules are already available in the Python Standard Library, for a wide variety of tasks. There are also countless third-party providers of Python modules. \n",
    "\n",
    "To use an external module in your code, you need to explicitly 'import' it. Consider for example the module `random` from the standard library, which contains functions for generating random numbers:"
   ]
  },
  {
   "cell_type": "code",
   "execution_count": null,
   "metadata": {},
   "outputs": [],
   "source": [
    "import random\n",
    "print(random.randint(0, 10)) # randint takes two arguments: the lower and upper bound between which to choose an int"
   ]
  },
  {
   "cell_type": "markdown",
   "metadata": {},
   "source": [
    "Note the syntax used: using the dot, we indicate that our machine should look for the `randint()` function inside the `random` module we just imported. You can import an entire module or import only a specific function in the module. We could also have imported the (single) function we needed as follows:"
   ]
  },
  {
   "cell_type": "code",
   "execution_count": null,
   "metadata": {},
   "outputs": [],
   "source": [
    "from random import randint\n",
    "print(randint(0, 100))"
   ]
  },
  {
   "cell_type": "markdown",
   "metadata": {},
   "source": [
    "In this case we wouldn't have to specify where our machine should find the `randint()` function. This can save on some typing if you have to use the function often in your code. You can also (temporarily) change the names of the functions you import, using the `as` syntax:"
   ]
  },
  {
   "cell_type": "code",
   "execution_count": null,
   "metadata": {},
   "outputs": [],
   "source": [
    "from random import randint as random_integer\n",
    "print(random_integer(0, 100))"
   ]
  },
  {
   "cell_type": "markdown",
   "metadata": {},
   "source": [
    "Imported libraries stay available throughout a session, so you only need to import them once in a notebook (although it does not hurt to import the same library more than once)."
   ]
  },
  {
   "cell_type": "markdown",
   "metadata": {},
   "source": [
    "## Installing external modules\n",
    "\n",
    "In your Anaconda navigator, have a look at the environment tab. Here it lists all the packages already installed in your current base environment, and all the packages available for install directly as well."
   ]
  },
  {
   "cell_type": "markdown",
   "metadata": {},
   "source": [
    "---"
   ]
  },
  {
   "cell_type": "markdown",
   "metadata": {},
   "source": [
    "## Reading in files\n",
    "\n",
    "Input for your programs often comes from files on your disk, such as 'corpora' (a 'corpus' is what we call a large collection of digital text in linguistics). Likewise, you often want output to be written back to files on your disk as well. Thus, reading and writing files is often an essential part of programming and, lucky, for us, this is really simple in Python. The following example reads a file from disk, the default way:"
   ]
  },
  {
   "cell_type": "code",
   "execution_count": null,
   "metadata": {},
   "outputs": [],
   "source": [
    "# You probably need to adjust the path depending on where you put the data folder\n",
    "f = open('data/Arnold__Literature_and_Dogma.txt', 'r', encoding='utf-8')\n",
    "text = f.read()\n",
    "f.close()\n",
    "print(text)"
   ]
  },
  {
   "cell_type": "markdown",
   "metadata": {},
   "source": [
    "So what exactly happens here? The `open()` function does not return the actual text that is saved in the text file. It only returns a so-called 'file object' from which we can read the content using the `.read()` function. We passed three arguments to the `open()` function:\n",
    "\n",
    " * the path to the file that you wish to open. A path specifies a location on disk, using folder and file names combined with forward slashes (backward slashes on Windows, for some reason). There are two kinds of paths (more on this below, when we discuss directories):\n",
    "   * *relative paths* start from the location where the code is run from (in the case of a notebook: the location where the notebook is saved). They are shorter and more robust when the code is moved together with the data (so they do not change relative to each other|). However, they are sensitive to where the code is run from.\n",
    "   * *absolute paths* start from the root of the system. They work no matter where the code is run from, but break when you move the data or run it on a different computer.\n",
    " * the mode: 'r' represents read mode, so that the file will be opened for reading (and e.g. not for writing).\n",
    "\n",
    "After having read the contents from the file, we can `close()` it. If you omit this, Python will close the file for you at the end of code execution.\n",
    "\n",
    "It is best practice however to open a file with a `with` statement so that you can not forget closing it."
   ]
  },
  {
   "cell_type": "code",
   "execution_count": null,
   "metadata": {},
   "outputs": [],
   "source": [
    "with open('data/Arnold__Literature_and_Dogma.txt', 'r', encoding='utf-8') as f:\n",
    "    text = f.read()\n",
    "print(text)"
   ]
  },
  {
   "cell_type": "markdown",
   "metadata": {},
   "source": [
    "Reading an entire file in one string is not always desirable, especially not with huge files. The following example reads up until a newline everytime, and returns one line at a time. \n"
   ]
  },
  {
   "cell_type": "code",
   "execution_count": null,
   "metadata": {},
   "outputs": [],
   "source": [
    "with open('data/Arnold__Literature_and_Dogma.txt', 'r', encoding='utf-8') as f:\n",
    "    for line in f: # Yes, we can do looping over a file object too!\n",
    "        print(line)"
   ]
  },
  {
   "cell_type": "code",
   "execution_count": null,
   "metadata": {},
   "outputs": [],
   "source": []
  },
  {
   "cell_type": "markdown",
   "metadata": {},
   "source": [
    "As you can see, we now get double spacing (double newlines). This is because every line in our file ends with a newline character `\"\\n\"`. The `print` function always adds a newline by default, so we print a total of two newline characters per line. As a reminder, this is how you can use newlines yourself:"
   ]
  },
  {
   "cell_type": "code",
   "execution_count": null,
   "metadata": {},
   "outputs": [],
   "source": [
    "s = \"This is the first line.\\nThis is the second line.\"\n",
    "print(s)"
   ]
  },
  {
   "cell_type": "markdown",
   "metadata": {},
   "source": [
    "There exists a similar character to encode 'tab' characters, namely `\\t`. You can use this character to play around with the indentation of your (e.g. hierarchically structured) output:\n"
   ]
  },
  {
   "cell_type": "code",
   "execution_count": null,
   "metadata": {},
   "outputs": [],
   "source": [
    "s = \"First line\\n\\t* Second line\\n\\t* Third line\\n\\t* Fourth line\\nFifth line\"\n",
    "print(s)"
   ]
  },
  {
   "cell_type": "markdown",
   "metadata": {},
   "source": [
    "If you are not happy with the double spacing above and wish to remove all preceding and trailing whitespace in a string (newlines, spaces, but also tabs), you can use the `strip()` function:"
   ]
  },
  {
   "cell_type": "code",
   "execution_count": null,
   "metadata": {},
   "outputs": [],
   "source": [
    "s = \"   strip me!    \\n\"\n",
    "print(s)\n",
    "print(s.strip())"
   ]
  },
  {
   "cell_type": "markdown",
   "metadata": {},
   "source": [
    "Now, try to adapt the code that read in the Austen file and have your code print each line without the preceding and trailing whitespace! Have the annoying \"double lines\" disappeared in your output? "
   ]
  },
  {
   "cell_type": "code",
   "execution_count": null,
   "metadata": {},
   "outputs": [],
   "source": [
    "with open('data/Arnold__Literature_and_Dogma.txt', 'r', encoding='utf-8') as f:\n",
    "    for line in f: # Yes, we can do looping over a file object too!\n",
    "        print(line)"
   ]
  },
  {
   "cell_type": "markdown",
   "metadata": {},
   "source": [
    "Rather than just printing, we can of course do whatever we want with this file's content. Let's count the number of lines (but note that a line does not necessarily correspond to a sentence)."
   ]
  },
  {
   "cell_type": "code",
   "execution_count": null,
   "metadata": {},
   "outputs": [],
   "source": [
    "count = 0\n",
    "with open('data/Arnold__Literature_and_Dogma.txt', 'r', encoding='utf-8') as f:\n",
    "    for line in f: # Yes, we can do looping over a file object too!\n",
    "        count += 1\n",
    "print(count)"
   ]
  },
  {
   "cell_type": "markdown",
   "metadata": {},
   "source": [
    "#### DIY 1"
   ]
  },
  {
   "cell_type": "markdown",
   "metadata": {},
   "source": [
    "Read the file `Arnold__Literature_and_Dogma.txt` and compute the average length (in characters) of the lines."
   ]
  },
  {
   "cell_type": "code",
   "execution_count": null,
   "metadata": {},
   "outputs": [],
   "source": [
    "# insert your code here\n",
    "\n",
    "line_lengths = []\n",
    "with open('data\\Arnold__Literature_and_Dogma.txt', 'r', encoding='utf-8') as f:\n",
    "    for line in f:\n",
    "        line_lengths.append(len(line))\n",
    "\n",
    "sum(line_lengths)/len(line_lengths)"
   ]
  },
  {
   "cell_type": "code",
   "execution_count": null,
   "metadata": {},
   "outputs": [],
   "source": [
    "line_lengths[:10]"
   ]
  },
  {
   "cell_type": "code",
   "execution_count": null,
   "metadata": {},
   "outputs": [],
   "source": [
    "import numpy as np\n",
    "arr = np.array(line_lengths)\n",
    "arr"
   ]
  },
  {
   "cell_type": "code",
   "execution_count": null,
   "metadata": {},
   "outputs": [],
   "source": [
    "arr.mean()"
   ]
  },
  {
   "cell_type": "markdown",
   "metadata": {},
   "source": [
    "- - -"
   ]
  },
  {
   "cell_type": "markdown",
   "metadata": {},
   "source": [
    "## Writing out files\n",
    "\n",
    "Now that we mastered the art of reading files, let's move on to writing files, which follows a similar logic:"
   ]
  },
  {
   "cell_type": "code",
   "execution_count": null,
   "metadata": {},
   "outputs": [],
   "source": [
    "with open('testoutput.txt', 'w', encoding='utf-8') as f:\n",
    "    f.write(\"Hello world!\")"
   ]
  },
  {
   "cell_type": "markdown",
   "metadata": {},
   "source": [
    "In this code block, we have automatically created a new file called `testoutput.txt`. We then wrote a single line to this file and then we closed it. Note that the `w` is a crucial difference: if you would have used `r` here, Python would have opened the file in 'read-only' mode and you wouldn't have been able to write to it.\n",
    "\n",
    "Open the created file in any text editor (Visual Studio Code for instance) to check that the ouput worked properly."
   ]
  },
  {
   "cell_type": "markdown",
   "metadata": {},
   "source": [
    "If you want your data to be written on multiple lines, you need to take care to explicitly encode the newlines. Instead of:\n",
    "    "
   ]
  },
  {
   "cell_type": "code",
   "execution_count": null,
   "metadata": {},
   "outputs": [],
   "source": [
    "with open('testouput.txt', 'w', encoding='utf-8') as f:\n",
    "    f.write(\"Hello world on the first line!\")\n",
    "    f.write(\"Hello world on the second line!\")"
   ]
  },
  {
   "cell_type": "markdown",
   "metadata": {},
   "source": [
    "You need to write:"
   ]
  },
  {
   "cell_type": "code",
   "execution_count": null,
   "metadata": {},
   "outputs": [],
   "source": [
    "with open('testouput.txt', 'w', encoding='utf-8') as f:\n",
    "    f.write(\"Hello world on the first line!\\n\")\n",
    "    f.write(\"Hello world on the second line!\")"
   ]
  },
  {
   "cell_type": "markdown",
   "metadata": {},
   "source": [
    "Otherwise your file would have `Hello world on the first line!Hello world on the second line!` in it, i.e. without a newline in between."
   ]
  },
  {
   "cell_type": "markdown",
   "metadata": {},
   "source": [
    "Besides 'read-mode' and 'write-mode' when dealing with text files, there is also the 'append-mode' in Python. Watch out: in 'write-mode', you will always *overwrite* the existing content of the file. However, if you've opened a file in 'append-mode', everything you write to the file will be added at the end of the file, without deleting anything of the existing content in the file. In order to enable the append mode, you need to specify `'a'` as your second parameter when you open files."
   ]
  },
  {
   "cell_type": "code",
   "execution_count": null,
   "metadata": {},
   "outputs": [],
   "source": [
    "# append one more sentence to the file 'testoutput.txt'"
   ]
  },
  {
   "cell_type": "markdown",
   "metadata": {},
   "source": [
    "#### DIY 2"
   ]
  },
  {
   "cell_type": "markdown",
   "metadata": {},
   "source": [
    "Read the file `austen-emma-excerpt-tokenised.txt`, and write to a file `data/words.txt` all lowercased tokens (= words and punctuation marks) occurring in this text (without duplicates!), alphabetically ordered, one word per line. That way, you are really creating a lexicon or word list of the text. (Tip: you should use `set()` in this exercise!)"
   ]
  },
  {
   "cell_type": "code",
   "execution_count": null,
   "metadata": {},
   "outputs": [],
   "source": [
    "# insert your code here\n",
    "with open('data/austen-emma-excerpt-tokenised.txt', 'r', encoding='utf-8') as f:\n",
    "    text = f.read()\n",
    "    all_tokens = text.lower().split()\n",
    "    unique_tokens = list(set(all_tokens))\n",
    "    unique_tokens = sorted(unique_tokens)\n",
    "    \n",
    "with open('data/words.txt', 'w', encoding='utf-8') as f:\n",
    "    for token in unique_tokens:\n",
    "        f.write(token + '\\n')\n",
    "        #f.write('\\n')"
   ]
  },
  {
   "cell_type": "code",
   "execution_count": null,
   "metadata": {},
   "outputs": [],
   "source": [
    "l = [1,2,1,4]\n",
    "l"
   ]
  },
  {
   "cell_type": "code",
   "execution_count": null,
   "metadata": {},
   "outputs": [],
   "source": [
    "set(l)"
   ]
  },
  {
   "cell_type": "code",
   "execution_count": null,
   "metadata": {},
   "outputs": [],
   "source": [
    "list(set(l))"
   ]
  },
  {
   "cell_type": "markdown",
   "metadata": {},
   "source": [
    "Check your output by viewing the `words.txt` file in a text editor such as Visual Studio Code (Windows users: do not use Notepad!)"
   ]
  },
  {
   "attachments": {
    "json-logo.png": {
     "image/png": "[encoded data removed]"
    }
   },
   "cell_type": "markdown",
   "metadata": {},
   "source": [
    "## JSON writing and reading\n",
    "JSON (JavaScript Object Notation) is a data type that can write all Python's built-in types (i.e., dict, list, str, int, float). JSON files are especially good for fast writing and reading of dictionaries and lists. It is also the data format of choice for web applications as it is great for transmitting data.![json-logo.png](attachment:json-logo.png)\n",
    "\n",
    "More importantly: JSON is human-readable! This means that it is easy for a human to open a JSON file and read its contents.\n",
    "\n",
    "The `json` library can parse JSON from strings or files. The library parses JSON into a Python dictionary or list. It can also convert Python dictionaries or lists into JSON strings.\n",
    "\n",
    "### Writing Python to JSON\n",
    "Writing JSON means converting a Python object into a JSON file.\n",
    "As mentioned above, the json library parses a Python dictionary or list into a JSON string and writes the file.\n",
    "In order to do that, we use the `dump()` function (dump a Python object to file_path), as follows:"
   ]
  },
  {
   "cell_type": "code",
   "execution_count": null,
   "metadata": {},
   "outputs": [],
   "source": [
    "import json\n",
    "\n",
    "data = {\"name\": \"Frank\", \"age\": 39, \"interests\": [\"Long walks on the beach\", \"Knitting\"]}\n",
    "with open('test.json', 'w', encoding='utf-8') as f:\n",
    "    # write the data to file_path as json\n",
    "    json.dump(data, f)"
   ]
  },
  {
   "cell_type": "markdown",
   "metadata": {},
   "source": [
    "### Reading JSON to Python\n",
    "Now that we have written some data as a json file it would be nice if we could read it back to Python. This is done with the `load` function from the json module."
   ]
  },
  {
   "cell_type": "code",
   "execution_count": null,
   "metadata": {},
   "outputs": [],
   "source": [
    "with open('test.json','r', encoding='utf-8') as f:\n",
    "    data = json.load(f)\n",
    "print(data)"
   ]
  },
  {
   "cell_type": "markdown",
   "metadata": {},
   "source": [
    "Now you can write and read JSON! It is important to note at this point that JSON cannot store all types of Python objects, but only the following types:\n",
    "- lists []\n",
    "- dictionaries {}\n",
    "- booleans: True, False\n",
    "- numbers: float, int\n",
    "- character strings: \"string\"\n",
    "- None.\n",
    "\n",
    "Thus, any other types need to be converted in order to be stored in JSON."
   ]
  },
  {
   "cell_type": "markdown",
   "metadata": {},
   "source": [
    "---"
   ]
  },
  {
   "attachments": {
    "directory.jpg": {
     "image/jpeg": "[encoded data removed]"
    }
   },
   "cell_type": "markdown",
   "metadata": {},
   "source": [
    "## Working with directories\n",
    "\n",
    "It's time to scale up our operations to not just working with one file, but with collections of files! After all, that is one of the reasons why programming is so handy: it makes it easy to do repetitive tasks fast. Here, we will work with the information of architectural treaties extracted from http://architectura.cesr.univ-tours.fr/\n",
    "\n",
    "![directory.jpg](attachment:directory.jpg)\n",
    "\n",
    "In the notebooks we use, there is a convenient way to quickly inspect the contents of a folder using the `ls` command (note that this is not a Python command, just something for the notebooks). Our data are contained under the general `architectura_treaties` folder:"
   ]
  },
  {
   "cell_type": "code",
   "execution_count": null,
   "metadata": {},
   "outputs": [],
   "source": [
    "ls \"data/architectura_treaties\""
   ]
  },
  {
   "cell_type": "markdown",
   "metadata": {},
   "source": [
    "As you can see, this folder holds a number of `json` files, ending in the `.json` extension. Let us open a random file:"
   ]
  },
  {
   "cell_type": "code",
   "execution_count": null,
   "metadata": {},
   "outputs": [],
   "source": [
    "with open('data/architectura_treaties/book_019.json', 'r', encoding='utf-8') as f:\n",
    "    data = f.read()\n",
    "print(data)"
   ]
  },
  {
   "cell_type": "markdown",
   "metadata": {},
   "source": [
    "Make sure that you do not pass the `'w'` parameter (\"write\") to `open()`, instead of `'r'` (\"read\"), since this would overwrite and thus erase the existing file.  After assigning the string returned by `f.read()` to the variable `data` (which is the serialized version of the data as text, not the actual data)/"
   ]
  },
  {
   "cell_type": "markdown",
   "metadata": {},
   "source": [
    "In this chapter we would like to work with all the files in the `architectura_treaties` directory. This is where loops come in handy of course, since what we really would like to do, is iterate over the contents of the directory. Accessing these contents in Python is easy, but requires importing some extra functionality. In this case, we need to import the `os` module, which contains all functionality related to the OS, the *operating system* of your machine, such as directory information:  "
   ]
  },
  {
   "cell_type": "code",
   "execution_count": null,
   "metadata": {},
   "outputs": [],
   "source": [
    "import os"
   ]
  },
  {
   "cell_type": "markdown",
   "metadata": {},
   "source": [
    "Using the dot-syntax (`os.xxx`), we can now access all functions that come with this module, such as `listdir()`, which returns a list of the items which are included under a given directory"
   ]
  },
  {
   "cell_type": "code",
   "execution_count": null,
   "metadata": {},
   "outputs": [],
   "source": [
    "filenames = os.listdir('data/architectura_treaties/')\n",
    "print(filenames[:20])"
   ]
  },
  {
   "cell_type": "markdown",
   "metadata": {},
   "source": [
    "The function `os.listdir()` returns a list of strings, representing the filenames contained under a directory. It has the same functionality as the `ls` command in a notebook."
   ]
  },
  {
   "cell_type": "markdown",
   "metadata": {},
   "source": [
    "#### DIY 3\n",
    "\n",
    "Simple question, using the output of listdir, can you tell how many files are in the directory?"
   ]
  },
  {
   "cell_type": "code",
   "execution_count": null,
   "metadata": {},
   "outputs": [],
   "source": [
    "# your code goes here\n"
   ]
  },
  {
   "cell_type": "markdown",
   "metadata": {},
   "source": [
    "With `os.listdir()`, you need to make sure that you pass the correct path to an existing directory:  "
   ]
  },
  {
   "cell_type": "code",
   "execution_count": null,
   "metadata": {},
   "outputs": [],
   "source": [
    "os.listdir('data/non_existing_directory')"
   ]
  },
  {
   "cell_type": "markdown",
   "metadata": {},
   "source": [
    "It might therefore be convenient to check whether a directory actually exists in a given location, using the `os.path` submodule, which defines a range of interesting functions for working with paths:"
   ]
  },
  {
   "cell_type": "code",
   "execution_count": null,
   "metadata": {},
   "outputs": [],
   "source": [
    "print(os.path.isdir('data/architectura_treaties'))\n",
    "print(os.path.isdir('non_existing_directory'))"
   ]
  },
  {
   "cell_type": "markdown",
   "metadata": {},
   "source": [
    "The second directory, naturally, does not exist and `isdir()` evaluates to `False` in this case. Creating a new (and thus empty) directory is also easy using `os`:"
   ]
  },
  {
   "cell_type": "code",
   "execution_count": null,
   "metadata": {},
   "outputs": [],
   "source": [
    "os.mkdir('my_own_dir')"
   ]
  },
  {
   "cell_type": "markdown",
   "metadata": {},
   "source": [
    "We can see that it lives in the present working directory now, by typing `ls` again:"
   ]
  },
  {
   "cell_type": "code",
   "execution_count": null,
   "metadata": {},
   "outputs": [],
   "source": [
    "ls"
   ]
  },
  {
   "cell_type": "markdown",
   "metadata": {},
   "source": [
    "Or we use Python:"
   ]
  },
  {
   "cell_type": "code",
   "execution_count": null,
   "metadata": {},
   "outputs": [],
   "source": [
    "print(os.path.isdir('my_own_dir'))"
   ]
  },
  {
   "cell_type": "markdown",
   "metadata": {},
   "source": [
    "Removing directories is also easy, but PLEASE watch out, sometimes it is too easy: if you remove a wrong directory in Python, it will be gone forever... Unlike other applications, Python does not keep a copy of it in your Trash and it does not have a Ctrl-Z button. Please watch out with what you do, since with great power comes great responsiblity! Removing the entire directory which we just created can be done as follows:  "
   ]
  },
  {
   "cell_type": "code",
   "execution_count": null,
   "metadata": {},
   "outputs": [],
   "source": [
    "import shutil\n",
    "shutil.rmtree('my_own_dir')"
   ]
  },
  {
   "cell_type": "markdown",
   "metadata": {},
   "source": [
    "And lo behold: the directory has disappeared again:"
   ]
  },
  {
   "cell_type": "code",
   "execution_count": null,
   "metadata": {},
   "outputs": [],
   "source": [
    "print(os.path.isdir('my_own_dir'))"
   ]
  },
  {
   "cell_type": "markdown",
   "metadata": {},
   "source": [
    "Here, we use the `rmtree()` command to remove the entire directory in a *recursive* way: even if the directory isn't empty and contains files and subfolders, we will remove all of them. The `os` module also comes with a `rmdir()` but this will not allow you to remove a directory which is not empty, as becomes clear in the `OSError` raised below:  "
   ]
  },
  {
   "cell_type": "code",
   "execution_count": null,
   "metadata": {},
   "outputs": [],
   "source": [
    "os.rmdir('data/architectura_treaties')"
   ]
  },
  {
   "cell_type": "markdown",
   "metadata": {},
   "source": [
    "The folder contains things and therefore cannot be removed using this function. There are, of course, also ways to remove individual files or check whether they exist:"
   ]
  },
  {
   "cell_type": "code",
   "execution_count": null,
   "metadata": {},
   "outputs": [],
   "source": [
    "\n",
    "my_dirname = 'data/my_own_dir'\n",
    "os.mkdir(my_dirname)\n",
    "\n",
    "my_filename = my_dirname + '/my_file.txt'\n",
    "with open(my_filename, 'w', encoding='utf-8') as f:\n",
    "    f.write('Content')\n",
    "    \n",
    "print(os.path.exists(my_filename))\n",
    "os.remove(my_filename)\n",
    "print(os.path.exists(my_filename))"
   ]
  },
  {
   "cell_type": "markdown",
   "metadata": {},
   "source": [
    "Here, we created a directory, wrote a new file to it (`my_file.txt`), and removed it again. Using `os.path.exists()` we monitored at which point the file existed. Finally, the `shutil` module also ships with a useful `copyfile()` function which allows you to copy files from one location to another, possibly with another name. To copy night 66 to the present directory, for instance, we could do: "
   ]
  },
  {
   "cell_type": "code",
   "execution_count": null,
   "metadata": {},
   "outputs": [],
   "source": [
    "shutil.copyfile('data/architectura_treaties/book_005.json', 'book_005_copy.json')"
   ]
  },
  {
   "cell_type": "markdown",
   "metadata": {},
   "source": [
    "Indeed, we have added an exact copy of night 66 to our present working directory:"
   ]
  },
  {
   "cell_type": "code",
   "execution_count": null,
   "metadata": {},
   "outputs": [],
   "source": [
    "ls"
   ]
  },
  {
   "cell_type": "markdown",
   "metadata": {},
   "source": [
    "We can safely remove it again:"
   ]
  },
  {
   "cell_type": "code",
   "execution_count": null,
   "metadata": {},
   "outputs": [],
   "source": [
    "os.remove('book_005_copy.json')"
   ]
  },
  {
   "cell_type": "markdown",
   "metadata": {},
   "source": [
    "### Paths"
   ]
  },
  {
   "cell_type": "markdown",
   "metadata": {},
   "source": [
    "The paths we have used so far are 'relative' paths, in the sense that they are relative to the place on our machine from which we execute our Python code. Absolute paths can also be retrieved and will differ on each computer, because they typically include user names etc:"
   ]
  },
  {
   "cell_type": "code",
   "execution_count": null,
   "metadata": {},
   "outputs": [],
   "source": [
    "os.path.abspath('data/architectura_treaties/book_001.json')"
   ]
  },
  {
   "cell_type": "markdown",
   "metadata": {},
   "source": [
    "While absolute paths are longer to type, they have the advantage that they can be used anywhere on your computer (i.e. irrespective of where you run your code from). Paths can be tricky. Suppose that we would like to open one of our filenames:"
   ]
  },
  {
   "cell_type": "code",
   "execution_count": null,
   "metadata": {},
   "outputs": [],
   "source": [
    "filenames = os.listdir('data/architectura_treaties')\n",
    "random_filename = filenames[9]\n",
    "with open(random_filename, 'r', encoding='utf-8') as f:\n",
    "    text = f.read()\n",
    "print(text)"
   ]
  },
  {
   "cell_type": "markdown",
   "metadata": {},
   "source": [
    "Python throws a `FileNotFoundError`, complaining that the file we wish to open does not exist. This situation stems from the fact that `os.listdir()` only returns the base name of a given file, and not an entire (absolute or relative) path to it. To properly access the file, we must therefore not forget to include the rest of the path again: "
   ]
  },
  {
   "cell_type": "code",
   "execution_count": null,
   "metadata": {},
   "outputs": [],
   "source": [
    "filenames = os.listdir('data/architectura_treaties')\n",
    "random_filename = filenames[9]\n",
    "with open('data/architectura_treaties/'+ random_filename, 'r', encoding='utf-8') as f:\n",
    "    text = f.read()\n",
    "print(text)"
   ]
  },
  {
   "cell_type": "markdown",
   "metadata": {},
   "source": [
    "Instead of doing string concatenation of the path, it is more robust to use the `os.path.join` method to build paths. It takes care of missing or double slashes, backslashes if you are on Windows etc. This code does the same as the above:"
   ]
  },
  {
   "cell_type": "code",
   "execution_count": null,
   "metadata": {},
   "outputs": [],
   "source": [
    "filenames = os.listdir('data/architectura_treaties')\n",
    "random_filename = filenames[9]\n",
    "with open(os.path.join('data', 'architectura_treaties', random_filename), 'r', encoding='utf-8') as f:\n",
    "    text = f.read()\n",
    "print(text)"
   ]
  },
  {
   "cell_type": "markdown",
   "metadata": {},
   "source": [
    "Apart from `os.listdir()`, there are a number of other common ways to obtain directory listings in Python. Using the `glob` module for instance, we can easily access the full relative path leading to our Arabian Nights:  "
   ]
  },
  {
   "cell_type": "code",
   "execution_count": null,
   "metadata": {},
   "outputs": [],
   "source": [
    "import glob\n",
    "filenames = glob.glob('data/architectura_treaties/*')\n",
    "print(filenames[:10])"
   ]
  },
  {
   "cell_type": "markdown",
   "metadata": {},
   "source": [
    "The asterisk (`*`) in the argument passed to `glob.glob()` is worth noting here. Just like with regular expressions, this asterisk is a sort of wildcard which will match any series of characters (i.e. the filenames under `architectura_treaties`). When we exploit this wildcard syntax, `glob.glob()` offers another distinct advantage: we can use it to easily filter out filenames which we are not interested in:"
   ]
  },
  {
   "cell_type": "code",
   "execution_count": null,
   "metadata": {},
   "outputs": [],
   "source": [
    "filenames = glob.glob('data/architectura_treaties/*.json')\n",
    "print(filenames[:10])"
   ]
  },
  {
   "cell_type": "markdown",
   "metadata": {},
   "source": [
    "Interestingly, the command in this code block will only load filenames that end in `\".txt\"`. This is interesting when we would like to ignore other sorts of junk files etc. that might be present in a directory. To replicate similar behaviour with `os.listdir()`, we would have needed a typical `for` loop, such as:"
   ]
  },
  {
   "cell_type": "code",
   "execution_count": null,
   "metadata": {},
   "outputs": [],
   "source": [
    "filenames = []\n",
    "for fn in os.listdir('data/architectura_treaties'):\n",
    "    if fn.endswith('.json'):\n",
    "        filenames.append(fn)\n",
    "print(filenames[:10])"
   ]
  },
  {
   "cell_type": "markdown",
   "metadata": {},
   "source": [
    "However, when using `glob.glob()`, you might sometimes want to be able to extract a file's base name again. There are several solutions to this:"
   ]
  },
  {
   "cell_type": "code",
   "execution_count": null,
   "metadata": {},
   "outputs": [],
   "source": [
    "filenames = glob.glob('data/architectura_treaties/*.json')\n",
    "fn = filenames[10]\n",
    "print(fn)\n",
    "\n",
    "# simple string splitting:\n",
    "print(fn.split('/')[-1])\n",
    "\n",
    "# using os.sep:\n",
    "print(fn.split(os.sep)[-1])\n",
    "\n",
    "# using os.path:\n",
    "print(os.path.basename(fn))"
   ]
  },
  {
   "cell_type": "markdown",
   "metadata": {},
   "source": [
    "Both `os.sep` and `os.path.basename` have the advantage that they know what separator is used for paths in the operating system, so you don't need to explicitly code it like in the first solution. Separators differ between Windows (backslash) and Mac/Linux (forward slash)."
   ]
  },
  {
   "cell_type": "markdown",
   "metadata": {},
   "source": [
    "Finally, sometimes, you might be interested in all the subdirectories of a particular directory (and all the subdirectories of these subdirectories etc.). Parsing such deep directory structures can be tricky, especially if you do not know how deep a directory tree might run. You could of course try stacking multiple loops using `os.listdir()`, but a more convenient way is `os.walk()`:"
   ]
  },
  {
   "cell_type": "code",
   "execution_count": null,
   "metadata": {},
   "outputs": [],
   "source": [
    "for root, directories, filenames in os.walk(\"data\"):\n",
    "    print(root, \"contains the following directories and files:\")\n",
    "    print(directories)\n",
    "    print(filenames)\n",
    "    print() # For an empty line between the blocks"
   ]
  },
  {
   "cell_type": "markdown",
   "metadata": {},
   "source": [
    "As you can see, `os.walk()` allows you to efficiently loop over the entire tree. As always, don't forget that help is right around the corner in your notebooks. Using `help()`, you can quickly access the documentation of modules and their functions etc (but only after you have imported the modules first!). Don't include the parentheses if you want to get help on a function, e.g. not `help(os.walk())`."
   ]
  },
  {
   "cell_type": "code",
   "execution_count": null,
   "metadata": {},
   "outputs": [],
   "source": [
    "help(os.walk)"
   ]
  },
  {
   "cell_type": "markdown",
   "metadata": {},
   "source": [
    "If you want to access a folder that is not a child node of the current position in the folder, you must use '..' for every step upwards in the hierarchy. Open your Explorer and look for a folder which is at the same level as your 'Python course' folder."
   ]
  },
  {
   "cell_type": "code",
   "execution_count": null,
   "metadata": {},
   "outputs": [],
   "source": [
    "for file in os.listdir(os.path.join('..', '01_Variables')): #fill in the name of a folder which is on the same level as your Python folder\n",
    "    print(file)"
   ]
  },
  {
   "cell_type": "markdown",
   "metadata": {},
   "source": [
    "## Exercise\n",
    "\n",
    "Load all the json files from the architectura folder (parsing the json content for each of them) and put them all in a list. (we will need it for the next chapter)"
   ]
  },
  {
   "cell_type": "code",
   "execution_count": null,
   "metadata": {},
   "outputs": [],
   "source": [
    "# your code\n",
    "complete_data = []"
   ]
  },
  {
   "cell_type": "markdown",
   "metadata": {},
   "source": [
    "## Hard and optional Exercise\n",
    "\n",
    "Now much more difficult, load the `xenotheka.json` file and look at the loaded output. It should be a list of dictionnary.\n",
    "\n",
    "We want to save every entry as an independent json file in a:\n",
    "- directory named based on the author of the book.\n",
    "- filename based on the title\n",
    "\n",
    "Note that the author and title are merged in a single field ('title') in the loaded entry, so they will need to be separated first.\n",
    "\n",
    "1. Separate the title to the author name and actual title\n",
    "2. Create the author directory in the OUTPUT_FOLDER if necessary\n",
    "3. Save the entry in a json in the author folder"
   ]
  },
  {
   "cell_type": "code",
   "execution_count": null,
   "metadata": {},
   "outputs": [],
   "source": [
    "OUTPUT_FOLDER = os.makedir('xenotheka_output')\n",
    "#your code"
   ]
  }
 ],
 "metadata": {
  "kernelspec": {
   "display_name": "Python 3",
   "language": "python",
   "name": "python3"
  },
  "language_info": {
   "codemirror_mode": {
    "name": "ipython",
    "version": 3
   },
   "file_extension": ".py",
   "mimetype": "text/x-python",
   "name": "python",
   "nbconvert_exporter": "python",
   "pygments_lexer": "ipython3",
   "version": "3.7.4"
  }
 },
 "nbformat": 4,
 "nbformat_minor": 1
}
