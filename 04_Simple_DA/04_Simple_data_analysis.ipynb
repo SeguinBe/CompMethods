{
 "cells": [
  {
   "cell_type": "code",
   "execution_count": null,
   "metadata": {},
   "outputs": [],
   "source": [
    "# Import the plotting library\n",
    "import matplotlib.pyplot as plt\n",
    "# Import the data analysis library\n",
    "import pandas as pd"
   ]
  },
  {
   "cell_type": "markdown",
   "metadata": {},
   "source": [
    "## Plotting introduction\n",
    "\n",
    "Matplotlib [Website here](https://matplotlib.org/) is the most popular plotting library for python. It is a bit barebone by default though.\n",
    "\n",
    "One can directly plot values, and they are displayed directly in the notebook itself. If not x axis is given, it is assumed to be the integers 0-to-nb_values"
   ]
  },
  {
   "cell_type": "code",
   "execution_count": null,
   "metadata": {},
   "outputs": [],
   "source": [
    "# Creating a list of values\n",
    "y_values = []\n",
    "for i in range(20):\n",
    "    y_values.append(i*i)\n",
    "\n",
    "plt.plot(y_values)\n",
    "print(y_values)"
   ]
  },
  {
   "cell_type": "markdown",
   "metadata": {},
   "source": [
    "By the way, a short hand version for creating a list is the following, which is equivalent to the code in the previous cell"
   ]
  },
  {
   "cell_type": "code",
   "execution_count": null,
   "metadata": {},
   "outputs": [],
   "source": [
    "y_values = [i*i for i in range(20)]\n",
    "print(y_values)"
   ]
  },
  {
   "cell_type": "markdown",
   "metadata": {},
   "source": [
    "Additionally, two iterables can be given to specify the x-values and the y-values of the corresponding graph."
   ]
  },
  {
   "cell_type": "code",
   "execution_count": null,
   "metadata": {},
   "outputs": [],
   "source": [
    "x_values = [i/100-0.5 for i in range(100)]\n",
    "y_values = [x**3 for x in x_values]\n",
    "plt.plot(x_values, y_values)"
   ]
  },
  {
   "cell_type": "markdown",
   "metadata": {},
   "source": [
    "### Changing the plotting style\n",
    "\n",
    "By default, the matplotlib style is really not very inviting, so let us change it. Now all the generated plots will use it, you can even re-run the previous cells.\n",
    "\n",
    "The list of all default styles available are [here](https://matplotlib.org/3.1.3/gallery/style_sheets/style_sheets_reference.html)"
   ]
  },
  {
   "cell_type": "code",
   "execution_count": null,
   "metadata": {},
   "outputs": [],
   "source": [
    "plt.style.use('ggplot')"
   ]
  },
  {
   "cell_type": "markdown",
   "metadata": {},
   "source": [
    "We actually recommend using the default styling done by the wonderful [seaborn](https://seaborn.pydata.org/) library"
   ]
  },
  {
   "cell_type": "code",
   "execution_count": null,
   "metadata": {},
   "outputs": [],
   "source": [
    "import seaborn as sns\n",
    "sns.set()  # Set the complete seaborn styling"
   ]
  },
  {
   "cell_type": "markdown",
   "metadata": {},
   "source": [
    "### Figure size, labels, title\n",
    "\n",
    "In order to make your plots prettier, it is often useful to specify what we are talking about on each axis.\n",
    "\n",
    "Uncomment the code lines to change the size of the figure and/or add legends to it."
   ]
  },
  {
   "cell_type": "code",
   "execution_count": null,
   "metadata": {},
   "outputs": [],
   "source": [
    "# Change the figure size\n",
    "plt.figure(figsize=(12, 8))\n",
    "\n",
    "x_values = [i/100-0.5 for i in range(100)]\n",
    "y_values = [x**3 for x in x_values]\n",
    "plt.plot(x_values, y_values)\n",
    "\n",
    "# Add labels\n",
    "plt.title('My Title')\n",
    "plt.xlabel('What is that axis?')\n",
    "plt.ylabel('Another axis')"
   ]
  },
  {
   "cell_type": "markdown",
   "metadata": {},
   "source": [
    "### Distribution histograms\n",
    "\n",
    "Histogram is a powerful way of visualizing a distribution of values. It only requires the list of values and will automatically aggregate them in counts."
   ]
  },
  {
   "cell_type": "code",
   "execution_count": null,
   "metadata": {},
   "outputs": [],
   "source": [
    "import random\n",
    "# Generate random values based an a standard gaussian distribution (bell-shaped curve)\n",
    "random_values = [random.gauss(0,1) for i in range(10000)]\n",
    "plt.hist(random_values);"
   ]
  },
  {
   "cell_type": "markdown",
   "metadata": {},
   "source": [
    "Sometimes, we want a more granular view of the histograms, and for this we need to increase the number of bins used for counting (i.e the number of bars)"
   ]
  },
  {
   "cell_type": "code",
   "execution_count": null,
   "metadata": {},
   "outputs": [],
   "source": [
    "plt.hist(random_values, bins=40);"
   ]
  },
  {
   "cell_type": "markdown",
   "metadata": {},
   "source": [
    "### DIY\n",
    "\n",
    "Before using the easier automatic techniques, let us do things a bit manually.\n",
    "\n",
    "Load the complete architectura data (all the json files), can you display the distribution of the years the treaties were issued?\n",
    "\n",
    "For this, you will need first to load all the data as a list of dictionaries, then extract all the years in a single list and use `plt.hist` on that list.\n",
    "\n",
    "**WARNING**: some entries might not have a defined year (it is equal to `None` the null value in python) and will need to not be included."
   ]
  },
  {
   "cell_type": "code",
   "execution_count": null,
   "metadata": {},
   "outputs": [],
   "source": [
    "import glob\n",
    "import json\n",
    "\n",
    "architectura_data = []\n",
    "for fn in glob.glob('../../data/architectura_treaties/*.json'):\n",
    "    with open(fn ,'r', encoding='utf-8')as f:\n",
    "        architectura_data.append(json.load(f))\n",
    "len(architectura_data)"
   ]
  },
  {
   "cell_type": "code",
   "execution_count": null,
   "metadata": {},
   "outputs": [],
   "source": []
  },
  {
   "cell_type": "markdown",
   "metadata": {},
   "source": [
    "Can you specify the bins so that they are exactly every quarter of century instead of the automated representation? Have a look at the documentation of `plt.hist` and especially the `bins` parameter.\n",
    "\n",
    "Make it pretty by giving it a title and labelling the axis"
   ]
  },
  {
   "cell_type": "code",
   "execution_count": null,
   "metadata": {},
   "outputs": [],
   "source": [
    "# Your code here"
   ]
  },
  {
   "cell_type": "markdown",
   "metadata": {},
   "source": [
    "# Pandas Introduction\n",
    "\n",
    "Pandas [website here](https://pandas.pydata.org/) is a powerful and widely used data analysis library.\n",
    "\n",
    "The fundamental object type is the `DataFrame` which is basically a table representation and can be created directly by loading a `.csv`.\n",
    "\n",
    "## Creating a DataFrame\n",
    "\n",
    "Here we load a sample dataset representing data about passengers of the titanic."
   ]
  },
  {
   "cell_type": "code",
   "execution_count": null,
   "metadata": {},
   "outputs": [],
   "source": [
    "titanic_df = pd.read_csv('../../data/titanic.csv')\n",
    "type(titanic_df)"
   ]
  },
  {
   "cell_type": "code",
   "execution_count": null,
   "metadata": {
    "scrolled": true
   },
   "outputs": [],
   "source": [
    "# A preview can directly be visualized in the notebook\n",
    "titanic_df"
   ]
  },
  {
   "cell_type": "markdown",
   "metadata": {},
   "source": [
    "The `DataFrame` is made of a serie of columns where each has a type."
   ]
  },
  {
   "cell_type": "code",
   "execution_count": null,
   "metadata": {},
   "outputs": [],
   "source": [
    "titanic_df.dtypes"
   ]
  },
  {
   "cell_type": "markdown",
   "metadata": {},
   "source": [
    "But it is also possible to give a list of dictionnaries as input to create a DataFrame from any form of data we have, do this by giving the list of dictionnaries coming from the loaded architectura data"
   ]
  },
  {
   "cell_type": "code",
   "execution_count": null,
   "metadata": {},
   "outputs": [],
   "source": [
    "# Change architectura_data to your own loaded data\n",
    "architectura_df = pd.DataFrame(architectura_data)"
   ]
  },
  {
   "cell_type": "code",
   "execution_count": null,
   "metadata": {},
   "outputs": [],
   "source": [
    "architectura_df"
   ]
  },
  {
   "cell_type": "markdown",
   "metadata": {},
   "source": [
    "### Accessing single column of the data\n",
    "\n",
    "`DataFrame` are complex and powerful objects. An example is that you can directly access single column directly as a `pd.Serie` object.\n",
    "\n",
    "Note also the NaN (Not-A-Number) values representing missing data, which is a common occurence in tabular data as we often have incomplete information."
   ]
  },
  {
   "cell_type": "code",
   "execution_count": null,
   "metadata": {},
   "outputs": [],
   "source": [
    "titanic_df.age"
   ]
  },
  {
   "cell_type": "markdown",
   "metadata": {},
   "source": [
    "The name of the column sometimes has spaces or weird characters and can not be used as a property name of the dataframe. In all cases, you can always access a column with standard indexing."
   ]
  },
  {
   "cell_type": "code",
   "execution_count": null,
   "metadata": {},
   "outputs": [],
   "source": [
    "titanic_df['age']"
   ]
  },
  {
   "cell_type": "markdown",
   "metadata": {},
   "source": [
    "The `Serie` object has a lot of methods available (have a look at them). For instance, directly plotting the histogram ignoring the missing values, or accessing the maximum value or the corresponding index of it in the table."
   ]
  },
  {
   "cell_type": "code",
   "execution_count": null,
   "metadata": {},
   "outputs": [],
   "source": [
    "titanic_df.age.hist()"
   ]
  },
  {
   "cell_type": "code",
   "execution_count": null,
   "metadata": {},
   "outputs": [],
   "source": [
    "# Display the age of the oldest passenger and the corresponding index in the Dataframe\n",
    "titanic_df.age.max(), titanic_df.age.idxmax()"
   ]
  },
  {
   "cell_type": "markdown",
   "metadata": {},
   "source": [
    "## Accessing single rows\n",
    "\n",
    "A single row can directly be accessed with its row number and `iloc`."
   ]
  },
  {
   "cell_type": "code",
   "execution_count": null,
   "metadata": {},
   "outputs": [],
   "source": [
    "titanic_df.iloc[10]"
   ]
  },
  {
   "cell_type": "markdown",
   "metadata": {},
   "source": [
    "The value of the corresponding from a single row can be accessed directly"
   ]
  },
  {
   "cell_type": "code",
   "execution_count": null,
   "metadata": {},
   "outputs": [],
   "source": [
    "titanic_df.iloc[10].embark_town"
   ]
  },
  {
   "cell_type": "code",
   "execution_count": null,
   "metadata": {},
   "outputs": [],
   "source": [
    "titanic_df.iloc[10].fare"
   ]
  },
  {
   "cell_type": "markdown",
   "metadata": {},
   "source": [
    "### DIY\n",
    "\n",
    "Using `architectura_df`, can you plot again the distribution of years of the books but in a much simpler way compared to the previous version?"
   ]
  },
  {
   "cell_type": "code",
   "execution_count": null,
   "metadata": {},
   "outputs": [],
   "source": [
    "# your code here"
   ]
  },
  {
   "cell_type": "markdown",
   "metadata": {},
   "source": [
    "Using `architectura_df` can you visit the corresponding webpage of the oldest book in the dataset? You will need first to find its index and then use the `loc` indexing method of the `DataFrame` to extract the correct row.\n",
    "\n",
    "An alternative solution is to sort the dataframe by year and taking the first row.\n",
    "\n",
    "Notice how we do not need to care about missing or `None` values as it is handled automatically."
   ]
  },
  {
   "cell_type": "code",
   "execution_count": null,
   "metadata": {},
   "outputs": [],
   "source": [
    "#Your code here"
   ]
  },
  {
   "cell_type": "markdown",
   "metadata": {},
   "source": [
    "### Filtering the data\n",
    "\n",
    "`DataFrame` are very easy to filter. The trick is to apply conditional logic on `Serie`s. For instance, looking at only the male passenger, we get this binary `Serie`."
   ]
  },
  {
   "cell_type": "code",
   "execution_count": null,
   "metadata": {},
   "outputs": [],
   "source": [
    "titanic_df.sex == 'male'"
   ]
  },
  {
   "cell_type": "markdown",
   "metadata": {},
   "source": [
    "This can then be used directly as indexing input for the `DataFrame` to get a new `DataFrame`"
   ]
  },
  {
   "cell_type": "code",
   "execution_count": null,
   "metadata": {},
   "outputs": [],
   "source": [
    "titanic_df[titanic_df.sex == 'male']"
   ]
  },
  {
   "cell_type": "markdown",
   "metadata": {},
   "source": [
    "Conditions can be put together, but instead of `and` and `or`, one need to use respectively `&` and `|`. Also beware of parenthesis."
   ]
  },
  {
   "cell_type": "code",
   "execution_count": null,
   "metadata": {},
   "outputs": [],
   "source": [
    "titanic_df[(titanic_df.sex == 'male') & (titanic_df.age < 10)]"
   ]
  },
  {
   "cell_type": "markdown",
   "metadata": {},
   "source": [
    "### DIY\n",
    "\n",
    "Using filtering and `len` can you compute how many treaties in architectura were issued in French and before 1650?"
   ]
  },
  {
   "cell_type": "code",
   "execution_count": null,
   "metadata": {},
   "outputs": [],
   "source": [
    "# Your code here\n"
   ]
  },
  {
   "cell_type": "markdown",
   "metadata": {},
   "source": [
    "# Easy advanced plotting with seaborn\n",
    "\n",
    "Seaborn is a powerful library for advance plotting, what can you say from the following visualization about the survival of the people on the Titanic?"
   ]
  },
  {
   "cell_type": "code",
   "execution_count": null,
   "metadata": {},
   "outputs": [],
   "source": [
    "sns.catplot(x=\"alive\", y=\"age\", hue=\"sex\", kind=\"swarm\", data=titanic_df);"
   ]
  },
  {
   "cell_type": "code",
   "execution_count": null,
   "metadata": {},
   "outputs": [],
   "source": [
    "sns.catplot(col=\"adult_male\", x='alive', kind='count', data=titanic_df);"
   ]
  },
  {
   "cell_type": "markdown",
   "metadata": {},
   "source": [
    "## Exercise\n",
    "\n",
    "Can you use a [Box plot](https://seaborn.pydata.org/tutorial/categorical.html#boxplots) to visualize the year of publishing of the architectura treatises based on their language?\n",
    "\n",
    "After having managed to plot the complete dataset. Filter them based on the three more used languages (use `value_counts()` to find which are the most common languages, and `Serie.isin()` to filter based on multiple values)."
   ]
  },
  {
   "cell_type": "code",
   "execution_count": null,
   "metadata": {},
   "outputs": [],
   "source": [
    "# Your code here"
   ]
  },
  {
   "cell_type": "markdown",
   "metadata": {},
   "source": [
    "## Explore data by yourself (open ended)\n",
    "\n",
    "Load the `xenotheka.json` data and put it in a `DataFrame`, how would you explore its characteristics?"
   ]
  },
  {
   "cell_type": "code",
   "execution_count": null,
   "metadata": {},
   "outputs": [],
   "source": []
  }
 ],
 "metadata": {
  "kernelspec": {
   "display_name": "Python 3",
   "language": "python",
   "name": "python3"
  },
  "language_info": {
   "codemirror_mode": {
    "name": "ipython",
    "version": 3
   },
   "file_extension": ".py",
   "mimetype": "text/x-python",
   "name": "python",
   "nbconvert_exporter": "python",
   "pygments_lexer": "ipython3",
   "version": "3.6.8"
  }
 },
 "nbformat": 4,
 "nbformat_minor": 2
}
