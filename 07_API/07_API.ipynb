{
 "cells": [
  {
   "cell_type": "code",
   "execution_count": null,
   "metadata": {},
   "outputs": [],
   "source": [
    "import requests\n",
    "import xmltodict\n"
   ]
  },
  {
   "cell_type": "markdown",
   "metadata": {},
   "source": [
    "## Accessing a resource in python"
   ]
  },
  {
   "cell_type": "code",
   "execution_count": null,
   "metadata": {},
   "outputs": [],
   "source": [
    "import requests\n",
    "\n",
    "# Perform a HTTP GET request on the desired URL\n",
    "response = requests.get('https://www.google.com')"
   ]
  },
  {
   "cell_type": "code",
   "execution_count": null,
   "metadata": {},
   "outputs": [],
   "source": [
    "# Object response, with status code 200, which means the request succeded\n",
    "response"
   ]
  },
  {
   "cell_type": "markdown",
   "metadata": {},
   "source": [
    "### Checking Response"
   ]
  },
  {
   "cell_type": "code",
   "execution_count": null,
   "metadata": {},
   "outputs": [],
   "source": [
    "# The code of the response can be accessed\n",
    "response.status_code"
   ]
  },
  {
   "cell_type": "code",
   "execution_count": null,
   "metadata": {},
   "outputs": [],
   "source": [
    "# We will always get a response object, even if the request was not successful (assuming the server exists)\n",
    "# Here we generate an error if the request failed. If the request was a success, nothing is raised\n",
    "response.raise_for_status()"
   ]
  },
  {
   "cell_type": "code",
   "execution_count": null,
   "metadata": {},
   "outputs": [],
   "source": [
    "# And here we check directly if the status is one of the good ones\n",
    "response.ok"
   ]
  },
  {
   "cell_type": "code",
   "execution_count": null,
   "metadata": {},
   "outputs": [],
   "source": [
    "# Failure case, resource not found\n",
    "response = requests.get('https://www.google.com/totally-not-existing-path-that-google-will-not-answer')\n",
    "print(response.ok)\n",
    "print(response.status_code)\n",
    "print(response.reason)"
   ]
  },
  {
   "cell_type": "code",
   "execution_count": null,
   "metadata": {},
   "outputs": [],
   "source": [
    "response.raise_for_status()"
   ]
  },
  {
   "cell_type": "markdown",
   "metadata": {},
   "source": [
    "### Accessing content"
   ]
  },
  {
   "cell_type": "code",
   "execution_count": null,
   "metadata": {},
   "outputs": [],
   "source": [
    "response = requests.get('https://www.google.com')\n",
    "# The content of the answer can directly be accessed with .content\n",
    "# Here we display the source code of the google webpage\n",
    "response.content"
   ]
  },
  {
   "cell_type": "code",
   "execution_count": null,
   "metadata": {},
   "outputs": [],
   "source": [
    "# Access the full text representation of https://www.e-rara.ch/oec/vitruviana/content/titleinfo/6116002\n",
    "response = requests.get('https://www.e-rara.ch/oec/download/fulltext/plain/6116002')\n",
    "response.status_code"
   ]
  },
  {
   "cell_type": "code",
   "execution_count": null,
   "metadata": {},
   "outputs": [],
   "source": [
    "# By default response are raw bytes, binary format\n",
    "response.content[1000:2000]  # Showing just 1000 characters"
   ]
  },
  {
   "cell_type": "code",
   "execution_count": null,
   "metadata": {},
   "outputs": [],
   "source": [
    "# Getting a nicely encoded version\n",
    "response.text[1000:2000]"
   ]
  },
  {
   "cell_type": "code",
   "execution_count": null,
   "metadata": {},
   "outputs": [],
   "source": [
    "# Saving it to a file\n",
    "with open('e-rara_text.txt' , 'w', encoding='utf-8') as f:\n",
    "    f.write(response.text)"
   ]
  },
  {
   "cell_type": "markdown",
   "metadata": {},
   "source": [
    "### Downloading a file directly"
   ]
  },
  {
   "cell_type": "code",
   "execution_count": null,
   "metadata": {},
   "outputs": [],
   "source": [
    "GTA_LOGO_URL = 'https://upload.wikimedia.org/wikipedia/commons/thumb/b/b9/Gta_logo.jpg/240px-Gta_logo.jpg'"
   ]
  },
  {
   "cell_type": "code",
   "execution_count": null,
   "metadata": {},
   "outputs": [],
   "source": [
    "response = requests.get(GTA_LOGO_URL)\n",
    "response.raise_for_status()\n",
    "# Writing in binary mode 'wb'\n",
    "with open('gta_logo.jpg', 'wb') as f:\n",
    "    f.write(response.content)"
   ]
  },
  {
   "cell_type": "markdown",
   "metadata": {},
   "source": [
    "NOTE FOR COMPLETENESS: in this situation the file is fully downloaded in memory and then written to disk. For large files, this might not be appropriate and streaming should be used (see https://stackoverflow.com/a/34503421/2911687)."
   ]
  },
  {
   "cell_type": "markdown",
   "metadata": {},
   "source": [
    "### Getting structured data"
   ]
  },
  {
   "cell_type": "code",
   "execution_count": null,
   "metadata": {},
   "outputs": [],
   "source": [
    "# Getting a IIIF Presentation manifest\n",
    "response = requests.get('https://www.e-rara.ch/i3f/v20/6116002/manifest')"
   ]
  },
  {
   "cell_type": "code",
   "execution_count": null,
   "metadata": {},
   "outputs": [],
   "source": [
    "# We know IIIF manifest are JSON encoded, so we can parse the raw response to convert it to a nice python dict\n",
    "import json\n",
    "data_as_python_dict = json.loads(response.content)\n",
    "# Accessing the metadata as stipulated by the Presentation API\n",
    "data_as_python_dict['metadata']"
   ]
  },
  {
   "cell_type": "code",
   "execution_count": null,
   "metadata": {},
   "outputs": [],
   "source": [
    "# Shortcut version, equivalent to manual json parsing above\n",
    "data_as_python_dict = response.json()\n",
    "# Accessing the info about the first page of the first sequence\n",
    "data_as_python_dict['sequences'][0]['canvases'][0]"
   ]
  },
  {
   "cell_type": "markdown",
   "metadata": {},
   "source": [
    "### Request with parameters\n",
    "\n",
    "Accessing OAI endpoint of e-rara, getting the information about a specific record, notice the structure of the url\n",
    "\n",
    "https://www.e-rara.ch/oec/oai?verb=GetRecord&metadataPrefix=oai_dc&identifier=6116002"
   ]
  },
  {
   "cell_type": "code",
   "execution_count": null,
   "metadata": {},
   "outputs": [],
   "source": [
    "response = requests.get('https://www.e-rara.ch/oec/oai?verb=GetRecord&metadataPrefix=oai_dc&identifier=6116002')\n",
    "response.content"
   ]
  },
  {
   "cell_type": "code",
   "execution_count": null,
   "metadata": {},
   "outputs": [],
   "source": [
    "# Format of OAI is xml so we can parse it as well\n",
    "parsed_response = xmltodict.parse(response.content)\n",
    "parsed_response"
   ]
  },
  {
   "cell_type": "code",
   "execution_count": null,
   "metadata": {},
   "outputs": [],
   "source": [
    "parsed_response['OAI-PMH']['GetRecord']['record']['metadata']['oai_dc:dc']"
   ]
  },
  {
   "cell_type": "markdown",
   "metadata": {},
   "source": [
    "NOTE: In the case of e-rara, the METS format is much more complete and has links for PDF, OCR and images downloads.\n",
    "\n",
    "https://www.e-rara.ch/oec/oai?verb=GetRecord&metadataPrefix=mets&identifier=6116002"
   ]
  },
  {
   "cell_type": "markdown",
   "metadata": {},
   "source": [
    "# Playing with the BNF APIs\n",
    "\n",
    "Gallica (the BNF online repository) has multiple APIs for accessing its data (all documented in French unfortunately, google translate might be your friend if you want to have a deeper look):\n",
    "\n",
    "- A search API in their collection, giving us directly records in OAI format (http://api.bnf.fr/api-gallica-de-recherche):\n",
    "\n",
    "https://gallica.bnf.fr/SRU?version=1.2&operation=searchRetrieve&suggest=0&query=%28dc.creator+all+%22Vitruve%22%29\n",
    "\n",
    "- A pagination API to know if the text was OCRized, if the table of content was detected, etc...:\n",
    "\n",
    "https://gallica.bnf.fr/services/Pagination?ark=bpt6k5839083t\n",
    "   "
   ]
  },
  {
   "cell_type": "markdown",
   "metadata": {},
   "source": [
    "## Search with API\n",
    "\n",
    "Queries are done in CQL (https://www.loc.gov/standards/sru/cql/ from the Library of Congress). Some examples are below"
   ]
  },
  {
   "cell_type": "code",
   "execution_count": null,
   "metadata": {},
   "outputs": [],
   "source": [
    "def request_and_parse(xml_url):\n",
    "    \"\"\"Get an xml url and parse it into a python dict\"\"\"\n",
    "    print(f\"Fetching {xml_url}\")\n",
    "    result = requests.get(xml_url)\n",
    "    result.raise_for_status()\n",
    "    result_parsed = xmltodict.parse(result.content)\n",
    "    return result_parsed\n",
    "\n",
    "SRU_BASEURL = 'https://gallica.bnf.fr/SRU?version=1.2&operation=searchRetrieve&suggest=0&query='"
   ]
  },
  {
   "cell_type": "code",
   "execution_count": null,
   "metadata": {},
   "outputs": [],
   "source": [
    "# Example queries\n",
    "# Query all documents related to \"Architecture\" (code 72 in Dewey classification)\n",
    "# Note: that only brings 585 documents, which is much lower than all architecture documents in Gallica...\n",
    "query = '(sdewey all \"72\")'\n",
    "# Queyr all documents where Vitruve is an author\n",
    "query = '(dc.creator all \"Vitruve\")'"
   ]
  },
  {
   "cell_type": "code",
   "execution_count": null,
   "metadata": {},
   "outputs": [],
   "source": [
    "from urllib.parse import quote_plus\n",
    "# Do a simple search\n",
    "# Since query has spaces and maybe strange characters in it, we make it url-safe with the function quote_plus\n",
    "# That will for instance convert spaces to '+'\n",
    "request_and_parse(SRU_BASEURL + quote_plus(query))"
   ]
  },
  {
   "cell_type": "markdown",
   "metadata": {},
   "source": [
    "Write a function that from a query will fetch all records corresponding to that query and parse them to dictionnaries.\n",
    "\n",
    "First try to parse the records from a single request.\n",
    "\n",
    "Then, you will realize that if your query has many results you need to make requests of \"blocks\" (first 50 records, then next 50, etc...) as the server will not give you all of them directly (to avoid too big response). The additional `maximumRecords` and `startRecord` HTTP parameters can be specified in the query to specify how many, and the starting record desired. For instance with `maximumRecords=50&startRecord=50` the response will be about the results number 50 to 100."
   ]
  },
  {
   "cell_type": "code",
   "execution_count": null,
   "metadata": {},
   "outputs": [],
   "source": [
    "def search_gallica(query, max_records=None):\n",
    "    # Your code here\n",
    "    return []"
   ]
  },
  {
   "cell_type": "code",
   "execution_count": null,
   "metadata": {},
   "outputs": [],
   "source": [
    "query = '(dc.creator all \"Vitruve\")'\n",
    "records = search_gallica(query)\n",
    "assert isinstance(records, list)\n",
    "assert len(records) == 62"
   ]
  },
  {
   "cell_type": "markdown",
   "metadata": {},
   "source": [
    "## Get Pagination info from API\n",
    "\n",
    "Write a small function that checks if the full text is present from the pagination info"
   ]
  },
  {
   "cell_type": "code",
   "execution_count": null,
   "metadata": {},
   "outputs": [],
   "source": [
    "def get_pagination_info(key):\n",
    "    return request_and_parse(f\"https://gallica.bnf.fr/services/Pagination?ark={key}\")\n",
    "\n",
    "def has_full_text(pagination_info):\n",
    "    # Your code here\n",
    "    return False\n",
    "\n",
    "pag_info_1 = get_pagination_info('btv1b21000411')\n",
    "print(\"Should be False : \", has_full_text(pag_info_1))\n",
    "pag_info_2 = get_pagination_info('bpt6k5839083t')\n",
    "print(\"Should be True : \", has_full_text(pag_info_2))"
   ]
  },
  {
   "cell_type": "markdown",
   "metadata": {},
   "source": [
    "## Download the OCRized text\n",
    "\n",
    "Given the url of a gallica resource (for instance https://gallica.bnf.fr/ark:/12148/bpt6k236629), one can access the OCRized text (if it exists) by appending `.texteBrut` (https://gallica.bnf.fr/ark:/12148/bpt6k236629.texteBrut).\n",
    "\n",
    "It is also possible to always download directly the images or the PDF, since this resource has 588 pages, one can directly download the PDF of pages 1 to 588 with:\n",
    "\n",
    "https://gallica.bnf.fr/ark:/12148/bpt6k236629/f1n588.pdf\n",
    "\n",
    "Or for a smaller file, just pages 1 to 10:\n",
    "\n",
    "https://gallica.bnf.fr/ark:/12148/bpt6k236629/f1n10.pdf\n",
    "\n",
    "Here, we will try to download the OCRized text and save it to a text file. By default, the resource of the text (for instance https://gallica.bnf.fr/ark:/12148/bpt6k236629.texteBrut, open the developer view and inspector to look at the html structure) is in HTML and with an annoying header at the top, so we will be able to play a bit with HTML parsing to convert it to proper text."
   ]
  },
  {
   "cell_type": "code",
   "execution_count": null,
   "metadata": {},
   "outputs": [],
   "source": [
    "from bs4 import BeautifulSoup\n",
    "\n",
    "def get_html_text(identifier):\n",
    "    url = identifier+'.texteBrut'\n",
    "    print(f\"Fetching {url}\")\n",
    "    data = requests.get(url)\n",
    "    return data.content\n",
    "\n",
    "def get_full_text(raw_html):\n",
    "    soup = BeautifulSoup(raw_html)\n",
    "    html_body = soup.find('body')\n",
    "    \n",
    "    # Iterates over the children of the html body\n",
    "    # Discard the blocks before the first <hr> (horizontal row)  (use .name to know what kind of tag it is)\n",
    "    # Concatenate the text of the elements after (use .get_text() )\n",
    "\n",
    "    return ''"
   ]
  },
  {
   "cell_type": "code",
   "execution_count": null,
   "metadata": {},
   "outputs": [],
   "source": [
    "html_text = get_html_text('https://gallica.bnf.fr/ark:/12148/bpt6k236629')"
   ]
  },
  {
   "cell_type": "code",
   "execution_count": null,
   "metadata": {},
   "outputs": [],
   "source": [
    "parsed_text = get_full_text(html_text)\n",
    "assert isinstance(parsed_text, str)\n",
    "# Yes the OCR output is really far from being great, probably old OCR software, we can do much better now\n",
    "print(parsed_text[:1000])"
   ]
  },
  {
   "cell_type": "code",
   "execution_count": null,
   "metadata": {},
   "outputs": [],
   "source": [
    "import os\n",
    "OUTPUT_FOLDER = 'gallica_output'\n",
    "os.makedirs(OUTPUT_FOLDER, exist_ok=True)\n",
    "\n",
    "# For every record, try to get the full text and save it to a file\n",
    "# Note that many documents are actually not OCRized\n",
    "for record in records:\n",
    "    try:\n",
    "        key = record['srw:extraRecordData']['uri']\n",
    "        pagination_info = get_pagination_info(key)\n",
    "        if has_full_text(pagination_info):\n",
    "            print(f'{key} has full text')\n",
    "            html_text = get_html_text(record['dc:identifier'])\n",
    "            full_text = get_full_text(html_text)\n",
    "            with open(os.path.join(OUTPUT_FOLDER, f'{key}.txt'), 'w', encoding='utf-8') as f:\n",
    "                print(f'Saving {key}.txt')\n",
    "                f.write(full_text)\n",
    "    except Exception as e:\n",
    "        print(f'Failed for {record[\"dc:identifier\"]}, {e}')"
   ]
  },
  {
   "cell_type": "code",
   "execution_count": null,
   "metadata": {},
   "outputs": [],
   "source": []
  }
 ],
 "metadata": {
  "kernelspec": {
   "display_name": "Python 3",
   "language": "python",
   "name": "python3"
  },
  "language_info": {
   "codemirror_mode": {
    "name": "ipython",
    "version": 3
   },
   "file_extension": ".py",
   "mimetype": "text/x-python",
   "name": "python",
   "nbconvert_exporter": "python",
   "pygments_lexer": "ipython3",
   "version": "3.6.8"
  }
 },
 "nbformat": 4,
 "nbformat_minor": 2
}
