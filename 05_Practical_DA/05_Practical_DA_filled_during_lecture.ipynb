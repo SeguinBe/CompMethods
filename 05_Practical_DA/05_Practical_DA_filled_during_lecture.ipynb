{
 "cells": [
  {
   "cell_type": "markdown",
   "metadata": {},
   "source": [
    "# Dealing with real data\n",
    "\n"
   ]
  },
  {
   "cell_type": "code",
   "execution_count": 1,
   "metadata": {},
   "outputs": [],
   "source": [
    "import json\n",
    "import glob\n",
    "import pandas as pd\n",
    "import matplotlib.pyplot as plt\n",
    "import seaborn as sns\n",
    "import numpy as np\n",
    "sns.set()"
   ]
  },
  {
   "cell_type": "markdown",
   "metadata": {},
   "source": [
    "## Loading the data\n",
    "\n",
    "Let us assume you start with the excel file downloaded. You will first have to convert it to a more standard `.csv` format before being able to read it with pandas (actually it is possible to [read excel file](https://pandas.pydata.org/pandas-docs/stable/reference/api/pandas.read_excel.html) directly, but this is less standard and require additional installation).\n",
    "\n",
    "- Open the Excel file in Excel and `Save as` with the format being selected as `csv utf-8`. (if you do not have excel there is a csv already available next to the excel file)\n",
    "- Try loading it with the following command :"
   ]
  },
  {
   "cell_type": "code",
   "execution_count": 2,
   "metadata": {},
   "outputs": [
    {
     "ename": "ParserError",
     "evalue": "Error tokenizing data. C error: Expected 1 fields in line 3, saw 2\n",
     "output_type": "error",
     "traceback": [
      "\u001b[0;31m---------------------------------------------------------------------------\u001b[0m",
      "\u001b[0;31mParserError\u001b[0m                               Traceback (most recent call last)",
      "\u001b[0;32m<ipython-input-2-c9a0001e61ef>\u001b[0m in \u001b[0;36m<module>\u001b[0;34m\u001b[0m\n\u001b[0;32m----> 1\u001b[0;31m \u001b[0mdf\u001b[0m \u001b[0;34m=\u001b[0m \u001b[0mpd\u001b[0m\u001b[0;34m.\u001b[0m\u001b[0mread_csv\u001b[0m\u001b[0;34m(\u001b[0m\u001b[0;34m'my_csv_export.csv'\u001b[0m\u001b[0;34m)\u001b[0m\u001b[0;34m\u001b[0m\u001b[0;34m\u001b[0m\u001b[0m\n\u001b[0m",
      "\u001b[0;32m~/miniconda3/envs/archi/lib/python3.6/site-packages/pandas/io/parsers.py\u001b[0m in \u001b[0;36mparser_f\u001b[0;34m(filepath_or_buffer, sep, delimiter, header, names, index_col, usecols, squeeze, prefix, mangle_dupe_cols, dtype, engine, converters, true_values, false_values, skipinitialspace, skiprows, skipfooter, nrows, na_values, keep_default_na, na_filter, verbose, skip_blank_lines, parse_dates, infer_datetime_format, keep_date_col, date_parser, dayfirst, cache_dates, iterator, chunksize, compression, thousands, decimal, lineterminator, quotechar, quoting, doublequote, escapechar, comment, encoding, dialect, error_bad_lines, warn_bad_lines, delim_whitespace, low_memory, memory_map, float_precision)\u001b[0m\n\u001b[1;32m    674\u001b[0m         )\n\u001b[1;32m    675\u001b[0m \u001b[0;34m\u001b[0m\u001b[0m\n\u001b[0;32m--> 676\u001b[0;31m         \u001b[0;32mreturn\u001b[0m \u001b[0m_read\u001b[0m\u001b[0;34m(\u001b[0m\u001b[0mfilepath_or_buffer\u001b[0m\u001b[0;34m,\u001b[0m \u001b[0mkwds\u001b[0m\u001b[0;34m)\u001b[0m\u001b[0;34m\u001b[0m\u001b[0;34m\u001b[0m\u001b[0m\n\u001b[0m\u001b[1;32m    677\u001b[0m \u001b[0;34m\u001b[0m\u001b[0m\n\u001b[1;32m    678\u001b[0m     \u001b[0mparser_f\u001b[0m\u001b[0;34m.\u001b[0m\u001b[0m__name__\u001b[0m \u001b[0;34m=\u001b[0m \u001b[0mname\u001b[0m\u001b[0;34m\u001b[0m\u001b[0;34m\u001b[0m\u001b[0m\n",
      "\u001b[0;32m~/miniconda3/envs/archi/lib/python3.6/site-packages/pandas/io/parsers.py\u001b[0m in \u001b[0;36m_read\u001b[0;34m(filepath_or_buffer, kwds)\u001b[0m\n\u001b[1;32m    452\u001b[0m \u001b[0;34m\u001b[0m\u001b[0m\n\u001b[1;32m    453\u001b[0m     \u001b[0;32mtry\u001b[0m\u001b[0;34m:\u001b[0m\u001b[0;34m\u001b[0m\u001b[0;34m\u001b[0m\u001b[0m\n\u001b[0;32m--> 454\u001b[0;31m         \u001b[0mdata\u001b[0m \u001b[0;34m=\u001b[0m \u001b[0mparser\u001b[0m\u001b[0;34m.\u001b[0m\u001b[0mread\u001b[0m\u001b[0;34m(\u001b[0m\u001b[0mnrows\u001b[0m\u001b[0;34m)\u001b[0m\u001b[0;34m\u001b[0m\u001b[0;34m\u001b[0m\u001b[0m\n\u001b[0m\u001b[1;32m    455\u001b[0m     \u001b[0;32mfinally\u001b[0m\u001b[0;34m:\u001b[0m\u001b[0;34m\u001b[0m\u001b[0;34m\u001b[0m\u001b[0m\n\u001b[1;32m    456\u001b[0m         \u001b[0mparser\u001b[0m\u001b[0;34m.\u001b[0m\u001b[0mclose\u001b[0m\u001b[0;34m(\u001b[0m\u001b[0;34m)\u001b[0m\u001b[0;34m\u001b[0m\u001b[0;34m\u001b[0m\u001b[0m\n",
      "\u001b[0;32m~/miniconda3/envs/archi/lib/python3.6/site-packages/pandas/io/parsers.py\u001b[0m in \u001b[0;36mread\u001b[0;34m(self, nrows)\u001b[0m\n\u001b[1;32m   1131\u001b[0m     \u001b[0;32mdef\u001b[0m \u001b[0mread\u001b[0m\u001b[0;34m(\u001b[0m\u001b[0mself\u001b[0m\u001b[0;34m,\u001b[0m \u001b[0mnrows\u001b[0m\u001b[0;34m=\u001b[0m\u001b[0;32mNone\u001b[0m\u001b[0;34m)\u001b[0m\u001b[0;34m:\u001b[0m\u001b[0;34m\u001b[0m\u001b[0;34m\u001b[0m\u001b[0m\n\u001b[1;32m   1132\u001b[0m         \u001b[0mnrows\u001b[0m \u001b[0;34m=\u001b[0m \u001b[0m_validate_integer\u001b[0m\u001b[0;34m(\u001b[0m\u001b[0;34m\"nrows\"\u001b[0m\u001b[0;34m,\u001b[0m \u001b[0mnrows\u001b[0m\u001b[0;34m)\u001b[0m\u001b[0;34m\u001b[0m\u001b[0;34m\u001b[0m\u001b[0m\n\u001b[0;32m-> 1133\u001b[0;31m         \u001b[0mret\u001b[0m \u001b[0;34m=\u001b[0m \u001b[0mself\u001b[0m\u001b[0;34m.\u001b[0m\u001b[0m_engine\u001b[0m\u001b[0;34m.\u001b[0m\u001b[0mread\u001b[0m\u001b[0;34m(\u001b[0m\u001b[0mnrows\u001b[0m\u001b[0;34m)\u001b[0m\u001b[0;34m\u001b[0m\u001b[0;34m\u001b[0m\u001b[0m\n\u001b[0m\u001b[1;32m   1134\u001b[0m \u001b[0;34m\u001b[0m\u001b[0m\n\u001b[1;32m   1135\u001b[0m         \u001b[0;31m# May alter columns / col_dict\u001b[0m\u001b[0;34m\u001b[0m\u001b[0;34m\u001b[0m\u001b[0;34m\u001b[0m\u001b[0m\n",
      "\u001b[0;32m~/miniconda3/envs/archi/lib/python3.6/site-packages/pandas/io/parsers.py\u001b[0m in \u001b[0;36mread\u001b[0;34m(self, nrows)\u001b[0m\n\u001b[1;32m   2035\u001b[0m     \u001b[0;32mdef\u001b[0m \u001b[0mread\u001b[0m\u001b[0;34m(\u001b[0m\u001b[0mself\u001b[0m\u001b[0;34m,\u001b[0m \u001b[0mnrows\u001b[0m\u001b[0;34m=\u001b[0m\u001b[0;32mNone\u001b[0m\u001b[0;34m)\u001b[0m\u001b[0;34m:\u001b[0m\u001b[0;34m\u001b[0m\u001b[0;34m\u001b[0m\u001b[0m\n\u001b[1;32m   2036\u001b[0m         \u001b[0;32mtry\u001b[0m\u001b[0;34m:\u001b[0m\u001b[0;34m\u001b[0m\u001b[0;34m\u001b[0m\u001b[0m\n\u001b[0;32m-> 2037\u001b[0;31m             \u001b[0mdata\u001b[0m \u001b[0;34m=\u001b[0m \u001b[0mself\u001b[0m\u001b[0;34m.\u001b[0m\u001b[0m_reader\u001b[0m\u001b[0;34m.\u001b[0m\u001b[0mread\u001b[0m\u001b[0;34m(\u001b[0m\u001b[0mnrows\u001b[0m\u001b[0;34m)\u001b[0m\u001b[0;34m\u001b[0m\u001b[0;34m\u001b[0m\u001b[0m\n\u001b[0m\u001b[1;32m   2038\u001b[0m         \u001b[0;32mexcept\u001b[0m \u001b[0mStopIteration\u001b[0m\u001b[0;34m:\u001b[0m\u001b[0;34m\u001b[0m\u001b[0;34m\u001b[0m\u001b[0m\n\u001b[1;32m   2039\u001b[0m             \u001b[0;32mif\u001b[0m \u001b[0mself\u001b[0m\u001b[0;34m.\u001b[0m\u001b[0m_first_chunk\u001b[0m\u001b[0;34m:\u001b[0m\u001b[0;34m\u001b[0m\u001b[0;34m\u001b[0m\u001b[0m\n",
      "\u001b[0;32mpandas/_libs/parsers.pyx\u001b[0m in \u001b[0;36mpandas._libs.parsers.TextReader.read\u001b[0;34m()\u001b[0m\n",
      "\u001b[0;32mpandas/_libs/parsers.pyx\u001b[0m in \u001b[0;36mpandas._libs.parsers.TextReader._read_low_memory\u001b[0;34m()\u001b[0m\n",
      "\u001b[0;32mpandas/_libs/parsers.pyx\u001b[0m in \u001b[0;36mpandas._libs.parsers.TextReader._read_rows\u001b[0;34m()\u001b[0m\n",
      "\u001b[0;32mpandas/_libs/parsers.pyx\u001b[0m in \u001b[0;36mpandas._libs.parsers.TextReader._tokenize_rows\u001b[0;34m()\u001b[0m\n",
      "\u001b[0;32mpandas/_libs/parsers.pyx\u001b[0m in \u001b[0;36mpandas._libs.parsers.raise_parser_error\u001b[0;34m()\u001b[0m\n",
      "\u001b[0;31mParserError\u001b[0m: Error tokenizing data. C error: Expected 1 fields in line 3, saw 2\n"
     ]
    }
   ],
   "source": [
    "df = pd.read_csv('my_csv_export.csv')"
   ]
  },
  {
   "cell_type": "markdown",
   "metadata": {},
   "source": [
    "You will notice that there is a `ParserError` reading the file (assuming you have saved it properly and are referring to its name properly). This is because the file is actually not directly properly formatted.\n",
    "\n",
    "Open the `csv` file (right-click, open with) directly in a text editor (not Word or Wordpad!, but a pure text editor such as the Notepad, or much better VisualStudioCode).\n",
    "\n",
    "Remember that a `csv` should have the header line of the column names as the first row, and its values delimited by `,`. Looking at the file, and exploring the options of the `read_csv` function, can you correct the line below to properly load the data?"
   ]
  },
  {
   "cell_type": "code",
   "execution_count": 4,
   "metadata": {},
   "outputs": [],
   "source": [
    "df = pd.read_csv('my_csv_export.csv',\n",
    "            header=1,\n",
    "            delimiter=';'\n",
    "           )"
   ]
  },
  {
   "cell_type": "code",
   "execution_count": 5,
   "metadata": {
    "scrolled": true
   },
   "outputs": [
    {
     "data": {
      "text/html": [
       "<div>\n",
       "<style scoped>\n",
       "    .dataframe tbody tr th:only-of-type {\n",
       "        vertical-align: middle;\n",
       "    }\n",
       "\n",
       "    .dataframe tbody tr th {\n",
       "        vertical-align: top;\n",
       "    }\n",
       "\n",
       "    .dataframe thead th {\n",
       "        text-align: right;\n",
       "    }\n",
       "</style>\n",
       "<table border=\"1\" class=\"dataframe\">\n",
       "  <thead>\n",
       "    <tr style=\"text-align: right;\">\n",
       "      <th></th>\n",
       "      <th>School</th>\n",
       "      <th>Author</th>\n",
       "      <th>Actual Attributon</th>\n",
       "      <th>Place</th>\n",
       "      <th>Room</th>\n",
       "      <th>Title</th>\n",
       "      <th>Date</th>\n",
       "      <th>Date Acquired</th>\n",
       "      <th>Date Sold-Tranferred</th>\n",
       "      <th>Material / Technique</th>\n",
       "      <th>...</th>\n",
       "      <th>Unnamed: 242</th>\n",
       "      <th>Unnamed: 243</th>\n",
       "      <th>Unnamed: 244</th>\n",
       "      <th>Unnamed: 245</th>\n",
       "      <th>Unnamed: 246</th>\n",
       "      <th>Unnamed: 247</th>\n",
       "      <th>Unnamed: 248</th>\n",
       "      <th>Unnamed: 249</th>\n",
       "      <th>Unnamed: 250</th>\n",
       "      <th>Unnamed: 251</th>\n",
       "    </tr>\n",
       "  </thead>\n",
       "  <tbody>\n",
       "    <tr>\n",
       "      <th>0</th>\n",
       "      <td>Romaine et Florentine</td>\n",
       "      <td>Andrea Mantegna</td>\n",
       "      <td>NaN</td>\n",
       "      <td>Versailles</td>\n",
       "      <td>Cabinet de la Surintendance des Batimens</td>\n",
       "      <td>Paysage historique</td>\n",
       "      <td>XVI sec.</td>\n",
       "      <td>1695</td>\n",
       "      <td>NaN</td>\n",
       "      <td>Peinture à l'huile sur toile</td>\n",
       "      <td>...</td>\n",
       "      <td>NaN</td>\n",
       "      <td>NaN</td>\n",
       "      <td>NaN</td>\n",
       "      <td>NaN</td>\n",
       "      <td>NaN</td>\n",
       "      <td>NaN</td>\n",
       "      <td>NaN</td>\n",
       "      <td>NaN</td>\n",
       "      <td>NaN</td>\n",
       "      <td>NaN</td>\n",
       "    </tr>\n",
       "    <tr>\n",
       "      <th>1</th>\n",
       "      <td>Romaine et Florentine</td>\n",
       "      <td>Leonardo da Vinci</td>\n",
       "      <td>NaN</td>\n",
       "      <td>Versailles</td>\n",
       "      <td>Petite Galerie ( 1695; 1701; 1706; 1707; 1709-...</td>\n",
       "      <td>Bataille héroïque</td>\n",
       "      <td>XVII siecle</td>\n",
       "      <td>1695</td>\n",
       "      <td>NaN</td>\n",
       "      <td>Peinture à l'huile sur bois</td>\n",
       "      <td>...</td>\n",
       "      <td>NaN</td>\n",
       "      <td>NaN</td>\n",
       "      <td>NaN</td>\n",
       "      <td>NaN</td>\n",
       "      <td>NaN</td>\n",
       "      <td>NaN</td>\n",
       "      <td>NaN</td>\n",
       "      <td>NaN</td>\n",
       "      <td>NaN</td>\n",
       "      <td>NaN</td>\n",
       "    </tr>\n",
       "    <tr>\n",
       "      <th>2</th>\n",
       "      <td>Romaine et Florentine</td>\n",
       "      <td>Leonardo da Vinci</td>\n",
       "      <td>NaN</td>\n",
       "      <td>Versailles</td>\n",
       "      <td>Petite Galerie (1695; 1701 ; 1706; 1 707; 1709...</td>\n",
       "      <td>Madonna with Christ Child</td>\n",
       "      <td>1493</td>\n",
       "      <td>NaN</td>\n",
       "      <td>1715.0</td>\n",
       "      <td>peinture , peinture à l'huile; toile</td>\n",
       "      <td>...</td>\n",
       "      <td>NaN</td>\n",
       "      <td>NaN</td>\n",
       "      <td>NaN</td>\n",
       "      <td>NaN</td>\n",
       "      <td>NaN</td>\n",
       "      <td>NaN</td>\n",
       "      <td>NaN</td>\n",
       "      <td>NaN</td>\n",
       "      <td>NaN</td>\n",
       "      <td>NaN</td>\n",
       "    </tr>\n",
       "    <tr>\n",
       "      <th>3</th>\n",
       "      <td>Romaine et Florentine</td>\n",
       "      <td>Leonardo da Vinci</td>\n",
       "      <td>NaN</td>\n",
       "      <td>Versailles</td>\n",
       "      <td>Petite Galerie (1709-1710)</td>\n",
       "      <td>Le sauveur du monde tenant un globe</td>\n",
       "      <td>XVI sec.</td>\n",
       "      <td>1695</td>\n",
       "      <td>NaN</td>\n",
       "      <td>peinture , peinture à l'huile ; toile</td>\n",
       "      <td>...</td>\n",
       "      <td>NaN</td>\n",
       "      <td>NaN</td>\n",
       "      <td>NaN</td>\n",
       "      <td>NaN</td>\n",
       "      <td>NaN</td>\n",
       "      <td>NaN</td>\n",
       "      <td>NaN</td>\n",
       "      <td>NaN</td>\n",
       "      <td>NaN</td>\n",
       "      <td>NaN</td>\n",
       "    </tr>\n",
       "    <tr>\n",
       "      <th>4</th>\n",
       "      <td>Romaine et Florentine</td>\n",
       "      <td>Leonardo da Vinci</td>\n",
       "      <td>NaN</td>\n",
       "      <td>Versailles</td>\n",
       "      <td>Grand appartement du Roi</td>\n",
       "      <td>Saint Catherine of Alexandria</td>\n",
       "      <td>1518</td>\n",
       "      <td>1695</td>\n",
       "      <td>NaN</td>\n",
       "      <td>peinture à l'huile, toile</td>\n",
       "      <td>...</td>\n",
       "      <td>NaN</td>\n",
       "      <td>NaN</td>\n",
       "      <td>NaN</td>\n",
       "      <td>NaN</td>\n",
       "      <td>NaN</td>\n",
       "      <td>NaN</td>\n",
       "      <td>NaN</td>\n",
       "      <td>NaN</td>\n",
       "      <td>NaN</td>\n",
       "      <td>NaN</td>\n",
       "    </tr>\n",
       "    <tr>\n",
       "      <th>...</th>\n",
       "      <td>...</td>\n",
       "      <td>...</td>\n",
       "      <td>...</td>\n",
       "      <td>...</td>\n",
       "      <td>...</td>\n",
       "      <td>...</td>\n",
       "      <td>...</td>\n",
       "      <td>...</td>\n",
       "      <td>...</td>\n",
       "      <td>...</td>\n",
       "      <td>...</td>\n",
       "      <td>...</td>\n",
       "      <td>...</td>\n",
       "      <td>...</td>\n",
       "      <td>...</td>\n",
       "      <td>...</td>\n",
       "      <td>...</td>\n",
       "      <td>...</td>\n",
       "      <td>...</td>\n",
       "      <td>...</td>\n",
       "      <td>...</td>\n",
       "    </tr>\n",
       "    <tr>\n",
       "      <th>83</th>\n",
       "      <td>Romaine et Florentine</td>\n",
       "      <td>Francesco Trevisani</td>\n",
       "      <td>NaN</td>\n",
       "      <td>Versailles</td>\n",
       "      <td>Cabinet de la Surintendance</td>\n",
       "      <td>Saint-Jean-Baptiste</td>\n",
       "      <td>1643</td>\n",
       "      <td>1625</td>\n",
       "      <td>NaN</td>\n",
       "      <td>peinture à l'huile, toile</td>\n",
       "      <td>...</td>\n",
       "      <td>NaN</td>\n",
       "      <td>NaN</td>\n",
       "      <td>NaN</td>\n",
       "      <td>NaN</td>\n",
       "      <td>NaN</td>\n",
       "      <td>NaN</td>\n",
       "      <td>NaN</td>\n",
       "      <td>NaN</td>\n",
       "      <td>NaN</td>\n",
       "      <td>NaN</td>\n",
       "    </tr>\n",
       "    <tr>\n",
       "      <th>84</th>\n",
       "      <td>Romaine et Florentine</td>\n",
       "      <td>Giuseppe Cesari</td>\n",
       "      <td>NaN</td>\n",
       "      <td>Versailles</td>\n",
       "      <td>Cabinet des médailles</td>\n",
       "      <td>NaN</td>\n",
       "      <td>1500 - 1550</td>\n",
       "      <td>1695</td>\n",
       "      <td>NaN</td>\n",
       "      <td>peinture à l'huile, toile</td>\n",
       "      <td>...</td>\n",
       "      <td>NaN</td>\n",
       "      <td>NaN</td>\n",
       "      <td>NaN</td>\n",
       "      <td>NaN</td>\n",
       "      <td>NaN</td>\n",
       "      <td>NaN</td>\n",
       "      <td>NaN</td>\n",
       "      <td>NaN</td>\n",
       "      <td>NaN</td>\n",
       "      <td>NaN</td>\n",
       "    </tr>\n",
       "    <tr>\n",
       "      <th>85</th>\n",
       "      <td>Romaine et Florentine</td>\n",
       "      <td>Giuseppe Cesari - Cavalier d'Arpino</td>\n",
       "      <td>NaN</td>\n",
       "      <td>Versailles</td>\n",
       "      <td>Cabinet de la Surintendance</td>\n",
       "      <td>La Nativité de la Vierge</td>\n",
       "      <td>1650 - 1672</td>\n",
       "      <td>NaN</td>\n",
       "      <td>NaN</td>\n",
       "      <td>Peinture à l'huile sur toile</td>\n",
       "      <td>...</td>\n",
       "      <td>NaN</td>\n",
       "      <td>NaN</td>\n",
       "      <td>NaN</td>\n",
       "      <td>NaN</td>\n",
       "      <td>NaN</td>\n",
       "      <td>NaN</td>\n",
       "      <td>NaN</td>\n",
       "      <td>NaN</td>\n",
       "      <td>NaN</td>\n",
       "      <td>NaN</td>\n",
       "    </tr>\n",
       "    <tr>\n",
       "      <th>86</th>\n",
       "      <td>Romaine et Florentine</td>\n",
       "      <td>Giuseppe Cesari - Cavalier d'Arpino</td>\n",
       "      <td>NaN</td>\n",
       "      <td>Versailles</td>\n",
       "      <td>Cabinet de la Surintendance</td>\n",
       "      <td>Mars, Vénus et l’Amour</td>\n",
       "      <td>1507</td>\n",
       "      <td>1706</td>\n",
       "      <td>NaN</td>\n",
       "      <td>NaN</td>\n",
       "      <td>...</td>\n",
       "      <td>NaN</td>\n",
       "      <td>NaN</td>\n",
       "      <td>NaN</td>\n",
       "      <td>NaN</td>\n",
       "      <td>NaN</td>\n",
       "      <td>NaN</td>\n",
       "      <td>NaN</td>\n",
       "      <td>NaN</td>\n",
       "      <td>NaN</td>\n",
       "      <td>NaN</td>\n",
       "    </tr>\n",
       "    <tr>\n",
       "      <th>87</th>\n",
       "      <td>NaN</td>\n",
       "      <td>NaN</td>\n",
       "      <td>NaN</td>\n",
       "      <td>NaN</td>\n",
       "      <td>NaN</td>\n",
       "      <td>NaN</td>\n",
       "      <td>NaN</td>\n",
       "      <td>NaN</td>\n",
       "      <td>NaN</td>\n",
       "      <td>NaN</td>\n",
       "      <td>...</td>\n",
       "      <td>NaN</td>\n",
       "      <td>NaN</td>\n",
       "      <td>NaN</td>\n",
       "      <td>NaN</td>\n",
       "      <td>NaN</td>\n",
       "      <td>NaN</td>\n",
       "      <td>NaN</td>\n",
       "      <td>NaN</td>\n",
       "      <td>NaN</td>\n",
       "      <td>NaN</td>\n",
       "    </tr>\n",
       "  </tbody>\n",
       "</table>\n",
       "<p>88 rows × 252 columns</p>\n",
       "</div>"
      ],
      "text/plain": [
       "                   School                               Author  \\\n",
       "0   Romaine et Florentine                      Andrea Mantegna   \n",
       "1   Romaine et Florentine                    Leonardo da Vinci   \n",
       "2   Romaine et Florentine                    Leonardo da Vinci   \n",
       "3   Romaine et Florentine                    Leonardo da Vinci   \n",
       "4   Romaine et Florentine                    Leonardo da Vinci   \n",
       "..                    ...                                  ...   \n",
       "83  Romaine et Florentine                  Francesco Trevisani   \n",
       "84  Romaine et Florentine                      Giuseppe Cesari   \n",
       "85  Romaine et Florentine  Giuseppe Cesari - Cavalier d'Arpino   \n",
       "86  Romaine et Florentine  Giuseppe Cesari - Cavalier d'Arpino   \n",
       "87                    NaN                                  NaN   \n",
       "\n",
       "   Actual Attributon       Place  \\\n",
       "0                NaN  Versailles   \n",
       "1                NaN  Versailles   \n",
       "2                NaN  Versailles   \n",
       "3                NaN  Versailles   \n",
       "4                NaN  Versailles   \n",
       "..               ...         ...   \n",
       "83               NaN  Versailles   \n",
       "84               NaN  Versailles   \n",
       "85               NaN  Versailles   \n",
       "86               NaN  Versailles   \n",
       "87               NaN         NaN   \n",
       "\n",
       "                                                 Room  \\\n",
       "0            Cabinet de la Surintendance des Batimens   \n",
       "1   Petite Galerie ( 1695; 1701; 1706; 1707; 1709-...   \n",
       "2   Petite Galerie (1695; 1701 ; 1706; 1 707; 1709...   \n",
       "3                          Petite Galerie (1709-1710)   \n",
       "4                            Grand appartement du Roi   \n",
       "..                                                ...   \n",
       "83                        Cabinet de la Surintendance   \n",
       "84                              Cabinet des médailles   \n",
       "85                        Cabinet de la Surintendance   \n",
       "86                        Cabinet de la Surintendance   \n",
       "87                                                NaN   \n",
       "\n",
       "                                  Title         Date Date Acquired  \\\n",
       "0                    Paysage historique     XVI sec.          1695   \n",
       "1                     Bataille héroïque  XVII siecle          1695   \n",
       "2             Madonna with Christ Child         1493           NaN   \n",
       "3   Le sauveur du monde tenant un globe     XVI sec.          1695   \n",
       "4         Saint Catherine of Alexandria         1518          1695   \n",
       "..                                  ...          ...           ...   \n",
       "83                  Saint-Jean-Baptiste         1643          1625   \n",
       "84                                  NaN  1500 - 1550          1695   \n",
       "85             La Nativité de la Vierge  1650 - 1672           NaN   \n",
       "86               Mars, Vénus et l’Amour         1507          1706   \n",
       "87                                  NaN          NaN           NaN   \n",
       "\n",
       "    Date Sold-Tranferred                   Material / Technique  ...  \\\n",
       "0                    NaN           Peinture à l'huile sur toile  ...   \n",
       "1                    NaN            Peinture à l'huile sur bois  ...   \n",
       "2                 1715.0   peinture , peinture à l'huile; toile  ...   \n",
       "3                    NaN  peinture , peinture à l'huile ; toile  ...   \n",
       "4                    NaN              peinture à l'huile, toile  ...   \n",
       "..                   ...                                    ...  ...   \n",
       "83                   NaN              peinture à l'huile, toile  ...   \n",
       "84                   NaN              peinture à l'huile, toile  ...   \n",
       "85                   NaN           Peinture à l'huile sur toile  ...   \n",
       "86                   NaN                                    NaN  ...   \n",
       "87                   NaN                                    NaN  ...   \n",
       "\n",
       "   Unnamed: 242  Unnamed: 243 Unnamed: 244 Unnamed: 245 Unnamed: 246  \\\n",
       "0           NaN           NaN          NaN          NaN          NaN   \n",
       "1           NaN           NaN          NaN          NaN          NaN   \n",
       "2           NaN           NaN          NaN          NaN          NaN   \n",
       "3           NaN           NaN          NaN          NaN          NaN   \n",
       "4           NaN           NaN          NaN          NaN          NaN   \n",
       "..          ...           ...          ...          ...          ...   \n",
       "83          NaN           NaN          NaN          NaN          NaN   \n",
       "84          NaN           NaN          NaN          NaN          NaN   \n",
       "85          NaN           NaN          NaN          NaN          NaN   \n",
       "86          NaN           NaN          NaN          NaN          NaN   \n",
       "87          NaN           NaN          NaN          NaN          NaN   \n",
       "\n",
       "   Unnamed: 247 Unnamed: 248 Unnamed: 249  Unnamed: 250  Unnamed: 251  \n",
       "0           NaN          NaN          NaN           NaN           NaN  \n",
       "1           NaN          NaN          NaN           NaN           NaN  \n",
       "2           NaN          NaN          NaN           NaN           NaN  \n",
       "3           NaN          NaN          NaN           NaN           NaN  \n",
       "4           NaN          NaN          NaN           NaN           NaN  \n",
       "..          ...          ...          ...           ...           ...  \n",
       "83          NaN          NaN          NaN           NaN           NaN  \n",
       "84          NaN          NaN          NaN           NaN           NaN  \n",
       "85          NaN          NaN          NaN           NaN           NaN  \n",
       "86          NaN          NaN          NaN           NaN           NaN  \n",
       "87          NaN          NaN          NaN           NaN           NaN  \n",
       "\n",
       "[88 rows x 252 columns]"
      ]
     },
     "execution_count": 5,
     "metadata": {},
     "output_type": "execute_result"
    }
   ],
   "source": [
    "df"
   ]
  },
  {
   "cell_type": "markdown",
   "metadata": {},
   "source": [
    "## Cleaning the data\n",
    "\n",
    "By default, the read data is not exactly clean so let us improve that.\n",
    "\n",
    "### Removing empty columns\n",
    "\n",
    "First, you might have noticed that there is a very large number of empty columns, which is an artifact of the export and the fact that there are very long values in the original excel file, which makes excel creates arbitrary empty columns to fit the long values in the display.\n",
    "\n",
    "This can be seen by listing the (more than 250) columns."
   ]
  },
  {
   "cell_type": "code",
   "execution_count": 6,
   "metadata": {},
   "outputs": [
    {
     "data": {
      "text/plain": [
       "Index(['School', 'Author', 'Actual Attributon', 'Place', 'Room', 'Title',\n",
       "       'Date', 'Date Acquired', 'Date Sold-Tranferred', 'Material / Technique',\n",
       "       ...\n",
       "       'Unnamed: 242', 'Unnamed: 243', 'Unnamed: 244', 'Unnamed: 245',\n",
       "       'Unnamed: 246', 'Unnamed: 247', 'Unnamed: 248', 'Unnamed: 249',\n",
       "       'Unnamed: 250', 'Unnamed: 251'],\n",
       "      dtype='object', length=252)"
      ]
     },
     "execution_count": 6,
     "metadata": {},
     "output_type": "execute_result"
    }
   ],
   "source": [
    "# Gets the index object representing the names of all the columns\n",
    "df.columns"
   ]
  },
  {
   "cell_type": "markdown",
   "metadata": {},
   "source": [
    "In order to remove them, we first need to detect them. Detecting missing values can be done by directly using the method `isna()`, but it will return another `pd.Series` describing missing value at every position, and not a single boolean for the whole column. In order to find columns where there is no interesting value in, have a look at the methods [`any()`](https://pandas.pydata.org/pandas-docs/stable/reference/api/pandas.Series.any.html) or [`all()`](https://pandas.pydata.org/pandas-docs/stable/reference/api/pandas.Series.all.html)"
   ]
  },
  {
   "cell_type": "code",
   "execution_count": 7,
   "metadata": {},
   "outputs": [
    {
     "name": "stdout",
     "output_type": "stream",
     "text": [
      "should be False :  False\n",
      "should be True :  True\n"
     ]
    }
   ],
   "source": [
    "def is_column_empty(serie):\n",
    "    return serie.isna().all()\n",
    "\n",
    "print(\"should be False : \", is_column_empty(df['School']))\n",
    "print(\"should be True : \", is_column_empty(df['Unnamed: 248']))"
   ]
  },
  {
   "cell_type": "markdown",
   "metadata": {},
   "source": [
    "Using the previous function, we can now remove the unnecessary columns. For this, simply iterate over the column names (with `df.columns` as seen above), and for each of them: test if they are empty and delete them if necessary.\n",
    "\n",
    "**HINT:** deleting column is the same syntax as deleting elements of a dictionnary."
   ]
  },
  {
   "cell_type": "code",
   "execution_count": 8,
   "metadata": {},
   "outputs": [],
   "source": [
    "for column_name in df.columns:\n",
    "    if is_column_empty(df[column_name]):\n",
    "        del df[column_name]"
   ]
  },
  {
   "cell_type": "code",
   "execution_count": 9,
   "metadata": {},
   "outputs": [],
   "source": [
    "# Equivalently\n",
    "for column_name in df.columns:\n",
    "    if is_column_empty(df[column_name]) == True:\n",
    "        df.drop(column_name, axis=1, inplace=True)"
   ]
  },
  {
   "cell_type": "code",
   "execution_count": 10,
   "metadata": {},
   "outputs": [],
   "source": [
    "# Or even simpler (look at the documentation of the dropna method for DataFrame)\n",
    "df.dropna(axis=1, how='all', inplace=True)"
   ]
  },
  {
   "cell_type": "code",
   "execution_count": 11,
   "metadata": {},
   "outputs": [
    {
     "data": {
      "text/plain": [
       "True"
      ]
     },
     "execution_count": 11,
     "metadata": {},
     "output_type": "execute_result"
    }
   ],
   "source": [
    "# This should evaluate to True if only the non-empty columns are left\n",
    "set(df.columns) == set(['School', 'Author', 'Actual Attributon', 'Place', 'Room', 'Title',\n",
    "       'Date', 'Date Acquired', 'Date Sold-Tranferred', 'Material / Technique',\n",
    "       'Size (cm)', 'N. Inv. Le Brun', 'Actual Location', 'ICONCLASS', '#',\n",
    "       '#.1', '#.2', '#.3', 'Link', 'Unnamed: 23'])"
   ]
  },
  {
   "cell_type": "code",
   "execution_count": 12,
   "metadata": {
    "scrolled": true
   },
   "outputs": [
    {
     "data": {
      "text/plain": [
       "Index(['School', 'Author', 'Actual Attributon', 'Place', 'Room', 'Title',\n",
       "       'Date', 'Date Acquired', 'Date Sold-Tranferred', 'Material / Technique',\n",
       "       'Size (cm)', 'N. Inv. Le Brun', 'Actual Location', 'ICONCLASS', '#',\n",
       "       '#.1', '#.2', '#.3', 'Link', 'Unnamed: 23'],\n",
       "      dtype='object')"
      ]
     },
     "execution_count": 12,
     "metadata": {},
     "output_type": "execute_result"
    }
   ],
   "source": [
    "df.columns"
   ]
  },
  {
   "cell_type": "markdown",
   "metadata": {},
   "source": [
    "### Standardizing types\n",
    "\n",
    "Pandas tries to convert the columns to the best data types and tries to separate categorical and numerical columns.\n",
    "\n",
    "Looking at the data in the `DataFrame` and the current data type (printed with the command below). Identify which column is not properly identified as being numerical."
   ]
  },
  {
   "cell_type": "code",
   "execution_count": 13,
   "metadata": {},
   "outputs": [
    {
     "data": {
      "text/plain": [
       "School                   object\n",
       "Author                   object\n",
       "Actual Attributon        object\n",
       "Place                    object\n",
       "Room                     object\n",
       "Title                    object\n",
       "Date                     object\n",
       "Date Acquired            object\n",
       "Date Sold-Tranferred    float64\n",
       "Material / Technique     object\n",
       "Size (cm)                object\n",
       "N. Inv. Le Brun         float64\n",
       "Actual Location          object\n",
       "ICONCLASS                object\n",
       "#                        object\n",
       "#.1                      object\n",
       "#.2                      object\n",
       "#.3                      object\n",
       "Link                     object\n",
       "Unnamed: 23              object\n",
       "dtype: object"
      ]
     },
     "execution_count": 13,
     "metadata": {},
     "output_type": "execute_result"
    }
   ],
   "source": [
    "# Gives the listing of current columns with their associated data type\n",
    "df.dtypes"
   ]
  },
  {
   "cell_type": "markdown",
   "metadata": {},
   "source": [
    "Indeed, you can see directly in Excel or here that there is one value in that column can not be converted to numeric directly (line 14 to be exact)"
   ]
  },
  {
   "cell_type": "code",
   "execution_count": 14,
   "metadata": {},
   "outputs": [
    {
     "data": {
      "text/plain": [
       "10        1695\n",
       "11        1537\n",
       "12        1695\n",
       "13         NaN\n",
       "14    XVI sec.\n",
       "15         NaN\n",
       "16        1683\n",
       "17        1695\n",
       "18        1695\n",
       "19         NaN\n",
       "Name: Date Acquired, dtype: object"
      ]
     },
     "execution_count": 14,
     "metadata": {},
     "output_type": "execute_result"
    }
   ],
   "source": [
    "df['Date Acquired'][10:20]"
   ]
  },
  {
   "cell_type": "markdown",
   "metadata": {},
   "source": [
    "This can create issues, for instance it is impossible to plot the joint plot of the dates of acquisition and selling. The following plotting command will give the appropriate error."
   ]
  },
  {
   "cell_type": "code",
   "execution_count": 15,
   "metadata": {},
   "outputs": [
    {
     "ename": "ValueError",
     "evalue": "could not convert string to float: 'XVI sec.'",
     "output_type": "error",
     "traceback": [
      "\u001b[0;31m---------------------------------------------------------------------------\u001b[0m",
      "\u001b[0;31mValueError\u001b[0m                                Traceback (most recent call last)",
      "\u001b[0;32m<ipython-input-15-ebdc301a9981>\u001b[0m in \u001b[0;36m<module>\u001b[0;34m\u001b[0m\n\u001b[0;32m----> 1\u001b[0;31m \u001b[0msns\u001b[0m\u001b[0;34m.\u001b[0m\u001b[0mjointplot\u001b[0m\u001b[0;34m(\u001b[0m\u001b[0;34m'Date Acquired'\u001b[0m\u001b[0;34m,\u001b[0m \u001b[0;34m'Date Sold-Tranferred'\u001b[0m\u001b[0;34m,\u001b[0m \u001b[0mdata\u001b[0m\u001b[0;34m=\u001b[0m\u001b[0mdf\u001b[0m\u001b[0;34m)\u001b[0m\u001b[0;34m\u001b[0m\u001b[0;34m\u001b[0m\u001b[0m\n\u001b[0m",
      "\u001b[0;32m~/miniconda3/envs/archi/lib/python3.6/site-packages/seaborn/axisgrid.py\u001b[0m in \u001b[0;36mjointplot\u001b[0;34m(x, y, data, kind, stat_func, color, height, ratio, space, dropna, xlim, ylim, joint_kws, marginal_kws, annot_kws, **kwargs)\u001b[0m\n\u001b[1;32m   2299\u001b[0m         \u001b[0mmarginal_kws\u001b[0m\u001b[0;34m.\u001b[0m\u001b[0msetdefault\u001b[0m\u001b[0;34m(\u001b[0m\u001b[0;34m\"kde\"\u001b[0m\u001b[0;34m,\u001b[0m \u001b[0;32mFalse\u001b[0m\u001b[0;34m)\u001b[0m\u001b[0;34m\u001b[0m\u001b[0;34m\u001b[0m\u001b[0m\n\u001b[1;32m   2300\u001b[0m         \u001b[0mmarginal_kws\u001b[0m\u001b[0;34m.\u001b[0m\u001b[0msetdefault\u001b[0m\u001b[0;34m(\u001b[0m\u001b[0;34m\"color\"\u001b[0m\u001b[0;34m,\u001b[0m \u001b[0mcolor\u001b[0m\u001b[0;34m)\u001b[0m\u001b[0;34m\u001b[0m\u001b[0;34m\u001b[0m\u001b[0m\n\u001b[0;32m-> 2301\u001b[0;31m         \u001b[0mgrid\u001b[0m\u001b[0;34m.\u001b[0m\u001b[0mplot_marginals\u001b[0m\u001b[0;34m(\u001b[0m\u001b[0mdistplot\u001b[0m\u001b[0;34m,\u001b[0m \u001b[0;34m**\u001b[0m\u001b[0mmarginal_kws\u001b[0m\u001b[0;34m)\u001b[0m\u001b[0;34m\u001b[0m\u001b[0;34m\u001b[0m\u001b[0m\n\u001b[0m\u001b[1;32m   2302\u001b[0m \u001b[0;34m\u001b[0m\u001b[0m\n\u001b[1;32m   2303\u001b[0m     \u001b[0;32melif\u001b[0m \u001b[0mkind\u001b[0m\u001b[0;34m.\u001b[0m\u001b[0mstartswith\u001b[0m\u001b[0;34m(\u001b[0m\u001b[0;34m\"hex\"\u001b[0m\u001b[0;34m)\u001b[0m\u001b[0;34m:\u001b[0m\u001b[0;34m\u001b[0m\u001b[0;34m\u001b[0m\u001b[0m\n",
      "\u001b[0;32m~/miniconda3/envs/archi/lib/python3.6/site-packages/seaborn/axisgrid.py\u001b[0m in \u001b[0;36mplot_marginals\u001b[0;34m(self, func, **kwargs)\u001b[0m\n\u001b[1;32m   1808\u001b[0m         \u001b[0mkwargs\u001b[0m\u001b[0;34m[\u001b[0m\u001b[0;34m\"vertical\"\u001b[0m\u001b[0;34m]\u001b[0m \u001b[0;34m=\u001b[0m \u001b[0;32mFalse\u001b[0m\u001b[0;34m\u001b[0m\u001b[0;34m\u001b[0m\u001b[0m\n\u001b[1;32m   1809\u001b[0m         \u001b[0mplt\u001b[0m\u001b[0;34m.\u001b[0m\u001b[0msca\u001b[0m\u001b[0;34m(\u001b[0m\u001b[0mself\u001b[0m\u001b[0;34m.\u001b[0m\u001b[0max_marg_x\u001b[0m\u001b[0;34m)\u001b[0m\u001b[0;34m\u001b[0m\u001b[0;34m\u001b[0m\u001b[0m\n\u001b[0;32m-> 1810\u001b[0;31m         \u001b[0mfunc\u001b[0m\u001b[0;34m(\u001b[0m\u001b[0mself\u001b[0m\u001b[0;34m.\u001b[0m\u001b[0mx\u001b[0m\u001b[0;34m,\u001b[0m \u001b[0;34m**\u001b[0m\u001b[0mkwargs\u001b[0m\u001b[0;34m)\u001b[0m\u001b[0;34m\u001b[0m\u001b[0;34m\u001b[0m\u001b[0m\n\u001b[0m\u001b[1;32m   1811\u001b[0m \u001b[0;34m\u001b[0m\u001b[0m\n\u001b[1;32m   1812\u001b[0m         \u001b[0mkwargs\u001b[0m\u001b[0;34m[\u001b[0m\u001b[0;34m\"vertical\"\u001b[0m\u001b[0;34m]\u001b[0m \u001b[0;34m=\u001b[0m \u001b[0;32mTrue\u001b[0m\u001b[0;34m\u001b[0m\u001b[0;34m\u001b[0m\u001b[0m\n",
      "\u001b[0;32m~/miniconda3/envs/archi/lib/python3.6/site-packages/seaborn/distributions.py\u001b[0m in \u001b[0;36mdistplot\u001b[0;34m(a, bins, hist, kde, rug, fit, hist_kws, kde_kws, rug_kws, fit_kws, color, vertical, norm_hist, axlabel, label, ax)\u001b[0m\n\u001b[1;32m    177\u001b[0m \u001b[0;34m\u001b[0m\u001b[0m\n\u001b[1;32m    178\u001b[0m     \u001b[0;31m# Make a a 1-d float array\u001b[0m\u001b[0;34m\u001b[0m\u001b[0;34m\u001b[0m\u001b[0;34m\u001b[0m\u001b[0m\n\u001b[0;32m--> 179\u001b[0;31m     \u001b[0ma\u001b[0m \u001b[0;34m=\u001b[0m \u001b[0mnp\u001b[0m\u001b[0;34m.\u001b[0m\u001b[0masarray\u001b[0m\u001b[0;34m(\u001b[0m\u001b[0ma\u001b[0m\u001b[0;34m,\u001b[0m \u001b[0mnp\u001b[0m\u001b[0;34m.\u001b[0m\u001b[0mfloat\u001b[0m\u001b[0;34m)\u001b[0m\u001b[0;34m\u001b[0m\u001b[0;34m\u001b[0m\u001b[0m\n\u001b[0m\u001b[1;32m    180\u001b[0m     \u001b[0;32mif\u001b[0m \u001b[0ma\u001b[0m\u001b[0;34m.\u001b[0m\u001b[0mndim\u001b[0m \u001b[0;34m>\u001b[0m \u001b[0;36m1\u001b[0m\u001b[0;34m:\u001b[0m\u001b[0;34m\u001b[0m\u001b[0;34m\u001b[0m\u001b[0m\n\u001b[1;32m    181\u001b[0m         \u001b[0ma\u001b[0m \u001b[0;34m=\u001b[0m \u001b[0ma\u001b[0m\u001b[0;34m.\u001b[0m\u001b[0msqueeze\u001b[0m\u001b[0;34m(\u001b[0m\u001b[0;34m)\u001b[0m\u001b[0;34m\u001b[0m\u001b[0;34m\u001b[0m\u001b[0m\n",
      "\u001b[0;32m~/miniconda3/envs/archi/lib/python3.6/site-packages/numpy/core/numeric.py\u001b[0m in \u001b[0;36masarray\u001b[0;34m(a, dtype, order)\u001b[0m\n\u001b[1;32m    536\u001b[0m \u001b[0;34m\u001b[0m\u001b[0m\n\u001b[1;32m    537\u001b[0m     \"\"\"\n\u001b[0;32m--> 538\u001b[0;31m     \u001b[0;32mreturn\u001b[0m \u001b[0marray\u001b[0m\u001b[0;34m(\u001b[0m\u001b[0ma\u001b[0m\u001b[0;34m,\u001b[0m \u001b[0mdtype\u001b[0m\u001b[0;34m,\u001b[0m \u001b[0mcopy\u001b[0m\u001b[0;34m=\u001b[0m\u001b[0;32mFalse\u001b[0m\u001b[0;34m,\u001b[0m \u001b[0morder\u001b[0m\u001b[0;34m=\u001b[0m\u001b[0morder\u001b[0m\u001b[0;34m)\u001b[0m\u001b[0;34m\u001b[0m\u001b[0;34m\u001b[0m\u001b[0m\n\u001b[0m\u001b[1;32m    539\u001b[0m \u001b[0;34m\u001b[0m\u001b[0m\n\u001b[1;32m    540\u001b[0m \u001b[0;34m\u001b[0m\u001b[0m\n",
      "\u001b[0;31mValueError\u001b[0m: could not convert string to float: 'XVI sec.'"
     ]
    },
    {
     "data": {
      "image/png": "[encoded data removed]",
      "text/plain": [
       "<Figure size 432x432 with 3 Axes>"
      ]
     },
     "metadata": {
      "needs_background": "light"
     },
     "output_type": "display_data"
    }
   ],
   "source": [
    "sns.jointplot('Date Acquired', 'Date Sold-Tranferred', data=df)"
   ]
  },
  {
   "cell_type": "markdown",
   "metadata": {},
   "source": [
    "In order to convert a column to a numeric one, the function `pd.to_numeric` can be used. By default, it will fail because of the string value, look at the options of that function so that the wrong value is automatically dropped (by being converted to `np.nan`). \n",
    "\n",
    "Override the column in the `DataFrame` by assigning the converted column with the same name. (Reminder: it is still the same syntax as a dictionnary assignment)"
   ]
  },
  {
   "cell_type": "code",
   "execution_count": 17,
   "metadata": {},
   "outputs": [],
   "source": [
    "# Your code here\n",
    "df['Date Acquired'] = pd.to_numeric(df['Date Acquired'], errors='coerce')"
   ]
  },
  {
   "cell_type": "code",
   "execution_count": 18,
   "metadata": {},
   "outputs": [
    {
     "data": {
      "text/plain": [
       "True"
      ]
     },
     "execution_count": 18,
     "metadata": {},
     "output_type": "execute_result"
    }
   ],
   "source": [
    "# Should be True now\n",
    "df['Date Acquired'].dtype == np.float"
   ]
  },
  {
   "cell_type": "markdown",
   "metadata": {},
   "source": [
    "Now the jointplot should display properly.\n",
    "\n",
    "This visualization does not actually bring a lot of information as it only display the data points where both the acquisition date AND the selling date is known, which does not represent many data points.\n",
    "\n",
    "However, looking more closely at the previous plot, you might notice that some configurations do not seem possible and show wrong data. Can an object be sold before it is acquired???"
   ]
  },
  {
   "cell_type": "code",
   "execution_count": 19,
   "metadata": {},
   "outputs": [
    {
     "data": {
      "text/plain": [
       "<seaborn.axisgrid.JointGrid at 0x7ff45245a2b0>"
      ]
     },
     "execution_count": 19,
     "metadata": {},
     "output_type": "execute_result"
    },
    {
     "data": {
      "image/png": "[encoded data removed]",
      "text/plain": [
       "<Figure size 432x432 with 3 Axes>"
      ]
     },
     "metadata": {
      "needs_background": "light"
     },
     "output_type": "display_data"
    }
   ],
   "source": [
    "sns.jointplot('Date Acquired', 'Date Sold-Tranferred', data=df)"
   ]
  },
  {
   "cell_type": "markdown",
   "metadata": {},
   "source": [
    "Using filtering, display the two cases where the data is wrong (so that one could correct it in the original data file for instance, not necessary to correct it for the sake of this exercise though)."
   ]
  },
  {
   "cell_type": "code",
   "execution_count": 20,
   "metadata": {
    "scrolled": false
   },
   "outputs": [
    {
     "data": {
      "text/html": [
       "<div>\n",
       "<style scoped>\n",
       "    .dataframe tbody tr th:only-of-type {\n",
       "        vertical-align: middle;\n",
       "    }\n",
       "\n",
       "    .dataframe tbody tr th {\n",
       "        vertical-align: top;\n",
       "    }\n",
       "\n",
       "    .dataframe thead th {\n",
       "        text-align: right;\n",
       "    }\n",
       "</style>\n",
       "<table border=\"1\" class=\"dataframe\">\n",
       "  <thead>\n",
       "    <tr style=\"text-align: right;\">\n",
       "      <th></th>\n",
       "      <th>School</th>\n",
       "      <th>Author</th>\n",
       "      <th>Actual Attributon</th>\n",
       "      <th>Place</th>\n",
       "      <th>Room</th>\n",
       "      <th>Title</th>\n",
       "      <th>Date</th>\n",
       "      <th>Date Acquired</th>\n",
       "      <th>Date Sold-Tranferred</th>\n",
       "      <th>Material / Technique</th>\n",
       "      <th>Size (cm)</th>\n",
       "      <th>N. Inv. Le Brun</th>\n",
       "      <th>Actual Location</th>\n",
       "      <th>ICONCLASS</th>\n",
       "      <th>#</th>\n",
       "      <th>#.1</th>\n",
       "      <th>#.2</th>\n",
       "      <th>#.3</th>\n",
       "      <th>Link</th>\n",
       "      <th>Unnamed: 23</th>\n",
       "    </tr>\n",
       "  </thead>\n",
       "  <tbody>\n",
       "    <tr>\n",
       "      <th>62</th>\n",
       "      <td>Romaine et Florentine</td>\n",
       "      <td>Matteo Rosselli</td>\n",
       "      <td>Quentin Matsys</td>\n",
       "      <td>versailles</td>\n",
       "      <td>Petite Galerie ( 1695; 1701; 1706; 1707; 1709-...</td>\n",
       "      <td>La Charité</td>\n",
       "      <td>NaN</td>\n",
       "      <td>1975.0</td>\n",
       "      <td>1710.0</td>\n",
       "      <td>peinture à l'huile, toile</td>\n",
       "      <td>31 x 63</td>\n",
       "      <td>152.0</td>\n",
       "      <td>musée Condé; PE 79</td>\n",
       "      <td>61 B 11 1</td>\n",
       "      <td>NaN</td>\n",
       "      <td>NaN</td>\n",
       "      <td>NaN</td>\n",
       "      <td>NaN</td>\n",
       "      <td>http://www2.culture.gouv.fr/public/mistral/joc...</td>\n",
       "      <td>NaN</td>\n",
       "    </tr>\n",
       "    <tr>\n",
       "      <th>68</th>\n",
       "      <td>Romaine et Florentine</td>\n",
       "      <td>Salvatore Rosa</td>\n",
       "      <td>Angelo di Cosimo, dit Bronzino</td>\n",
       "      <td>Versailles</td>\n",
       "      <td>Saint Germain en Laye</td>\n",
       "      <td>La vierge, l'enfant et le petite Saint Jean qu...</td>\n",
       "      <td>1518</td>\n",
       "      <td>1737.0</td>\n",
       "      <td>1710.0</td>\n",
       "      <td>Peinture à l'huile sur toile</td>\n",
       "      <td>47.5 X 66</td>\n",
       "      <td>253.0</td>\n",
       "      <td>Louvre; INV 424</td>\n",
       "      <td>NaN</td>\n",
       "      <td>NaN</td>\n",
       "      <td>NaN</td>\n",
       "      <td>NaN</td>\n",
       "      <td>NaN</td>\n",
       "      <td>http://www2.culture.gouv.fr/public/mistral/joc...</td>\n",
       "      <td>NaN</td>\n",
       "    </tr>\n",
       "  </tbody>\n",
       "</table>\n",
       "</div>"
      ],
      "text/plain": [
       "                   School           Author               Actual Attributon  \\\n",
       "62  Romaine et Florentine  Matteo Rosselli                  Quentin Matsys   \n",
       "68  Romaine et Florentine   Salvatore Rosa  Angelo di Cosimo, dit Bronzino   \n",
       "\n",
       "         Place                                               Room  \\\n",
       "62  versailles  Petite Galerie ( 1695; 1701; 1706; 1707; 1709-...   \n",
       "68  Versailles                              Saint Germain en Laye   \n",
       "\n",
       "                                                Title  Date  Date Acquired  \\\n",
       "62                                         La Charité   NaN         1975.0   \n",
       "68  La vierge, l'enfant et le petite Saint Jean qu...  1518         1737.0   \n",
       "\n",
       "    Date Sold-Tranferred          Material / Technique  Size (cm)  \\\n",
       "62                1710.0     peinture à l'huile, toile    31 x 63   \n",
       "68                1710.0  Peinture à l'huile sur toile  47.5 X 66   \n",
       "\n",
       "    N. Inv. Le Brun     Actual Location  ICONCLASS    #  #.1  #.2  #.3  \\\n",
       "62            152.0  musée Condé; PE 79  61 B 11 1  NaN  NaN  NaN  NaN   \n",
       "68            253.0     Louvre; INV 424        NaN  NaN  NaN  NaN  NaN   \n",
       "\n",
       "                                                 Link Unnamed: 23  \n",
       "62  http://www2.culture.gouv.fr/public/mistral/joc...         NaN  \n",
       "68  http://www2.culture.gouv.fr/public/mistral/joc...         NaN  "
      ]
     },
     "execution_count": 20,
     "metadata": {},
     "output_type": "execute_result"
    }
   ],
   "source": [
    "# Your code here\n",
    "df[df['Date Acquired'] > df['Date Sold-Tranferred']]"
   ]
  },
  {
   "cell_type": "markdown",
   "metadata": {},
   "source": [
    "## Extracting the main Iconography\n",
    "\n",
    "Each record has a full ICONCLASS specification. [ICONCLASS](https://en.wikipedia.org/wiki/Iconclass) is a hierarchical iconographic classification system that is very involved. Here we take a simplistic approach and just extract the top-level (first digit) of the specification.\n",
    "\n",
    "### Installation of the iconclass python package\n",
    "\n",
    "In order to work with a more readable version of the ICONCLASS system, someone nicely made a python package that maps the obscure definitions to their textual representation.\n",
    "\n",
    "Installation can directly be done with the following command (special jupyter notebook shell command, starting with `!`) calling the python package manager `pip`"
   ]
  },
  {
   "cell_type": "code",
   "execution_count": 21,
   "metadata": {},
   "outputs": [
    {
     "name": "stdout",
     "output_type": "stream",
     "text": [
      "Requirement already satisfied: iconclass in /home/benoit/miniconda3/envs/archi/lib/python3.6/site-packages (0.10)\r\n"
     ]
    }
   ],
   "source": [
    "!pip install iconclass"
   ]
  },
  {
   "cell_type": "code",
   "execution_count": 22,
   "metadata": {},
   "outputs": [
    {
     "data": {
      "text/plain": [
       "{'c': ['10', '11', '12', '13', '14'],\n",
       " 'txt': {'pl': 'Religia i Magia',\n",
       "  'it': 'Religione e Magia',\n",
       "  'pt': 'Religião e Magia',\n",
       "  'zh': '宗教和巫術',\n",
       "  'hu': 'Vallás és mágia',\n",
       "  'nl': 'Religie en magie',\n",
       "  'de': 'Religion und Magie',\n",
       "  'fi': 'Uskonto ja maaginen',\n",
       "  'fr': 'Religion et Magie',\n",
       "  'es': 'La religión y la magia',\n",
       "  'en': 'Religion and Magic'},\n",
       " 'kw': {'it': ['soprannaturale'],\n",
       "  'pt': ['sobrenatural'],\n",
       "  'nl': ['bovennatuurlijk'],\n",
       "  'de': ['uebernatuerlich'],\n",
       "  'fr': ['supra-naturelle'],\n",
       "  'es': ['sobrenatural'],\n",
       "  'en': ['supernatural']},\n",
       " 'n': '1',\n",
       " 'p': ['1']}"
      ]
     },
     "execution_count": 22,
     "metadata": {},
     "output_type": "execute_result"
    }
   ],
   "source": [
    "# Import the newly installed package (needs to download a small database at the first import)\n",
    "import iconclass\n",
    "# Example usage\n",
    "iconclass.get('1')"
   ]
  },
  {
   "cell_type": "markdown",
   "metadata": {},
   "source": [
    "This package allow us to easily convert a ICONCLASS id to a dictionnary containing all the necessary information. The sub-classes in the tree of classification, the textual and keyword representation in multiple languages, and the parent classes."
   ]
  },
  {
   "cell_type": "code",
   "execution_count": 23,
   "metadata": {},
   "outputs": [
    {
     "data": {
      "text/plain": [
       "{'c': ['11A1',\n",
       "  '11A2',\n",
       "  '11A3',\n",
       "  '11A(+0)',\n",
       "  '11A(+1)',\n",
       "  '11A(+2)',\n",
       "  '11A(+3)',\n",
       "  '11A(+4)',\n",
       "  '11A(+5)'],\n",
       " 'r': ['11C'],\n",
       " 'txt': {'it': 'Divinità, Dio (in generale) ~ religione cristiana',\n",
       "  'pt': 'Divindade, Deus (em geral) ~ religião cristã',\n",
       "  'zh': '神，上帝（一般性） 〜基督教',\n",
       "  'hu': 'Istenség, Isten (általában) ~ keresztény vallás',\n",
       "  'nl': 'Goddelijkheid, God (algemeen)',\n",
       "  'de': 'Gottheit, Gott (im allgemeinen) in der christlichen Religion',\n",
       "  'fr': 'Dieu (en général) ~ religion chrétienne',\n",
       "  'es': 'Dios, Dios (en general) ~ religión cristiana',\n",
       "  'en': 'Deity, God (in general) ~ Christian religion'},\n",
       " 'kw': {'it': ['Dio'],\n",
       "  'pt': ['Deus'],\n",
       "  'nl': ['God'],\n",
       "  'de': ['Gott'],\n",
       "  'fi': ['Jumala'],\n",
       "  'fr': ['Dieu'],\n",
       "  'es': ['Dios'],\n",
       "  'en': ['God']},\n",
       " 'n': '11A',\n",
       " 'p': ['1', '11', '11A']}"
      ]
     },
     "execution_count": 23,
     "metadata": {},
     "output_type": "execute_result"
    }
   ],
   "source": [
    "iconclass.get('11A')"
   ]
  },
  {
   "cell_type": "markdown",
   "metadata": {},
   "source": [
    "### Simple parsing: the ICONCLASS column\n",
    "\n",
    "Using this package we can now parse, for each record with an ICONCLASS value, its main category."
   ]
  },
  {
   "cell_type": "code",
   "execution_count": 24,
   "metadata": {},
   "outputs": [
    {
     "name": "stdout",
     "output_type": "stream",
     "text": [
      "Should be \"Religion and Magic\" :  Religion and Magic\n",
      "Should be \"Classical Mythology and Ancient History\" :  Classical Mythology and Ancient History\n"
     ]
    }
   ],
   "source": [
    "def extract_main_iconography(iconclass_string):\n",
    "    # Your code here\n",
    "    iconclass_data = iconclass.get(iconclass_string[0:1])\n",
    "    return iconclass_data['txt']['en']\n",
    "\n",
    "def extract_sub_iconography(iconclass_string):\n",
    "    # Your code here\n",
    "    iconclass_data = iconclass.get(iconclass_string[0:2])\n",
    "    return iconclass_data['txt']['en']\n",
    "\n",
    "print('Should be \"Religion and Magic\" : ', extract_main_iconography(\"11 M 33\"))\n",
    "print('Should be \"Classical Mythology and Ancient History\" : ', extract_main_iconography(\"94 M 22 1\"))"
   ]
  },
  {
   "cell_type": "markdown",
   "metadata": {},
   "source": [
    "Now use the `apply` method on the `ICONCLASS` column to create a new column with the textual value of the main iconography. Careful that you might need to filter the `NaN` values of the column before using `apply`.\n",
    "\n",
    "Add the created column to the original `DataFrame` with a name of your choice."
   ]
  },
  {
   "cell_type": "code",
   "execution_count": 25,
   "metadata": {},
   "outputs": [],
   "source": [
    "# Your code here\n",
    "df['ICON_MAIN'] = df['ICONCLASS'][df.ICONCLASS.notna()].apply(extract_main_iconography)\n",
    "df['ICON_SUB'] = df['ICONCLASS'][df.ICONCLASS.notna()].apply(extract_sub_iconography)"
   ]
  },
  {
   "cell_type": "code",
   "execution_count": 26,
   "metadata": {},
   "outputs": [],
   "source": [
    "df['ICON_MAIN'] = df['ICONCLASS'].dropna().apply(extract_main_iconography)\n",
    "df['ICON_SUB'] = df['ICONCLASS'].dropna().apply(extract_sub_iconography)"
   ]
  },
  {
   "cell_type": "markdown",
   "metadata": {},
   "source": [
    "Using seaborn `countplot` (or any other method), plot the distribution of records per iconography, what seemed to be the two most important genres?\n",
    "\n",
    "(Hint: depending on how you do it the labels of the plot might overlap each other making them unreadable. To rotate them, use `plt.xticks(rotation=90)`)"
   ]
  },
  {
   "cell_type": "code",
   "execution_count": 27,
   "metadata": {},
   "outputs": [
    {
     "data": {
      "text/plain": [
       "<matplotlib.axes._subplots.AxesSubplot at 0x7ff45233a278>"
      ]
     },
     "execution_count": 27,
     "metadata": {},
     "output_type": "execute_result"
    },
    {
     "data": {
      "image/png": "[encoded data removed]",
      "text/plain": [
       "<Figure size 432x288 with 1 Axes>"
      ]
     },
     "metadata": {
      "needs_background": "light"
     },
     "output_type": "display_data"
    }
   ],
   "source": [
    "# Your code here\n",
    "sns.countplot(y='ICON_MAIN', data=df)"
   ]
  },
  {
   "cell_type": "code",
   "execution_count": 28,
   "metadata": {},
   "outputs": [
    {
     "data": {
      "text/plain": [
       "<matplotlib.axes._subplots.AxesSubplot at 0x7ff4519eb780>"
      ]
     },
     "execution_count": 28,
     "metadata": {},
     "output_type": "execute_result"
    },
    {
     "data": {
      "image/png": "[encoded data removed]",
      "text/plain": [
       "<Figure size 432x288 with 1 Axes>"
      ]
     },
     "metadata": {
      "needs_background": "light"
     },
     "output_type": "display_data"
    }
   ],
   "source": [
    "sns.countplot(y='ICON_SUB', data=df)"
   ]
  },
  {
   "cell_type": "markdown",
   "metadata": {},
   "source": [
    "## Harder parsing : extracting the size information\n",
    "\n",
    "Since not every artwork is the same size, we want to not only measure the number of artworks owned at that time but also the surface they occupied.\n",
    "\n",
    "For this let us create a function that takes the information of size in the data and tries to separate the height and the width information. Using `split` and `replace` you should be able to parse all but 4 valid values."
   ]
  },
  {
   "cell_type": "code",
   "execution_count": 29,
   "metadata": {},
   "outputs": [
    {
     "data": {
      "text/plain": [
       "0       50 x 38\n",
       "1       88 x 57\n",
       "2     72 x 95.5\n",
       "3     168 x 119\n",
       "4     214 x 351\n",
       "        ...    \n",
       "83      99 x 83\n",
       "84    178 x 122\n",
       "85     122 x 80\n",
       "86    168 x 132\n",
       "87          NaN\n",
       "Name: Size (cm), Length: 88, dtype: object"
      ]
     },
     "execution_count": 29,
     "metadata": {},
     "output_type": "execute_result"
    }
   ],
   "source": [
    "df['Size (cm)']"
   ]
  },
  {
   "cell_type": "code",
   "execution_count": 30,
   "metadata": {},
   "outputs": [
    {
     "data": {
      "text/plain": [
       "'168 x 132'"
      ]
     },
     "execution_count": 30,
     "metadata": {},
     "output_type": "execute_result"
    }
   ],
   "source": [
    "\"168 x 132\""
   ]
  },
  {
   "cell_type": "code",
   "execution_count": 31,
   "metadata": {},
   "outputs": [],
   "source": [
    "h = 168\n",
    "w = 132"
   ]
  },
  {
   "cell_type": "code",
   "execution_count": 32,
   "metadata": {},
   "outputs": [
    {
     "data": {
      "text/plain": [
       "(168, 132)"
      ]
     },
     "execution_count": 32,
     "metadata": {},
     "output_type": "execute_result"
    }
   ],
   "source": [
    "list_of_strings = \"168 x 132\".split('x')\n",
    "arr = pd.to_numeric(list_of_strings)\n",
    "h = arr[0]\n",
    "w = arr[1]\n",
    "h, w = arr\n",
    "h, w"
   ]
  },
  {
   "cell_type": "code",
   "execution_count": 33,
   "metadata": {},
   "outputs": [
    {
     "name": "stdout",
     "output_type": "stream",
     "text": [
      "1\n",
      "2\n"
     ]
    }
   ],
   "source": [
    "data = [1, 2]\n",
    "a1, a2 = data\n",
    "print(a1)\n",
    "print(a2)"
   ]
  },
  {
   "cell_type": "code",
   "execution_count": 34,
   "metadata": {},
   "outputs": [
    {
     "data": {
      "text/plain": [
       "168.0"
      ]
     },
     "execution_count": 34,
     "metadata": {},
     "output_type": "execute_result"
    }
   ],
   "source": [
    "float(list_of_strings[0])"
   ]
  },
  {
   "cell_type": "code",
   "execution_count": 35,
   "metadata": {},
   "outputs": [
    {
     "data": {
      "text/plain": [
       "array([168, 132])"
      ]
     },
     "execution_count": 35,
     "metadata": {},
     "output_type": "execute_result"
    }
   ],
   "source": [
    "\"168 x 132\".split('x')\n",
    "arr = pd.to_numeric(\"168 x 132\".split('x'))\n",
    "arr"
   ]
  },
  {
   "cell_type": "code",
   "execution_count": 36,
   "metadata": {},
   "outputs": [
    {
     "data": {
      "text/plain": [
       "1.1"
      ]
     },
     "execution_count": 36,
     "metadata": {},
     "output_type": "execute_result"
    }
   ],
   "source": [
    "pd.to_numeric('1.1')"
   ]
  },
  {
   "cell_type": "code",
   "execution_count": 37,
   "metadata": {},
   "outputs": [
    {
     "data": {
      "text/plain": [
       "0       50 x 38\n",
       "1       88 x 57\n",
       "2     72 x 95.5\n",
       "3     168 x 119\n",
       "4     214 x 351\n",
       "        ...    \n",
       "83      99 x 83\n",
       "84    178 x 122\n",
       "85     122 x 80\n",
       "86    168 x 132\n",
       "87          NaN\n",
       "Name: Size (cm), Length: 88, dtype: object"
      ]
     },
     "execution_count": 37,
     "metadata": {},
     "output_type": "execute_result"
    }
   ],
   "source": [
    "df['Size (cm)']"
   ]
  },
  {
   "cell_type": "markdown",
   "metadata": {},
   "source": [
    "Here we still use `apply` on a single column, but the function we apply is returning a `pd.Series` (i.e a row) for every value. So if for every element of a column, we return a whole record, we actually generates a Dataframe directly, whose column names are the keys of the individual records\n",
    "\n",
    "In this case, we generate a new DataFrame with two columns: Height and Width, corresponding to the parsed values."
   ]
  },
  {
   "cell_type": "code",
   "execution_count": 38,
   "metadata": {
    "scrolled": false
   },
   "outputs": [
    {
     "name": "stdout",
     "output_type": "stream",
     "text": [
      "Can not parse: nan\n",
      "Can not parse: nan\n",
      "Can not parse: nan\n",
      "Can not parse: nan\n",
      "Can not parse: nan\n",
      "Can not parse: nan\n",
      "Can not parse: 97 d\n",
      "Can not parse: nan\n",
      "Can not parse: 62 D\n",
      "Can not parse: nan\n",
      "Can not parse: 62 d\n",
      "Can not parse: nan\n",
      "Can not parse: 34 x 45.5 (ovale)\n",
      "Can not parse: nan\n"
     ]
    },
    {
     "data": {
      "text/html": [
       "<div>\n",
       "<style scoped>\n",
       "    .dataframe tbody tr th:only-of-type {\n",
       "        vertical-align: middle;\n",
       "    }\n",
       "\n",
       "    .dataframe tbody tr th {\n",
       "        vertical-align: top;\n",
       "    }\n",
       "\n",
       "    .dataframe thead th {\n",
       "        text-align: right;\n",
       "    }\n",
       "</style>\n",
       "<table border=\"1\" class=\"dataframe\">\n",
       "  <thead>\n",
       "    <tr style=\"text-align: right;\">\n",
       "      <th></th>\n",
       "      <th>Height</th>\n",
       "      <th>Width</th>\n",
       "    </tr>\n",
       "  </thead>\n",
       "  <tbody>\n",
       "    <tr>\n",
       "      <th>0</th>\n",
       "      <td>50.0</td>\n",
       "      <td>38.0</td>\n",
       "    </tr>\n",
       "    <tr>\n",
       "      <th>1</th>\n",
       "      <td>88.0</td>\n",
       "      <td>57.0</td>\n",
       "    </tr>\n",
       "    <tr>\n",
       "      <th>2</th>\n",
       "      <td>72.0</td>\n",
       "      <td>95.5</td>\n",
       "    </tr>\n",
       "    <tr>\n",
       "      <th>3</th>\n",
       "      <td>168.0</td>\n",
       "      <td>119.0</td>\n",
       "    </tr>\n",
       "    <tr>\n",
       "      <th>4</th>\n",
       "      <td>214.0</td>\n",
       "      <td>351.0</td>\n",
       "    </tr>\n",
       "    <tr>\n",
       "      <th>...</th>\n",
       "      <td>...</td>\n",
       "      <td>...</td>\n",
       "    </tr>\n",
       "    <tr>\n",
       "      <th>83</th>\n",
       "      <td>99.0</td>\n",
       "      <td>83.0</td>\n",
       "    </tr>\n",
       "    <tr>\n",
       "      <th>84</th>\n",
       "      <td>178.0</td>\n",
       "      <td>122.0</td>\n",
       "    </tr>\n",
       "    <tr>\n",
       "      <th>85</th>\n",
       "      <td>122.0</td>\n",
       "      <td>80.0</td>\n",
       "    </tr>\n",
       "    <tr>\n",
       "      <th>86</th>\n",
       "      <td>168.0</td>\n",
       "      <td>132.0</td>\n",
       "    </tr>\n",
       "    <tr>\n",
       "      <th>87</th>\n",
       "      <td>NaN</td>\n",
       "      <td>NaN</td>\n",
       "    </tr>\n",
       "  </tbody>\n",
       "</table>\n",
       "<p>88 rows × 2 columns</p>\n",
       "</div>"
      ],
      "text/plain": [
       "    Height  Width\n",
       "0     50.0   38.0\n",
       "1     88.0   57.0\n",
       "2     72.0   95.5\n",
       "3    168.0  119.0\n",
       "4    214.0  351.0\n",
       "..     ...    ...\n",
       "83    99.0   83.0\n",
       "84   178.0  122.0\n",
       "85   122.0   80.0\n",
       "86   168.0  132.0\n",
       "87     NaN    NaN\n",
       "\n",
       "[88 rows x 2 columns]"
      ]
     },
     "execution_count": 38,
     "metadata": {},
     "output_type": "execute_result"
    }
   ],
   "source": [
    "def parse_size(s):\n",
    "    try:\n",
    "        # Same code as above\n",
    "        s = s.replace(',', '.').replace('×', 'x').replace('X', 'x')\n",
    "        list_of_parts = s.split('x')\n",
    "        h = float(list_of_parts[0])\n",
    "        w = float(list_of_parts[1])\n",
    "        return pd.Series({'Height': h, 'Width': w})\n",
    "    except Exception as e:\n",
    "        print(f\"Can not parse: {s}\")\n",
    "        return pd.Series({'Height': np.nan, 'Width': np.nan})\n",
    "\n",
    "# Generates directly a new DataFrame with two columns 'Height' and 'Width'\n",
    "height_width_df = df['Size (cm)'].apply(parse_size)\n",
    "height_width_df"
   ]
  },
  {
   "cell_type": "code",
   "execution_count": 39,
   "metadata": {},
   "outputs": [
    {
     "name": "stdout",
     "output_type": "stream",
     "text": [
      "Should be True :  True\n",
      "Should be True :  True\n"
     ]
    }
   ],
   "source": [
    "# We merge the new height and width dataframe with the original one\n",
    "df = pd.concat([df, height_width_df], axis=1)\n",
    "\n",
    "# Checking that the column has proper typing\n",
    "print('Should be True : ', df['Height'].dtype == np.float)\n",
    "print('Should be True : ', df['Width'].dtype == np.float)"
   ]
  },
  {
   "cell_type": "markdown",
   "metadata": {},
   "source": [
    "We have now separated properly the height and width of each painting. The area can then easily be computed and added as an additional column named 'Area'. Looking at the example below of how mathematical operators easily propagate on full columns, add the corresponding 'Area' column to the `DataFrame`"
   ]
  },
  {
   "cell_type": "code",
   "execution_count": 40,
   "metadata": {},
   "outputs": [
    {
     "data": {
      "text/html": [
       "<div>\n",
       "<style scoped>\n",
       "    .dataframe tbody tr th:only-of-type {\n",
       "        vertical-align: middle;\n",
       "    }\n",
       "\n",
       "    .dataframe tbody tr th {\n",
       "        vertical-align: top;\n",
       "    }\n",
       "\n",
       "    .dataframe thead th {\n",
       "        text-align: right;\n",
       "    }\n",
       "</style>\n",
       "<table border=\"1\" class=\"dataframe\">\n",
       "  <thead>\n",
       "    <tr style=\"text-align: right;\">\n",
       "      <th></th>\n",
       "      <th>School</th>\n",
       "      <th>Author</th>\n",
       "      <th>Actual Attributon</th>\n",
       "      <th>Place</th>\n",
       "      <th>Room</th>\n",
       "      <th>Title</th>\n",
       "      <th>Date</th>\n",
       "      <th>Date Acquired</th>\n",
       "      <th>Date Sold-Tranferred</th>\n",
       "      <th>Material / Technique</th>\n",
       "      <th>...</th>\n",
       "      <th>#</th>\n",
       "      <th>#.1</th>\n",
       "      <th>#.2</th>\n",
       "      <th>#.3</th>\n",
       "      <th>Link</th>\n",
       "      <th>Unnamed: 23</th>\n",
       "      <th>ICON_MAIN</th>\n",
       "      <th>ICON_SUB</th>\n",
       "      <th>Height</th>\n",
       "      <th>Width</th>\n",
       "    </tr>\n",
       "  </thead>\n",
       "  <tbody>\n",
       "    <tr>\n",
       "      <th>0</th>\n",
       "      <td>Romaine et Florentine</td>\n",
       "      <td>Andrea Mantegna</td>\n",
       "      <td>NaN</td>\n",
       "      <td>Versailles</td>\n",
       "      <td>Cabinet de la Surintendance des Batimens</td>\n",
       "      <td>Paysage historique</td>\n",
       "      <td>XVI sec.</td>\n",
       "      <td>1695.0</td>\n",
       "      <td>NaN</td>\n",
       "      <td>Peinture à l'huile sur toile</td>\n",
       "      <td>...</td>\n",
       "      <td>NaN</td>\n",
       "      <td>NaN</td>\n",
       "      <td>NaN</td>\n",
       "      <td>NaN</td>\n",
       "      <td>http://www.landesmuseum-mainz.de/en/sammlung/r...</td>\n",
       "      <td>NaN</td>\n",
       "      <td>Religion and Magic</td>\n",
       "      <td>Christian religion</td>\n",
       "      <td>50.0</td>\n",
       "      <td>38.0</td>\n",
       "    </tr>\n",
       "    <tr>\n",
       "      <th>1</th>\n",
       "      <td>Romaine et Florentine</td>\n",
       "      <td>Leonardo da Vinci</td>\n",
       "      <td>NaN</td>\n",
       "      <td>Versailles</td>\n",
       "      <td>Petite Galerie ( 1695; 1701; 1706; 1707; 1709-...</td>\n",
       "      <td>Bataille héroïque</td>\n",
       "      <td>XVII siecle</td>\n",
       "      <td>1695.0</td>\n",
       "      <td>NaN</td>\n",
       "      <td>Peinture à l'huile sur bois</td>\n",
       "      <td>...</td>\n",
       "      <td>NaN</td>\n",
       "      <td>NaN</td>\n",
       "      <td>NaN</td>\n",
       "      <td>NaN</td>\n",
       "      <td>https://en.wikipedia.org/wiki/Mona_Lisa</td>\n",
       "      <td>NaN</td>\n",
       "      <td>Religion and Magic</td>\n",
       "      <td>Christian religion</td>\n",
       "      <td>88.0</td>\n",
       "      <td>57.0</td>\n",
       "    </tr>\n",
       "    <tr>\n",
       "      <th>2</th>\n",
       "      <td>Romaine et Florentine</td>\n",
       "      <td>Leonardo da Vinci</td>\n",
       "      <td>NaN</td>\n",
       "      <td>Versailles</td>\n",
       "      <td>Petite Galerie (1695; 1701 ; 1706; 1 707; 1709...</td>\n",
       "      <td>Madonna with Christ Child</td>\n",
       "      <td>1493</td>\n",
       "      <td>NaN</td>\n",
       "      <td>1715.0</td>\n",
       "      <td>peinture , peinture à l'huile; toile</td>\n",
       "      <td>...</td>\n",
       "      <td>NaN</td>\n",
       "      <td>NaN</td>\n",
       "      <td>NaN</td>\n",
       "      <td>NaN</td>\n",
       "      <td>https://www.hermitagemuseum.org/wps/portal/her...</td>\n",
       "      <td>NaN</td>\n",
       "      <td>Bible</td>\n",
       "      <td>Old Testament</td>\n",
       "      <td>72.0</td>\n",
       "      <td>95.5</td>\n",
       "    </tr>\n",
       "    <tr>\n",
       "      <th>3</th>\n",
       "      <td>Romaine et Florentine</td>\n",
       "      <td>Leonardo da Vinci</td>\n",
       "      <td>NaN</td>\n",
       "      <td>Versailles</td>\n",
       "      <td>Petite Galerie (1709-1710)</td>\n",
       "      <td>Le sauveur du monde tenant un globe</td>\n",
       "      <td>XVI sec.</td>\n",
       "      <td>1695.0</td>\n",
       "      <td>NaN</td>\n",
       "      <td>peinture , peinture à l'huile ; toile</td>\n",
       "      <td>...</td>\n",
       "      <td>NaN</td>\n",
       "      <td>NaN</td>\n",
       "      <td>NaN</td>\n",
       "      <td>NaN</td>\n",
       "      <td>https://it.wikipedia.org/wiki/Belle_Ferronnière</td>\n",
       "      <td>NaN</td>\n",
       "      <td>Religion and Magic</td>\n",
       "      <td>Christian religion</td>\n",
       "      <td>168.0</td>\n",
       "      <td>119.0</td>\n",
       "    </tr>\n",
       "    <tr>\n",
       "      <th>4</th>\n",
       "      <td>Romaine et Florentine</td>\n",
       "      <td>Leonardo da Vinci</td>\n",
       "      <td>NaN</td>\n",
       "      <td>Versailles</td>\n",
       "      <td>Grand appartement du Roi</td>\n",
       "      <td>Saint Catherine of Alexandria</td>\n",
       "      <td>1518</td>\n",
       "      <td>1695.0</td>\n",
       "      <td>NaN</td>\n",
       "      <td>peinture à l'huile, toile</td>\n",
       "      <td>...</td>\n",
       "      <td>NaN</td>\n",
       "      <td>NaN</td>\n",
       "      <td>NaN</td>\n",
       "      <td>NaN</td>\n",
       "      <td>http://www.lecoindelenigme.com/Salvator-Mundi.htm</td>\n",
       "      <td>NaN</td>\n",
       "      <td>Classical Mythology and Ancient History</td>\n",
       "      <td>the Greek heroic legends (I)</td>\n",
       "      <td>214.0</td>\n",
       "      <td>351.0</td>\n",
       "    </tr>\n",
       "    <tr>\n",
       "      <th>...</th>\n",
       "      <td>...</td>\n",
       "      <td>...</td>\n",
       "      <td>...</td>\n",
       "      <td>...</td>\n",
       "      <td>...</td>\n",
       "      <td>...</td>\n",
       "      <td>...</td>\n",
       "      <td>...</td>\n",
       "      <td>...</td>\n",
       "      <td>...</td>\n",
       "      <td>...</td>\n",
       "      <td>...</td>\n",
       "      <td>...</td>\n",
       "      <td>...</td>\n",
       "      <td>...</td>\n",
       "      <td>...</td>\n",
       "      <td>...</td>\n",
       "      <td>...</td>\n",
       "      <td>...</td>\n",
       "      <td>...</td>\n",
       "      <td>...</td>\n",
       "    </tr>\n",
       "    <tr>\n",
       "      <th>83</th>\n",
       "      <td>Romaine et Florentine</td>\n",
       "      <td>Francesco Trevisani</td>\n",
       "      <td>NaN</td>\n",
       "      <td>Versailles</td>\n",
       "      <td>Cabinet de la Surintendance</td>\n",
       "      <td>Saint-Jean-Baptiste</td>\n",
       "      <td>1643</td>\n",
       "      <td>1625.0</td>\n",
       "      <td>NaN</td>\n",
       "      <td>peinture à l'huile, toile</td>\n",
       "      <td>...</td>\n",
       "      <td>NaN</td>\n",
       "      <td>NaN</td>\n",
       "      <td>NaN</td>\n",
       "      <td>NaN</td>\n",
       "      <td>NaN</td>\n",
       "      <td>NaN</td>\n",
       "      <td>Bible</td>\n",
       "      <td>New Testament</td>\n",
       "      <td>99.0</td>\n",
       "      <td>83.0</td>\n",
       "    </tr>\n",
       "    <tr>\n",
       "      <th>84</th>\n",
       "      <td>Romaine et Florentine</td>\n",
       "      <td>Giuseppe Cesari</td>\n",
       "      <td>NaN</td>\n",
       "      <td>Versailles</td>\n",
       "      <td>Cabinet des médailles</td>\n",
       "      <td>NaN</td>\n",
       "      <td>1500 - 1550</td>\n",
       "      <td>1695.0</td>\n",
       "      <td>NaN</td>\n",
       "      <td>peinture à l'huile, toile</td>\n",
       "      <td>...</td>\n",
       "      <td>NaN</td>\n",
       "      <td>NaN</td>\n",
       "      <td>NaN</td>\n",
       "      <td>NaN</td>\n",
       "      <td>NaN</td>\n",
       "      <td>NaN</td>\n",
       "      <td>Classical Mythology and Ancient History</td>\n",
       "      <td>metamorphoses ~ classical mythology</td>\n",
       "      <td>178.0</td>\n",
       "      <td>122.0</td>\n",
       "    </tr>\n",
       "    <tr>\n",
       "      <th>85</th>\n",
       "      <td>Romaine et Florentine</td>\n",
       "      <td>Giuseppe Cesari - Cavalier d'Arpino</td>\n",
       "      <td>NaN</td>\n",
       "      <td>Versailles</td>\n",
       "      <td>Cabinet de la Surintendance</td>\n",
       "      <td>La Nativité de la Vierge</td>\n",
       "      <td>1650 - 1672</td>\n",
       "      <td>NaN</td>\n",
       "      <td>NaN</td>\n",
       "      <td>Peinture à l'huile sur toile</td>\n",
       "      <td>...</td>\n",
       "      <td>NaN</td>\n",
       "      <td>NaN</td>\n",
       "      <td>NaN</td>\n",
       "      <td>NaN</td>\n",
       "      <td>NaN</td>\n",
       "      <td>NaN</td>\n",
       "      <td>Bible</td>\n",
       "      <td>New Testament</td>\n",
       "      <td>122.0</td>\n",
       "      <td>80.0</td>\n",
       "    </tr>\n",
       "    <tr>\n",
       "      <th>86</th>\n",
       "      <td>Romaine et Florentine</td>\n",
       "      <td>Giuseppe Cesari - Cavalier d'Arpino</td>\n",
       "      <td>NaN</td>\n",
       "      <td>Versailles</td>\n",
       "      <td>Cabinet de la Surintendance</td>\n",
       "      <td>Mars, Vénus et l’Amour</td>\n",
       "      <td>1507</td>\n",
       "      <td>1706.0</td>\n",
       "      <td>NaN</td>\n",
       "      <td>NaN</td>\n",
       "      <td>...</td>\n",
       "      <td>NaN</td>\n",
       "      <td>NaN</td>\n",
       "      <td>NaN</td>\n",
       "      <td>NaN</td>\n",
       "      <td>http://www2.culture.gouv.fr/public/mistral/joc...</td>\n",
       "      <td>NaN</td>\n",
       "      <td>Bible</td>\n",
       "      <td>New Testament</td>\n",
       "      <td>168.0</td>\n",
       "      <td>132.0</td>\n",
       "    </tr>\n",
       "    <tr>\n",
       "      <th>87</th>\n",
       "      <td>NaN</td>\n",
       "      <td>NaN</td>\n",
       "      <td>NaN</td>\n",
       "      <td>NaN</td>\n",
       "      <td>NaN</td>\n",
       "      <td>NaN</td>\n",
       "      <td>NaN</td>\n",
       "      <td>NaN</td>\n",
       "      <td>NaN</td>\n",
       "      <td>NaN</td>\n",
       "      <td>...</td>\n",
       "      <td>NaN</td>\n",
       "      <td>NaN</td>\n",
       "      <td>NaN</td>\n",
       "      <td>NaN</td>\n",
       "      <td>NaN</td>\n",
       "      <td>NaN</td>\n",
       "      <td>NaN</td>\n",
       "      <td>NaN</td>\n",
       "      <td>NaN</td>\n",
       "      <td>NaN</td>\n",
       "    </tr>\n",
       "  </tbody>\n",
       "</table>\n",
       "<p>88 rows × 24 columns</p>\n",
       "</div>"
      ],
      "text/plain": [
       "                   School                               Author  \\\n",
       "0   Romaine et Florentine                      Andrea Mantegna   \n",
       "1   Romaine et Florentine                    Leonardo da Vinci   \n",
       "2   Romaine et Florentine                    Leonardo da Vinci   \n",
       "3   Romaine et Florentine                    Leonardo da Vinci   \n",
       "4   Romaine et Florentine                    Leonardo da Vinci   \n",
       "..                    ...                                  ...   \n",
       "83  Romaine et Florentine                  Francesco Trevisani   \n",
       "84  Romaine et Florentine                      Giuseppe Cesari   \n",
       "85  Romaine et Florentine  Giuseppe Cesari - Cavalier d'Arpino   \n",
       "86  Romaine et Florentine  Giuseppe Cesari - Cavalier d'Arpino   \n",
       "87                    NaN                                  NaN   \n",
       "\n",
       "   Actual Attributon       Place  \\\n",
       "0                NaN  Versailles   \n",
       "1                NaN  Versailles   \n",
       "2                NaN  Versailles   \n",
       "3                NaN  Versailles   \n",
       "4                NaN  Versailles   \n",
       "..               ...         ...   \n",
       "83               NaN  Versailles   \n",
       "84               NaN  Versailles   \n",
       "85               NaN  Versailles   \n",
       "86               NaN  Versailles   \n",
       "87               NaN         NaN   \n",
       "\n",
       "                                                 Room  \\\n",
       "0            Cabinet de la Surintendance des Batimens   \n",
       "1   Petite Galerie ( 1695; 1701; 1706; 1707; 1709-...   \n",
       "2   Petite Galerie (1695; 1701 ; 1706; 1 707; 1709...   \n",
       "3                          Petite Galerie (1709-1710)   \n",
       "4                            Grand appartement du Roi   \n",
       "..                                                ...   \n",
       "83                        Cabinet de la Surintendance   \n",
       "84                              Cabinet des médailles   \n",
       "85                        Cabinet de la Surintendance   \n",
       "86                        Cabinet de la Surintendance   \n",
       "87                                                NaN   \n",
       "\n",
       "                                  Title         Date  Date Acquired  \\\n",
       "0                    Paysage historique     XVI sec.         1695.0   \n",
       "1                     Bataille héroïque  XVII siecle         1695.0   \n",
       "2             Madonna with Christ Child         1493            NaN   \n",
       "3   Le sauveur du monde tenant un globe     XVI sec.         1695.0   \n",
       "4         Saint Catherine of Alexandria         1518         1695.0   \n",
       "..                                  ...          ...            ...   \n",
       "83                  Saint-Jean-Baptiste         1643         1625.0   \n",
       "84                                  NaN  1500 - 1550         1695.0   \n",
       "85             La Nativité de la Vierge  1650 - 1672            NaN   \n",
       "86               Mars, Vénus et l’Amour         1507         1706.0   \n",
       "87                                  NaN          NaN            NaN   \n",
       "\n",
       "    Date Sold-Tranferred                   Material / Technique  ...    #  \\\n",
       "0                    NaN           Peinture à l'huile sur toile  ...  NaN   \n",
       "1                    NaN            Peinture à l'huile sur bois  ...  NaN   \n",
       "2                 1715.0   peinture , peinture à l'huile; toile  ...  NaN   \n",
       "3                    NaN  peinture , peinture à l'huile ; toile  ...  NaN   \n",
       "4                    NaN              peinture à l'huile, toile  ...  NaN   \n",
       "..                   ...                                    ...  ...  ...   \n",
       "83                   NaN              peinture à l'huile, toile  ...  NaN   \n",
       "84                   NaN              peinture à l'huile, toile  ...  NaN   \n",
       "85                   NaN           Peinture à l'huile sur toile  ...  NaN   \n",
       "86                   NaN                                    NaN  ...  NaN   \n",
       "87                   NaN                                    NaN  ...  NaN   \n",
       "\n",
       "    #.1  #.2  #.3                                               Link  \\\n",
       "0   NaN  NaN  NaN  http://www.landesmuseum-mainz.de/en/sammlung/r...   \n",
       "1   NaN  NaN  NaN            https://en.wikipedia.org/wiki/Mona_Lisa   \n",
       "2   NaN  NaN  NaN  https://www.hermitagemuseum.org/wps/portal/her...   \n",
       "3   NaN  NaN  NaN    https://it.wikipedia.org/wiki/Belle_Ferronnière   \n",
       "4   NaN  NaN  NaN  http://www.lecoindelenigme.com/Salvator-Mundi.htm   \n",
       "..  ...  ...  ...                                                ...   \n",
       "83  NaN  NaN  NaN                                                NaN   \n",
       "84  NaN  NaN  NaN                                                NaN   \n",
       "85  NaN  NaN  NaN                                                NaN   \n",
       "86  NaN  NaN  NaN  http://www2.culture.gouv.fr/public/mistral/joc...   \n",
       "87  NaN  NaN  NaN                                                NaN   \n",
       "\n",
       "   Unnamed: 23                                ICON_MAIN  \\\n",
       "0          NaN                       Religion and Magic   \n",
       "1          NaN                       Religion and Magic   \n",
       "2          NaN                                    Bible   \n",
       "3          NaN                       Religion and Magic   \n",
       "4          NaN  Classical Mythology and Ancient History   \n",
       "..         ...                                      ...   \n",
       "83         NaN                                    Bible   \n",
       "84         NaN  Classical Mythology and Ancient History   \n",
       "85         NaN                                    Bible   \n",
       "86         NaN                                    Bible   \n",
       "87         NaN                                      NaN   \n",
       "\n",
       "                               ICON_SUB Height  Width  \n",
       "0                    Christian religion   50.0   38.0  \n",
       "1                    Christian religion   88.0   57.0  \n",
       "2                         Old Testament   72.0   95.5  \n",
       "3                    Christian religion  168.0  119.0  \n",
       "4          the Greek heroic legends (I)  214.0  351.0  \n",
       "..                                  ...    ...    ...  \n",
       "83                        New Testament   99.0   83.0  \n",
       "84  metamorphoses ~ classical mythology  178.0  122.0  \n",
       "85                        New Testament  122.0   80.0  \n",
       "86                        New Testament  168.0  132.0  \n",
       "87                                  NaN    NaN    NaN  \n",
       "\n",
       "[88 rows x 24 columns]"
      ]
     },
     "execution_count": 40,
     "metadata": {},
     "output_type": "execute_result"
    }
   ],
   "source": [
    "df"
   ]
  },
  {
   "cell_type": "code",
   "execution_count": 41,
   "metadata": {},
   "outputs": [],
   "source": [
    "df['Area'] = df['Width'] * df['Height']"
   ]
  },
  {
   "cell_type": "markdown",
   "metadata": {},
   "source": [
    "Now using the `swarmplot` of seaborn, look at the distribution of the size of paintings according to their main iconography. What can you say?"
   ]
  },
  {
   "cell_type": "code",
   "execution_count": 42,
   "metadata": {},
   "outputs": [
    {
     "data": {
      "text/plain": [
       "<matplotlib.axes._subplots.AxesSubplot at 0x7ff4519655f8>"
      ]
     },
     "execution_count": 42,
     "metadata": {},
     "output_type": "execute_result"
    },
    {
     "data": {
      "image/png": "[encoded data removed]",
      "text/plain": [
       "<Figure size 432x288 with 1 Axes>"
      ]
     },
     "metadata": {
      "needs_background": "light"
     },
     "output_type": "display_data"
    }
   ],
   "source": [
    "# Your code here\n",
    "sns.swarmplot(y='ICON_MAIN', x='Area', data=df)"
   ]
  },
  {
   "cell_type": "markdown",
   "metadata": {},
   "source": [
    "### Custom Aggregation\n",
    "\n",
    "In order to compute exactly the number of painting in each category and the combined areas of all the paintings in each category we need to aggregate the information.\n",
    "\n",
    "Try to use `groupby` on the Dataframe and then apply `sum` or `count` to create aggregated series. You might have to google a bit around to understand how `groupby` works."
   ]
  },
  {
   "cell_type": "code",
   "execution_count": 43,
   "metadata": {},
   "outputs": [
    {
     "data": {
      "text/plain": [
       "<matplotlib.axes._subplots.AxesSubplot at 0x7ff4518aefd0>"
      ]
     },
     "execution_count": 43,
     "metadata": {},
     "output_type": "execute_result"
    },
    {
     "data": {
      "image/png": "[encoded data removed]",
      "text/plain": [
       "<Figure size 432x288 with 1 Axes>"
      ]
     },
     "metadata": {
      "needs_background": "light"
     },
     "output_type": "display_data"
    }
   ],
   "source": [
    "# your code here\n",
    "df.groupby('ICON_MAIN').Area.sum().plot(kind='bar')"
   ]
  },
  {
   "cell_type": "markdown",
   "metadata": {},
   "source": [
    "You can then directly plot the aggregated values with `plot(kind='bar')` on the aggregated column. Display the aggregated count of records per iconographic category, and the aggregated area per iconographic category. Do they tell different stories?"
   ]
  },
  {
   "cell_type": "code",
   "execution_count": 44,
   "metadata": {},
   "outputs": [
    {
     "data": {
      "text/plain": [
       "<matplotlib.axes._subplots.AxesSubplot at 0x7ff45189ca20>"
      ]
     },
     "execution_count": 44,
     "metadata": {},
     "output_type": "execute_result"
    },
    {
     "data": {
      "image/png": "[encoded data removed]",
      "text/plain": [
       "<Figure size 432x288 with 1 Axes>"
      ]
     },
     "metadata": {
      "needs_background": "light"
     },
     "output_type": "display_data"
    }
   ],
   "source": [
    "# Your code here\n",
    "df.groupby('ICON_MAIN').Area.count().plot(kind='bar')"
   ]
  },
  {
   "cell_type": "code",
   "execution_count": 45,
   "metadata": {},
   "outputs": [
    {
     "data": {
      "text/plain": [
       "<matplotlib.axes._subplots.AxesSubplot at 0x7ff4517bb358>"
      ]
     },
     "execution_count": 45,
     "metadata": {},
     "output_type": "execute_result"
    },
    {
     "data": {
      "image/png": "[encoded data removed]",
      "text/plain": [
       "<Figure size 1008x576 with 2 Axes>"
      ]
     },
     "metadata": {
      "needs_background": "light"
     },
     "output_type": "display_data"
    }
   ],
   "source": [
    "fig, axes = plt.subplots(ncols=2, figsize=(14, 8))\n",
    "df.groupby('ICON_MAIN').Area.count().plot(kind='bar', ax=axes[0])\n",
    "df.groupby('ICON_MAIN').Area.sum().plot(kind='bar', ax=axes[1])"
   ]
  },
  {
   "cell_type": "code",
   "execution_count": 46,
   "metadata": {},
   "outputs": [
    {
     "data": {
      "text/plain": [
       "<matplotlib.axes._subplots.AxesSubplot at 0x7ff4514c2c88>"
      ]
     },
     "execution_count": 46,
     "metadata": {},
     "output_type": "execute_result"
    },
    {
     "data": {
      "image/png": "[encoded data removed]",
      "text/plain": [
       "<Figure size 1008x576 with 2 Axes>"
      ]
     },
     "metadata": {
      "needs_background": "light"
     },
     "output_type": "display_data"
    }
   ],
   "source": [
    "fig, axes = plt.subplots(ncols=2, figsize=(14, 8))\n",
    "df.groupby('ICON_SUB').Area.count().plot(kind='bar', ax=axes[0])\n",
    "df.groupby('ICON_SUB').Area.sum().plot(kind='bar', ax=axes[1])"
   ]
  },
  {
   "cell_type": "markdown",
   "metadata": {},
   "source": [
    "## Last questions\n",
    "\n",
    "### More precise analysis\n",
    "\n",
    "Of course, there is much more to be done that we are doing here. For instance can you adapt and rerun your code so that we display the statistics based on the second level iconography and not the top-level?\n",
    "\n",
    "What about the represented authors?\n",
    "\n",
    "### Sampling bias\n",
    "\n",
    "There are multiple records which are not in the final analysis, because one of the necessary field was not available or not parsed properly. Can you count the percentage of records missing in this analysis? Does it change the conclusions?"
   ]
  },
  {
   "cell_type": "code",
   "execution_count": null,
   "metadata": {},
   "outputs": [],
   "source": [
    "# Your code here"
   ]
  },
  {
   "cell_type": "code",
   "execution_count": null,
   "metadata": {},
   "outputs": [],
   "source": []
  }
 ],
 "metadata": {
  "kernelspec": {
   "display_name": "Python 3",
   "language": "python",
   "name": "python3"
  },
  "language_info": {
   "codemirror_mode": {
    "name": "ipython",
    "version": 3
   },
   "file_extension": ".py",
   "mimetype": "text/x-python",
   "name": "python",
   "nbconvert_exporter": "python",
   "pygments_lexer": "ipython3",
   "version": "3.6.8"
  }
 },
 "nbformat": 4,
 "nbformat_minor": 2
}
