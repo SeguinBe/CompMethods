{
 "cells": [
  {
   "cell_type": "code",
   "execution_count": 1,
   "metadata": {
    "scrolled": true
   },
   "outputs": [
    {
     "name": "stdout",
     "output_type": "stream",
     "text": [
      "Requirement already satisfied: SPARQLWrapper in /home/benoit/miniconda3/envs/archi/lib/python3.6/site-packages (1.8.5)\n",
      "Requirement already satisfied: rdflib>=4.0 in /home/benoit/miniconda3/envs/archi/lib/python3.6/site-packages (from SPARQLWrapper) (5.0.0)\n",
      "Requirement already satisfied: six in /home/benoit/miniconda3/envs/archi/lib/python3.6/site-packages (from rdflib>=4.0->SPARQLWrapper) (1.12.0)\n",
      "Requirement already satisfied: pyparsing in /home/benoit/miniconda3/envs/archi/lib/python3.6/site-packages (from rdflib>=4.0->SPARQLWrapper) (2.4.6)\n",
      "Requirement already satisfied: isodate in /home/benoit/miniconda3/envs/archi/lib/python3.6/site-packages (from rdflib>=4.0->SPARQLWrapper) (0.6.0)\n",
      "Requirement already satisfied: geopandas in /home/benoit/miniconda3/envs/archi/lib/python3.6/site-packages (0.7.0)\n",
      "Requirement already satisfied: shapely in /home/benoit/miniconda3/envs/archi/lib/python3.6/site-packages (from geopandas) (1.7.0)\n",
      "Requirement already satisfied: fiona in /home/benoit/miniconda3/envs/archi/lib/python3.6/site-packages (from geopandas) (1.8.13.post1)\n",
      "Requirement already satisfied: pandas>=0.23.0 in /home/benoit/miniconda3/envs/archi/lib/python3.6/site-packages (from geopandas) (1.0.3)\n",
      "Requirement already satisfied: pyproj>=2.2.0 in /home/benoit/miniconda3/envs/archi/lib/python3.6/site-packages (from geopandas) (2.6.0)\n",
      "Requirement already satisfied: click<8,>=4.0 in /home/benoit/miniconda3/envs/archi/lib/python3.6/site-packages (from fiona->geopandas) (7.0)\n",
      "Requirement already satisfied: six>=1.7 in /home/benoit/miniconda3/envs/archi/lib/python3.6/site-packages (from fiona->geopandas) (1.12.0)\n",
      "Requirement already satisfied: click-plugins>=1.0 in /home/benoit/miniconda3/envs/archi/lib/python3.6/site-packages (from fiona->geopandas) (1.1.1)\n",
      "Requirement already satisfied: attrs>=17 in /home/benoit/miniconda3/envs/archi/lib/python3.6/site-packages (from fiona->geopandas) (19.3.0)\n",
      "Requirement already satisfied: cligj>=0.5 in /home/benoit/miniconda3/envs/archi/lib/python3.6/site-packages (from fiona->geopandas) (0.5.0)\n",
      "Requirement already satisfied: munch in /home/benoit/miniconda3/envs/archi/lib/python3.6/site-packages (from fiona->geopandas) (2.5.0)\n",
      "Requirement already satisfied: numpy>=1.13.3 in /home/benoit/miniconda3/envs/archi/lib/python3.6/site-packages (from pandas>=0.23.0->geopandas) (1.16.2)\n",
      "Requirement already satisfied: python-dateutil>=2.6.1 in /home/benoit/miniconda3/envs/archi/lib/python3.6/site-packages (from pandas>=0.23.0->geopandas) (2.8.0)\n",
      "Requirement already satisfied: pytz>=2017.2 in /home/benoit/miniconda3/envs/archi/lib/python3.6/site-packages (from pandas>=0.23.0->geopandas) (2018.9)\n",
      "Requirement already satisfied: contextily in /home/benoit/miniconda3/envs/archi/lib/python3.6/site-packages (1.0.0)\n",
      "Requirement already satisfied: geopy in /home/benoit/miniconda3/envs/archi/lib/python3.6/site-packages (from contextily) (1.21.0)\n",
      "Requirement already satisfied: joblib in /home/benoit/miniconda3/envs/archi/lib/python3.6/site-packages (from contextily) (0.14.1)\n",
      "Requirement already satisfied: rasterio in /home/benoit/miniconda3/envs/archi/lib/python3.6/site-packages (from contextily) (1.1.3)\n",
      "Requirement already satisfied: mercantile in /home/benoit/miniconda3/envs/archi/lib/python3.6/site-packages (from contextily) (1.1.3)\n",
      "Requirement already satisfied: matplotlib in /home/benoit/miniconda3/envs/archi/lib/python3.6/site-packages (from contextily) (3.1.1)\n",
      "Requirement already satisfied: requests in /home/benoit/miniconda3/envs/archi/lib/python3.6/site-packages (from contextily) (2.21.0)\n",
      "Requirement already satisfied: pillow in /home/benoit/miniconda3/envs/archi/lib/python3.6/site-packages (from contextily) (6.0.0)\n",
      "Requirement already satisfied: geographiclib<2,>=1.49 in /home/benoit/miniconda3/envs/archi/lib/python3.6/site-packages (from geopy->contextily) (1.50)\n",
      "Requirement already satisfied: attrs in /home/benoit/miniconda3/envs/archi/lib/python3.6/site-packages (from rasterio->contextily) (19.3.0)\n",
      "Requirement already satisfied: click-plugins in /home/benoit/miniconda3/envs/archi/lib/python3.6/site-packages (from rasterio->contextily) (1.1.1)\n",
      "Requirement already satisfied: numpy in /home/benoit/miniconda3/envs/archi/lib/python3.6/site-packages (from rasterio->contextily) (1.16.2)\n",
      "Requirement already satisfied: affine in /home/benoit/miniconda3/envs/archi/lib/python3.6/site-packages (from rasterio->contextily) (2.3.0)\n",
      "Requirement already satisfied: cligj>=0.5 in /home/benoit/miniconda3/envs/archi/lib/python3.6/site-packages (from rasterio->contextily) (0.5.0)\n",
      "Requirement already satisfied: click<8,>=4.0 in /home/benoit/miniconda3/envs/archi/lib/python3.6/site-packages (from rasterio->contextily) (7.0)\n",
      "Requirement already satisfied: snuggs>=1.4.1 in /home/benoit/miniconda3/envs/archi/lib/python3.6/site-packages (from rasterio->contextily) (1.4.7)\n",
      "Requirement already satisfied: cycler>=0.10 in /home/benoit/miniconda3/envs/archi/lib/python3.6/site-packages (from matplotlib->contextily) (0.10.0)\n",
      "Requirement already satisfied: kiwisolver>=1.0.1 in /home/benoit/miniconda3/envs/archi/lib/python3.6/site-packages (from matplotlib->contextily) (1.1.0)\n",
      "Requirement already satisfied: pyparsing!=2.0.4,!=2.1.2,!=2.1.6,>=2.0.1 in /home/benoit/miniconda3/envs/archi/lib/python3.6/site-packages (from matplotlib->contextily) (2.4.6)\n",
      "Requirement already satisfied: python-dateutil>=2.1 in /home/benoit/miniconda3/envs/archi/lib/python3.6/site-packages (from matplotlib->contextily) (2.8.0)\n",
      "Requirement already satisfied: urllib3<1.25,>=1.21.1 in /home/benoit/miniconda3/envs/archi/lib/python3.6/site-packages (from requests->contextily) (1.24.3)\n",
      "Requirement already satisfied: chardet<3.1.0,>=3.0.2 in /home/benoit/miniconda3/envs/archi/lib/python3.6/site-packages (from requests->contextily) (3.0.4)\n",
      "Requirement already satisfied: certifi>=2017.4.17 in /home/benoit/miniconda3/envs/archi/lib/python3.6/site-packages (from requests->contextily) (2019.11.28)\n",
      "Requirement already satisfied: idna<2.9,>=2.5 in /home/benoit/miniconda3/envs/archi/lib/python3.6/site-packages (from requests->contextily) (2.8)\n",
      "Requirement already satisfied: six in /home/benoit/miniconda3/envs/archi/lib/python3.6/site-packages (from cycler>=0.10->matplotlib->contextily) (1.12.0)\n",
      "Requirement already satisfied: setuptools in /home/benoit/miniconda3/envs/archi/lib/python3.6/site-packages (from kiwisolver>=1.0.1->matplotlib->contextily) (40.8.0)\n"
     ]
    }
   ],
   "source": [
    "# Library for SPARQL querying\n",
    "!pip install SPARQLWrapper\n",
    "# Pandas extension for geographical information\n",
    "!pip install geopandas\n",
    "# Map contexts for geographical plots\n",
    "!pip install contextily"
   ]
  },
  {
   "cell_type": "code",
   "execution_count": 5,
   "metadata": {},
   "outputs": [],
   "source": [
    "import pandas as pd\n",
    "import json\n",
    "from SPARQLWrapper import SPARQLWrapper, JSON\n",
    "\n",
    "from shapely.geometry import Point\n",
    "import geopandas\n",
    "from geopandas import GeoDataFrame\n",
    "from shapely import wkt\n",
    "\n",
    "def get_sparql_dataframe(service, query, has_geo_data=False):\n",
    "    \"\"\"\n",
    "    Helper function to convert SPARQL results into a Pandas data frame.\n",
    "    Adapted from http://lawlesst.github.io/notebook/sparql-dataframe.html\n",
    "    \"\"\"\n",
    "    sparql = SPARQLWrapper(service)\n",
    "    sparql.setQuery(query)\n",
    "    sparql.setReturnFormat(JSON)\n",
    "    result = sparql.query()\n",
    "\n",
    "    data_dictionnary = result.convert()\n",
    "    cols = data_dictionnary['head']['vars']\n",
    "\n",
    "    out = []\n",
    "    for row in data_dictionnary['results']['bindings']:\n",
    "        item = []\n",
    "        for c in cols:\n",
    "            v = row.get(c, {}).get('value')\n",
    "            t = row.get(c, {}).get('datatype')\n",
    "            if has_geo_data and (t == 'http://www.opengis.net/ont/geosparql#wktLiteral'):\n",
    "                v = wkt.loads(v)\n",
    "            item.append(v)\n",
    "        out.append(item)\n",
    "    \n",
    "    if has_geo_data:\n",
    "        return GeoDataFrame(out, columns=cols, crs=\"EPSG:4326\")  # setting the default coordinate reference system\n",
    "    else:\n",
    "        return pd.DataFrame(out, columns=cols)"
   ]
  },
  {
   "cell_type": "markdown",
   "metadata": {},
   "source": [
    "## Access data"
   ]
  },
  {
   "cell_type": "code",
   "execution_count": null,
   "metadata": {},
   "outputs": [],
   "source": []
  },
  {
   "cell_type": "markdown",
   "metadata": {},
   "source": [
    "## Basic Exploration"
   ]
  },
  {
   "cell_type": "code",
   "execution_count": null,
   "metadata": {},
   "outputs": [],
   "source": []
  },
  {
   "cell_type": "markdown",
   "metadata": {},
   "source": [
    "## Take Away"
   ]
  },
  {
   "cell_type": "code",
   "execution_count": null,
   "metadata": {},
   "outputs": [],
   "source": []
  }
 ],
 "metadata": {
  "kernelspec": {
   "display_name": "Python 3",
   "language": "python",
   "name": "python3"
  },
  "language_info": {
   "codemirror_mode": {
    "name": "ipython",
    "version": 3
   },
   "file_extension": ".py",
   "mimetype": "text/x-python",
   "name": "python",
   "nbconvert_exporter": "python",
   "pygments_lexer": "ipython3",
   "version": "3.6.8"
  }
 },
 "nbformat": 4,
 "nbformat_minor": 2
}
