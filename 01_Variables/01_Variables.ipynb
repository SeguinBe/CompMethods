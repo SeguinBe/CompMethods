{
 "cells": [
  {
   "cell_type": "markdown",
   "metadata": {},
   "source": [
    "# Chapter 1: Variables"
   ]
  },
  {
   "cell_type": "markdown",
   "metadata": {},
   "source": [
    "*-- This course borrows heavily from 'Python for the Humanities', a course by Folgert Karsdorp and Maarten van Gompel with modifications and contributions by Mike Kestemont, Lars Wieneke, Bart Desmet, Gilles Jacobs, and Patrick Goethals*"
   ]
  },
  {
   "cell_type": "markdown",
   "metadata": {},
   "source": [
    "-------------------------------"
   ]
  },
  {
   "cell_type": "markdown",
   "metadata": {},
   "source": [
    "## First steps"
   ]
  },
  {
   "cell_type": "markdown",
   "metadata": {},
   "source": [
    "Everyone can learn how to program and the best way to learn it is by doing it. This course on Processing Language with Python for people with no prior programming experience is extremely hands-on: you will have to write a lot of code yourself from the very beginning onwards. For writing Python code in this tutorial, you can use the many 'code blocks' you will encounter, such as the grey block immediately below. Place your cursor inside this block and press `ctrl+enter` to \"run\" or execute the code. Let's begin right away: run your first little program!"
   ]
  },
  {
   "cell_type": "code",
   "execution_count": null,
   "metadata": {
    "collapsed": true
   },
   "outputs": [],
   "source": [
    "print(\"Hello world!\")"
   ]
  },
  {
   "cell_type": "markdown",
   "metadata": {},
   "source": [
    "* Can you adapt the code in this box yourself and make it print your own name?\n",
    "\n",
    "Apart from printing words to your screen, you can also use Python to do calculations. \n",
    "\n",
    "* Use the code block below to calculate how many minutes there are in seven weeks (hint: multiplication is done using the `*` symbol in Python.)\n"
   ]
  },
  {
   "cell_type": "code",
   "execution_count": null,
   "metadata": {
    "collapsed": true
   },
   "outputs": [],
   "source": [
    "# insert your own code here!\n"
   ]
  },
  {
   "cell_type": "markdown",
   "metadata": {},
   "source": [
    "Excellent! You have just written and executed your very first program! \n",
    "\n",
    "Note also that if a line starts with a hash this line is not part of the code but allows you to introduce additional comments: you will need these comments when you write more complex scripts!\n",
    "\n",
    "Please make sure to run *every single one* of the following code blocks in the same manner - otherwise a lot of the examples won't properly work.\n",
    "\n",
    "So far, we used only Python as a pretty minimalistic calculator, but there is more to discover. \n",
    "\n",
    "## Variables and values\n",
    "Imagine that we want to store the number we just calculated so we can use it later. To do this we need to 'assign' a name to a value using the = symbol. "
   ]
  },
  {
   "cell_type": "code",
   "execution_count": null,
   "metadata": {
    "collapsed": true
   },
   "outputs": [],
   "source": [
    "x = 5\n",
    "print(x)"
   ]
  },
  {
   "cell_type": "markdown",
   "metadata": {},
   "source": [
    "If you vaguely remember your math classes in school, this should look familiar. It is basically the same notation with the name of the variable on the left, the value on the right, and the = sign in the middle. \n",
    "\n",
    "In the code block above, two things happen. First, we fill `x` with a value, in our case `5`. This variable x behaves pretty much like a box in which to store something. We write an `x` with a thick, black marker on it, so we can find it back later. We then print the contents of this box, using the `print()` command. \n",
    "\n",
    "* Now copy the outcome of your code calculating the number of minutes in seven weeks and assign this number to `x`. Run the code again.\n",
    "\n",
    "The box metaphor for a variable goes a long way: in such a box you can put whatever value you want, e.g. the number of minutes in seven weeks. When you re-assign a variable, you remove the content of the box and  put something new in it. In Python, the term 'variable' refers to such a box, whereas the term 'value' refers to what is inside this box."
   ]
  },
  {
   "cell_type": "markdown",
   "metadata": {},
   "source": [
    "When we have stored values inside variables, we can do interesting things with these variables. You can, for instance, run the calculations in the block below to see the effect of the following five lines of code. Symbols like `=`, `+`, `-` , `/` `*` are called 'operators' in programming: they all provide a very basic functionality such as assigning values to variables or doing multiplication and subtraction.  "
   ]
  },
  {
   "cell_type": "code",
   "execution_count": null,
   "metadata": {
    "collapsed": true
   },
   "outputs": [],
   "source": [
    "x = 2\n",
    "print(x)\n",
    "print(x * x)\n",
    "print(x + x)\n",
    "print(x / x)\n",
    "print(x - 6)"
   ]
  },
  {
   "cell_type": "markdown",
   "metadata": {},
   "source": [
    "So far, we have only used a variable called `x`. Nevertheless, we are entirely free to change the names of our variables, as long as these names do not contain strange characters, such as spaces, dashes or punctuation marks. Underscores and numbers, however, are allowed inside names (so you cannot begin a variable name with them). In the following block, we assign the outcome of our calculation to a variable that has a more meaningful name than the abstract name `x`."
   ]
  },
  {
   "cell_type": "code",
   "execution_count": null,
   "metadata": {
    "collapsed": true
   },
   "outputs": [],
   "source": [
    "seconds_in_seven_weeks = 70560\n",
    "print(seconds_in_seven_weeks)"
   ]
  },
  {
   "cell_type": "markdown",
   "metadata": {},
   "source": [
    "In Python we can also copy the contents of a variable *into another variable*, which is what happens in the second line of the code block below. Each variable will always contain the value that you *last* assigned to it:"
   ]
  },
  {
   "cell_type": "code",
   "execution_count": null,
   "metadata": {
    "collapsed": true
   },
   "outputs": [],
   "source": [
    "first_number = 5\n",
    "second_number = first_number\n",
    "first_number = 3\n",
    "print(first_number)\n",
    "print(second_number)"
   ]
  },
  {
   "cell_type": "markdown",
   "metadata": {},
   "source": [
    "Variables are also case sensitive, so accessing *first_number* is not the same as *First_number*"
   ]
  },
  {
   "cell_type": "code",
   "execution_count": null,
   "metadata": {
    "collapsed": true
   },
   "outputs": [],
   "source": [
    "print(first_number)"
   ]
  },
  {
   "cell_type": "code",
   "execution_count": null,
   "metadata": {
    "collapsed": true
   },
   "outputs": [],
   "source": [
    "print(First_number)"
   ]
  },
  {
   "cell_type": "markdown",
   "metadata": {},
   "source": [
    "So far we have only assigned numbers such as `5` or `70560` to our variables. Such whole numbers are called 'integers' in programming, because they don't have any digits 'after the dot'.  Numbers that *do* have digits after the dot (e.g. `67.278` or `191.200`), are called 'floating-point numbers' in programming or simply 'floats'. Note that Python uses dots in floats, whereas some European languages use a comma here. Both integers and floats can be positive numbers (e.g. `70` or `4.36`) as well as negative numbers (e.g. `-70` or `4.36`). You can just as easily assign floats to variables:"
   ]
  },
  {
   "cell_type": "code",
   "execution_count": null,
   "metadata": {
    "collapsed": true
   },
   "outputs": [],
   "source": [
    "some_float = 23.987\n",
    "print(some_float)\n",
    "some_float = -4.56\n",
    "print(some_float)"
   ]
  },
  {
   "cell_type": "markdown",
   "metadata": {},
   "source": [
    "On the whole, the difference between integers and floats is of course important for divisions where you often end up with floats:"
   ]
  },
  {
   "cell_type": "code",
   "execution_count": null,
   "metadata": {
    "collapsed": true
   },
   "outputs": [],
   "source": [
    "x = 5/2\n",
    "print(x)"
   ]
  },
  {
   "cell_type": "markdown",
   "metadata": {},
   "source": [
    "You will undoubtedly remember from your math classes in high school that there is something called 'operator precedence', meaning that multiplication, for instance, will always be executed before subtraction. In Python you can explicitly set the order in which arithmetic operations are executed, using round brackets. Compare the following lines of code:"
   ]
  },
  {
   "cell_type": "code",
   "execution_count": null,
   "metadata": {
    "collapsed": true
   },
   "outputs": [],
   "source": [
    "nr1 = 10-2/4\n",
    "nr2 = (10-2)/4\n",
    "nr3 = 10-(2/4)\n",
    "print(nr1)\n",
    "print(nr2)\n",
    "print(nr3)"
   ]
  },
  {
   "cell_type": "markdown",
   "metadata": {},
   "source": [
    "Using the operators we have learned about above, we can change the variables in our code as many times as we want. We can assign new values to old variables, just like we can put new or more things in the boxes we already had. Say, for instance, that yesterday we counted how many books we have in our office and that we stored this count in our code as follows:"
   ]
  },
  {
   "cell_type": "code",
   "execution_count": null,
   "metadata": {
    "collapsed": true
   },
   "outputs": [],
   "source": [
    "number_of_books = 100"
   ]
  },
  {
   "cell_type": "markdown",
   "metadata": {},
   "source": [
    "Suppose that we buy a new book for the office today: we can now update our book count accordingly, by adding one to our previous count:"
   ]
  },
  {
   "cell_type": "code",
   "execution_count": null,
   "metadata": {
    "collapsed": true
   },
   "outputs": [],
   "source": [
    "number_of_books = number_of_books + 1\n",
    "print(number_of_books)"
   ]
  },
  {
   "cell_type": "markdown",
   "metadata": {},
   "source": [
    "Here, the value of variable `number_of_books` is changed by manipulating its previously stored value. This works because assignment goes from *right to left*. In other words, the part on the right of the assignment sign `=` is executed first (so the old value of `number_of_books` is retrieved and `1` is added), and then the result of this operation is assigned to the variable name on the left.\n",
    "\n",
    "Updates like these happen a lot. Python therefore provides a shortcut so you don't need to write the same variable name twice: you can write the same thing using `+=`."
   ]
  },
  {
   "cell_type": "code",
   "execution_count": null,
   "metadata": {
    "collapsed": true
   },
   "outputs": [],
   "source": [
    "number_of_books += 5\n",
    "print(number_of_books)"
   ]
  },
  {
   "cell_type": "markdown",
   "metadata": {},
   "source": [
    "This special shortcut (`+=`) is called an operator too. Apart from multiplication (`+=`), the operator has variants for subtraction (`-=`), multiplication (`*=`) and division (`/=`) too:"
   ]
  },
  {
   "cell_type": "code",
   "execution_count": null,
   "metadata": {
    "collapsed": true
   },
   "outputs": [],
   "source": [
    "number_of_books -= 5\n",
    "print(number_of_books)\n",
    "number_of_books *= 2\n",
    "print(number_of_books)\n",
    "number_of_books /= 2\n",
    "print(number_of_books)"
   ]
  },
  {
   "cell_type": "markdown",
   "metadata": {},
   "source": [
    "----------"
   ]
  },
  {
   "cell_type": "markdown",
   "metadata": {},
   "source": [
    "##### What we have learnt"
   ]
  },
  {
   "cell_type": "markdown",
   "metadata": {},
   "source": [
    "To finish this section, here is an overview of the concepts you have learnt. Go through the list and make sure you understand all the concepts.\n",
    "\n",
    "-  variable\n",
    "-  value\n",
    "-  assignment operator (`=`)\n",
    "-  difference between variables and values\n",
    "-  integers vs. floats\n",
    "-  operators for multiplication (`*`), subtraction (`-`), addition (`+`), division (`/`)\n",
    "-  the shortcut operators: `+=`, `-=`, `*=`, `/=`\n",
    "-  `print()`\n"
   ]
  },
  {
   "cell_type": "markdown",
   "metadata": {},
   "source": [
    "------"
   ]
  },
  {
   "cell_type": "markdown",
   "metadata": {},
   "source": [
    "## Text strings"
   ]
  },
  {
   "cell_type": "markdown",
   "metadata": {},
   "source": [
    "So far, we have only worked with variables that contain numbers (integers like `-5` or `72` or floats like `45.89` or `-5.609`). Note, however, that variables can also contain other things than numbers. It is likely that you will not be working primarily with numbers, but with texts. Quite naturally, this course will focus a lot on manipulating them. Have a look at the code block below, for instance. Here we put *text*, namely the title of a book, as a value inside the variable `book`. Then, we print what is inside the `book` variable."
   ]
  },
  {
   "cell_type": "code",
   "execution_count": null,
   "metadata": {
    "collapsed": true
   },
   "outputs": [],
   "source": [
    "book = \"The Lord of the Flies\"\n",
    "print(book)"
   ]
  },
  {
   "cell_type": "markdown",
   "metadata": {},
   "source": [
    "Such a piece of text (\"The Lord of the Flies\") is called a 'string' in Python (cf. a *string* or *series* of characters). Strings in Python must always be enclosed with 'quotes' (either single or double quotes). Without those quotes, Python will think it's dealing with the name of some variable that has been defined earlier, because variable names never take quotes. The following distinction is confusing, but extremely important: variable names (*without* quotes) and string values (*with* quotes) look similar, but they serve a completely different purpose. Compare:"
   ]
  },
  {
   "cell_type": "code",
   "execution_count": null,
   "metadata": {
    "collapsed": true
   },
   "outputs": [],
   "source": [
    "gender = \"male\"\n",
    "male = 14\n",
    "print(gender)\n",
    "print (\"male\")\n",
    "print(male)"
   ]
  },
  {
   "cell_type": "markdown",
   "metadata": {},
   "source": [
    "Some of the arithmetic operators we saw earlier can also be used to do useful things with strings. Both the multiplication operator (`*`) and the addition operator (`+`) provide interesting functionality for dealing with strings, as the block below illustrates.\n"
   ]
  },
  {
   "cell_type": "code",
   "execution_count": null,
   "metadata": {
    "collapsed": true
   },
   "outputs": [],
   "source": [
    "original_string = \"bla\"\n",
    "new_string = 2*original_string\n",
    "print(new_string)\n",
    "new_string = new_string+\"h\"\n",
    "print(new_string)"
   ]
  },
  {
   "cell_type": "markdown",
   "metadata": {},
   "source": [
    "Adding strings together is called 'string concatenation' or simply 'concatenation' in programming. Use the block below to find out whether you can also use the shortcut `+=` operator for adding an 'h' to the variable `original_string`. Don't forget to check the result that gets printed!"
   ]
  },
  {
   "cell_type": "code",
   "execution_count": null,
   "metadata": {
    "collapsed": true
   },
   "outputs": [],
   "source": [
    "original_string = \"blabla\"\n",
    "# manipulate original_string to add an 'h'...\n",
    "print(original_string)"
   ]
  },
  {
   "cell_type": "markdown",
   "metadata": {},
   "source": [
    "Note that there is no subtraction operator for strings. Try the following code and you will see a typical error code (and learn that you will spend most of your programming time solving errors):"
   ]
  },
  {
   "cell_type": "code",
   "execution_count": null,
   "metadata": {
    "collapsed": true
   },
   "outputs": [],
   "source": [
    "text = \"blabla\"\n",
    "text -= \"bla\""
   ]
  },
  {
   "cell_type": "markdown",
   "metadata": {},
   "source": [
    "Now we will write some code that defines variable file names. Let us say that the root of the filename is `Task1`. Now we will create a variable that defines the status of the file as `draft` or `revision` and we will add the `txt` extension. The result should be 'Task1_draft.txt' or 'Task1_revision.txt' "
   ]
  },
  {
   "cell_type": "code",
   "execution_count": null,
   "metadata": {
    "collapsed": true
   },
   "outputs": [],
   "source": [
    "file = \"Task1\"\n",
    "status = \"\"\n",
    "filename = ''"
   ]
  },
  {
   "cell_type": "markdown",
   "metadata": {},
   "source": [
    "Strings are called strings because they consist of a series (or 'string') of individual characters. We can access these individual characters in Python with the help of 'indexing', because each character in a string has a unique 'index'. To print the first letter of your name, you can type:"
   ]
  },
  {
   "cell_type": "code",
   "execution_count": null,
   "metadata": {
    "collapsed": true
   },
   "outputs": [],
   "source": [
    "name = \"\"\n",
    "first_letter = name[0]\n",
    "print(first_letter)"
   ]
  },
  {
   "cell_type": "markdown",
   "metadata": {},
   "source": [
    "![Indexes of the string Mr White starting with 0](images/string_index.png \"Python strings and indexes\")\n",
    "\n",
    "Take a look at the string \"Mr White\". We use the index `0` to access the first character in the string. This might seem odd, but  remember that all indexes in Python start at zero. Whenever you count in Python, you start at `0` instead of `1`. Note that the space character gets an index too, namely 2, because for a computer, a space is a character like any other. This is something you will have to get used to!\n",
    "\n",
    "Because you know the length of your name you can ask for its last letter: "
   ]
  },
  {
   "cell_type": "code",
   "execution_count": null,
   "metadata": {
    "collapsed": true
   },
   "outputs": [],
   "source": [
    "last_letter = name[x] # replace x with the last index of your name (tip: indexes start at 0)\n",
    "print(last_letter)"
   ]
  },
  {
   "cell_type": "markdown",
   "metadata": {},
   "source": [
    "It is rather inconvenient having to know how long our strings are if we want to find out what the last letter is. Python provides a simple way of accessing a string 'from the rear':"
   ]
  },
  {
   "cell_type": "code",
   "execution_count": null,
   "metadata": {
    "collapsed": true
   },
   "outputs": [],
   "source": [
    "last_letter = name[-1]\n",
    "print(last_letter)"
   ]
  },
  {
   "cell_type": "markdown",
   "metadata": {},
   "source": [
    "To access the last character in a string you have to use the index [-1]. Alternatively, there is the `len()` command which returns the length of a string:"
   ]
  },
  {
   "cell_type": "code",
   "execution_count": null,
   "metadata": {
    "collapsed": true
   },
   "outputs": [],
   "source": [
    "print(len(name))"
   ]
  },
  {
   "cell_type": "markdown",
   "metadata": {},
   "source": [
    "Remember the `len()` command, because it is very useful to get information and solve problems. It does not only work on strings, but on other data types as well, as we will see in future chapters. \n",
    "\n",
    "Do you understand the following code block? Can you explain what is happening?"
   ]
  },
  {
   "cell_type": "code",
   "execution_count": null,
   "metadata": {
    "collapsed": true
   },
   "outputs": [],
   "source": [
    "last_letter = name[len(name)-1]\n",
    "print(last_letter)"
   ]
  },
  {
   "cell_type": "markdown",
   "metadata": {},
   "source": [
    "Now can you write some code that defines a variable `penultimate_letter` and assigns to this variable the *second to last* letter of your name?"
   ]
  },
  {
   "cell_type": "code",
   "execution_count": null,
   "metadata": {
    "collapsed": true
   },
   "outputs": [],
   "source": [
    "penultimate_letter = name[# insert your code here]\n",
    "print(penultimate_letter)"
   ]
  },
  {
   "cell_type": "markdown",
   "metadata": {},
   "source": [
    "You're starting to become a real expert at indexing strings. Now what if we would like to find out what the last two or three letters of our name are? In Python we can use so-called 'slice indices' or 'slices' for short. To find the first two letters of our name we type in:"
   ]
  },
  {
   "cell_type": "code",
   "execution_count": null,
   "metadata": {
    "collapsed": true
   },
   "outputs": [],
   "source": [
    "first_two_letters = name[0:2]\n",
    "print(first_two_letters)"
   ]
  },
  {
   "cell_type": "markdown",
   "metadata": {},
   "source": [
    "The `0` index is optional, so we could just as well type in `name[:2]`. This says: take all characters of name until you reach index 2 (i.e. up to but excluding the third letter). We can also start at index 2 and leave the end index unspecified:"
   ]
  },
  {
   "cell_type": "code",
   "execution_count": null,
   "metadata": {
    "collapsed": true
   },
   "outputs": [],
   "source": [
    "without_first_two_letters = name[2:]\n",
    "print(without_first_two_letters)"
   ]
  },
  {
   "cell_type": "markdown",
   "metadata": {},
   "source": [
    "Because we did not specify the end index, Python continues until it reaches the end of our string. If we would like to find out what the last two letters of our name are, we can type in:"
   ]
  },
  {
   "cell_type": "code",
   "execution_count": null,
   "metadata": {
    "collapsed": true
   },
   "outputs": [],
   "source": [
    "last_two_letters = name[-2:]\n",
    "print(last_two_letters)"
   ]
  },
  {
   "cell_type": "markdown",
   "metadata": {},
   "source": [
    "Slicing can be pretty confusing at first, mainly for two reasons:\n",
    "* indices start at 0, so it's easy to make mistakes by starting your count from 1\n",
    "* slices end *before* the last index you specify (i.e. from first index up to and *excluding* the last index)\n",
    "It's normal to make mistakes. Just make sure that you check and debug your slices by printing them, and you will get the hang of it soon enough. You will need to use slices on other things than strings in later chapters, but the principles stay the same."
   ]
  },
  {
   "cell_type": "markdown",
   "metadata": {},
   "source": [
    "-------"
   ]
  },
  {
   "cell_type": "markdown",
   "metadata": {},
   "source": [
    "## DIY"
   ]
  },
  {
   "cell_type": "markdown",
   "metadata": {},
   "source": [
    "- Can you cut the filename into pieces and define two variables `name` and `extension` to which you assign the respective values?"
   ]
  },
  {
   "cell_type": "code",
   "execution_count": null,
   "metadata": {
    "collapsed": true
   },
   "outputs": [],
   "source": [
    "filename = \"Task01.txt\"\n",
    "name = \n",
    "extension =\n",
    "print(name)\n",
    "print(extension)"
   ]
  },
  {
   "cell_type": "markdown",
   "metadata": {},
   "source": [
    "- If you know that all the names end by two digits, can you then also separate the 'root' name and the number?"
   ]
  },
  {
   "cell_type": "code",
   "execution_count": null,
   "metadata": {
    "collapsed": true
   },
   "outputs": [],
   "source": [
    "root = \n",
    "number ="
   ]
  },
  {
   "cell_type": "markdown",
   "metadata": {},
   "source": [
    "- Given the following two words, can you write code that prints out the word *humanities* using only slicing and concatenation? (So, no quotes are allowed in your code.) Can you print out how many characters the word *humanities* contains?"
   ]
  },
  {
   "cell_type": "code",
   "execution_count": null,
   "metadata": {
    "collapsed": true
   },
   "outputs": [],
   "source": [
    "word1 = \"human\"\n",
    "word2 = \"opportunities\""
   ]
  },
  {
   "cell_type": "markdown",
   "metadata": {},
   "source": [
    "---------\n",
    "\n",
    "## \"Casting\" variables"
   ]
  },
  {
   "cell_type": "markdown",
   "metadata": {},
   "source": [
    "Above, we have already learned that each variable has a data type: variables can be strings, floats, integers, etc. Sometimes it is necessary to convert one type into the other. Consider this:"
   ]
  },
  {
   "cell_type": "code",
   "execution_count": null,
   "metadata": {
    "collapsed": true
   },
   "outputs": [],
   "source": [
    "x = \"5\"\n",
    "y = 2\n",
    "print(x + y)"
   ]
  },
  {
   "cell_type": "markdown",
   "metadata": {},
   "source": [
    "This should raise an error on your machine: does the error message gives you a hint as to why this does not work? *x* is a string, and *y* is an integer. Because of this, you cannot sum them. Luckily there exist ways to 'cast' variables from one type of variable into another type of variable.\n",
    "\n",
    "- Do you understand the outcome of the following code?\n",
    "- Can you comment in your own words on the effect of applying `int()` and `str()` to variables?"
   ]
  },
  {
   "cell_type": "code",
   "execution_count": null,
   "metadata": {
    "collapsed": true
   },
   "outputs": [],
   "source": [
    "x = \"5\"\n",
    "y = 2\n",
    "print(x + str(y))\n",
    "print(int(x) + y)"
   ]
  },
  {
   "cell_type": "markdown",
   "metadata": {},
   "source": [
    "Casting is often necessary: it could be for example that you are reading numbers from a file (as strings) that you want to do calculations with. In that case you would need to cast the strings as integers (with `int()`) or as floats (with `float()`). Likewise, you sometimes need to write numbers to a file or print them to the screen together with text. In that case, you will often need to cast them as strings with `str()`, because Python will complain that it does not know how to combine a number with a string."
   ]
  },
  {
   "cell_type": "markdown",
   "metadata": {},
   "source": [
    "Let's go back to the filename example 'Task1' (with one digit to avoid further complications for the moment). Now we want to create a new filename that is one number higher than the original file name. How could we do that? Note: you will have to cast the value two times!"
   ]
  },
  {
   "cell_type": "code",
   "execution_count": null,
   "metadata": {
    "collapsed": true
   },
   "outputs": [],
   "source": [
    "file_or = \"Task1\"\n",
    "root = \n",
    "number =\n",
    "number_new = \n",
    "file_new = \n",
    "print(file_new)"
   ]
  },
  {
   "cell_type": "markdown",
   "metadata": {},
   "source": [
    "Other types of conversions are possible as well, and we will see a couple of them in the next chapters. Because variables can change data type anytime they want, we say that Python uses 'dynamic typing', as opposed to other more 'strict' languages that use 'strong typing'. You can check a variable's type using the `type()` command:"
   ]
  },
  {
   "cell_type": "code",
   "execution_count": null,
   "metadata": {
    "collapsed": true
   },
   "outputs": [],
   "source": [
    "x = \"5\"\n",
    "y = 2\n",
    "print(type(x))\n",
    "print(type(y))"
   ]
  },
  {
   "cell_type": "markdown",
   "metadata": {},
   "source": [
    "## INPUT FIELDS\n",
    "\n",
    "A pleasant way to introduce an interactive dimension in your scripts is by using input fields. Run the code below and see what happens."
   ]
  },
  {
   "cell_type": "code",
   "execution_count": null,
   "metadata": {
    "collapsed": true
   },
   "outputs": [],
   "source": [
    "naam = input (\"What is your name?\")\n",
    "print('Hello, ' + naam + '!')"
   ]
  },
  {
   "cell_type": "markdown",
   "metadata": {},
   "source": [
    "## COMMENTS"
   ]
  },
  {
   "cell_type": "markdown",
   "metadata": {},
   "source": [
    "When you exchange code with fellow programmers (as you will often have to do in the real world), it is really helpful if you include some useful information about your scripts. It is also useful for you, to add information about what your code is meant to do. Have a look at the code block below and read about `commenting` on Python code in the comments:"
   ]
  },
  {
   "cell_type": "code",
   "execution_count": null,
   "metadata": {
    "collapsed": true
   },
   "outputs": [],
   "source": [
    "# Have you noticed that everything behind the hashtag \n",
    "print(\"Something...\") # on a line is ignored by your python interpreter?\n",
    "print(\"and something else..\") # this is really helpful to comment on your code!\n",
    "\"\"\"Another way\n",
    "of commenting on your code is via \n",
    "triple quotes -- these can be distributed over multiple \"\"\" # lines\n",
    "print(\"Done.\")"
   ]
  },
  {
   "cell_type": "markdown",
   "metadata": {},
   "source": [
    "So, how many ways are there to comment on your code in Python? "
   ]
  },
  {
   "cell_type": "markdown",
   "metadata": {},
   "source": [
    "----------"
   ]
  },
  {
   "cell_type": "markdown",
   "metadata": {},
   "source": [
    "##### What we have learnt"
   ]
  },
  {
   "cell_type": "markdown",
   "metadata": {},
   "source": [
    "To finish this section, here is an overview of what we have learnt. Go through the list and make sure you understand all the concepts.\n",
    "\n",
    "-  string concatenation\n",
    "-  index\n",
    "-  slicing\n",
    "- `zero-indexed` numbering\n",
    "-  `len()`\n",
    "-  type casting: `int()` and `str()`\n",
    "-  `type()`\n",
    "-  code commenting via hashtags and triple double quotes\n"
   ]
  },
  {
   "cell_type": "markdown",
   "metadata": {},
   "source": [
    "-----------------------\n",
    "\n",
    "You've reached the end of Chapter 1! You can safely ignore the code block below -- it's only there to make the page prettier."
   ]
  },
  {
   "cell_type": "code",
   "execution_count": null,
   "metadata": {
    "collapsed": true
   },
   "outputs": [],
   "source": [
    "from IPython.core.display import HTML\n",
    "def css_styling():\n",
    "    styles = open(\"styles/custom.css\", \"r\").read()\n",
    "    return HTML(styles)\n",
    "css_styling()"
   ]
  },
  {
   "cell_type": "code",
   "execution_count": null,
   "metadata": {
    "collapsed": true
   },
   "outputs": [],
   "source": []
  }
 ],
 "metadata": {
  "kernelspec": {
   "display_name": "Python 3",
   "language": "python",
   "name": "python3"
  },
  "language_info": {
   "codemirror_mode": {
    "name": "ipython",
    "version": 3
   },
   "file_extension": ".py",
   "mimetype": "text/x-python",
   "name": "python",
   "nbconvert_exporter": "python",
   "pygments_lexer": "ipython3",
   "version": "3.6.1"
  }
 },
 "nbformat": 4,
 "nbformat_minor": 1
}
